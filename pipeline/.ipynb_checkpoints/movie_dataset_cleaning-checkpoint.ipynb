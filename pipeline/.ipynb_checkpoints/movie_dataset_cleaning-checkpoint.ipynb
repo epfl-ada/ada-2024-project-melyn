{
 "cells": [
  {
   "cell_type": "code",
   "execution_count": 710,
   "id": "b6362528-da75-442b-bc2e-223ff687027e",
   "metadata": {},
   "outputs": [],
   "source": [
    "import seaborn as sns\n",
    "import pandas as pd\n",
    "import matplotlib.pyplot as plt\n",
    "import numpy as np\n",
    "import os\n",
    "import sys\n",
    "import pickle"
   ]
  },
  {
   "cell_type": "code",
   "execution_count": 711,
   "id": "132e7dba-bb49-4eda-9ae5-e2d4823e46ee",
   "metadata": {},
   "outputs": [],
   "source": [
    "folder = '../data/CMU/'\n",
    "pickle_folder = \"../data/pickle/\""
   ]
  },
  {
   "cell_type": "code",
   "execution_count": 712,
   "id": "86b69126-1e8d-42e7-8155-804a082fcbc2",
   "metadata": {},
   "outputs": [],
   "source": [
    "movie_original_data = pd.read_csv(folder + 'movie.metadata.tsv' ,sep='\\t',names=['Wikipedia_movie_ID',\n",
    "'Freebase_movie_ID',\n",
    "'Movie_name',\n",
    "'Movie_release_date',\n",
    "'Movie_box_office_revenue',\n",
    "'Movie_runtime',\n",
    "'Movie_languages_(Freebase_ID:name_tuples)',\n",
    "'Movie_countries_(Freebase_ID:name_tuples)',\n",
    "'Movie_genres_(Freebase_ID:name_tuples)'])"
   ]
  },
  {
   "cell_type": "markdown",
   "id": "b14d4b43-86e9-466b-9d73-8128a17f3561",
   "metadata": {},
   "source": [
    "# Movie Dataset Cleaning"
   ]
  },
  {
   "cell_type": "markdown",
   "id": "ba266d17-3059-4c6c-9dcb-ad4fff77f6f8",
   "metadata": {},
   "source": [
    "- First, we will keep our focus on cleaning the \"movie.metadata\" dataset. \n",
    "The goal is to do a deep review of the whole dataset, have a good understanding of the missing data for each relevant feature for our study and to have a cleaned version ready for Milestone 3."
   ]
  },
  {
   "cell_type": "code",
   "execution_count": 713,
   "id": "f3a4a93f-cc15-4af3-8f0e-3b0cd99352bb",
   "metadata": {
    "scrolled": true
   },
   "outputs": [],
   "source": [
    "movies = movie_original_data.copy()"
   ]
  },
  {
   "cell_type": "code",
   "execution_count": 714,
   "id": "bb72a087-54ec-4eb3-9b05-ddb1a7f18948",
   "metadata": {},
   "outputs": [
    {
     "name": "stdout",
     "output_type": "stream",
     "text": [
      "The original number of movie in movie.metadata dataset is : 81741\n"
     ]
    }
   ],
   "source": [
    "print(\"The original number of movie in movie.metadata dataset is : {}\".format(movies.shape[0]))"
   ]
  },
  {
   "cell_type": "markdown",
   "id": "b39fa432-dad8-4634-82e0-f570a3f08060",
   "metadata": {},
   "source": [
    "## 1. Dropping invalid values for Movie box office revenue"
   ]
  },
  {
   "cell_type": "markdown",
   "id": "875d3646-8770-4e77-aa42-0be7dfb1a187",
   "metadata": {},
   "source": [
    "- Most important, because our main question is focusing on the implications of characteristics on the overall box office performance of movies, the first goal is to drop all the movie lines where the box office is not detailed. "
   ]
  },
  {
   "cell_type": "code",
   "execution_count": 715,
   "id": "5f0399bd-e923-4ea7-a50c-fb7909c607e6",
   "metadata": {},
   "outputs": [],
   "source": [
    "movies_with_box_office = movies.dropna(subset=['Movie_box_office_revenue'])"
   ]
  },
  {
   "cell_type": "code",
   "execution_count": 716,
   "id": "4087f651-07b3-42b3-b35f-ee0c864d3fc3",
   "metadata": {},
   "outputs": [
    {
     "name": "stdout",
     "output_type": "stream",
     "text": [
      "The number of movie with a valid value for the box office revenue in movie.metadata dataset :\n",
      " 8401\n"
     ]
    }
   ],
   "source": [
    "print(\"The number of movie with a valid value for the box office revenue in movie.metadata dataset :\\n {}\".format(movies_with_box_office.shape[0]))"
   ]
  },
  {
   "cell_type": "markdown",
   "id": "dd012ac4-e1e3-49d3-b845-c48b4d020a0e",
   "metadata": {},
   "source": [
    "- We notice that dropping all the movies without a valid box office revenue value reduces the size of the dataframe by a factor of almost 10. Hence, we think that we should take another criteria to complete the evaluation of the success of movies. That was the main reason that pushed us to study the imdb dataset and its ratings."
   ]
  },
  {
   "cell_type": "markdown",
   "id": "1e2c05c4-9aa8-4019-a42f-c61a6dd09393",
   "metadata": {},
   "source": [
    "##  2. Cleaning Features"
   ]
  },
  {
   "cell_type": "markdown",
   "id": "cc5a5b71-6fa7-4c95-82ce-2fa0ad351220",
   "metadata": {},
   "source": [
    "- Before starting the analysis of the features relevant to our project, we will drop the columns that are irrelevant to us or that we don’t intend to use, to avoid being overwhelmed by unnecessary information when printing the data frames."
   ]
  },
  {
   "cell_type": "code",
   "execution_count": 717,
   "id": "14db430f-4000-46fa-b1e7-35b1dfaa01ca",
   "metadata": {},
   "outputs": [
    {
     "data": {
      "text/html": [
       "<div>\n",
       "<style scoped>\n",
       "    .dataframe tbody tr th:only-of-type {\n",
       "        vertical-align: middle;\n",
       "    }\n",
       "\n",
       "    .dataframe tbody tr th {\n",
       "        vertical-align: top;\n",
       "    }\n",
       "\n",
       "    .dataframe thead th {\n",
       "        text-align: right;\n",
       "    }\n",
       "</style>\n",
       "<table border=\"1\" class=\"dataframe\">\n",
       "  <thead>\n",
       "    <tr style=\"text-align: right;\">\n",
       "      <th></th>\n",
       "      <th>Wikipedia_movie_ID</th>\n",
       "      <th>Movie_name</th>\n",
       "      <th>Movie_release_date</th>\n",
       "      <th>Movie_box_office_revenue</th>\n",
       "      <th>Movie_languages_(Freebase_ID:name_tuples)</th>\n",
       "      <th>Movie_countries_(Freebase_ID:name_tuples)</th>\n",
       "      <th>Movie_genres_(Freebase_ID:name_tuples)</th>\n",
       "    </tr>\n",
       "  </thead>\n",
       "  <tbody>\n",
       "    <tr>\n",
       "      <th>63189</th>\n",
       "      <td>10368207</td>\n",
       "      <td>Phir Wohi Dil Laya Hoon</td>\n",
       "      <td>1963</td>\n",
       "      <td>NaN</td>\n",
       "      <td>{\"/m/03k50\": \"Hindi Language\"}</td>\n",
       "      <td>{\"/m/03rk0\": \"India\"}</td>\n",
       "      <td>{\"/m/02l7c8\": \"Romance Film\", \"/m/04t36\": \"Mus...</td>\n",
       "    </tr>\n",
       "    <tr>\n",
       "      <th>16385</th>\n",
       "      <td>24318707</td>\n",
       "      <td>Sura</td>\n",
       "      <td>2009</td>\n",
       "      <td>NaN</td>\n",
       "      <td>{\"/m/07c9s\": \"Tamil Language\"}</td>\n",
       "      <td>{\"/m/03rk0\": \"India\"}</td>\n",
       "      <td>{\"/m/02kdv5l\": \"Action\"}</td>\n",
       "    </tr>\n",
       "    <tr>\n",
       "      <th>4180</th>\n",
       "      <td>5664063</td>\n",
       "      <td>Recess: Taking the Fifth Grade</td>\n",
       "      <td>2003-12-09</td>\n",
       "      <td>NaN</td>\n",
       "      <td>{\"/m/02h40lc\": \"English Language\"}</td>\n",
       "      <td>{\"/m/09c7w0\": \"United States of America\"}</td>\n",
       "      <td>{\"/m/0hqxf\": \"Family Film\", \"/m/01z4y\": \"Comed...</td>\n",
       "    </tr>\n",
       "    <tr>\n",
       "      <th>44992</th>\n",
       "      <td>9397049</td>\n",
       "      <td>Outcast of the Islands</td>\n",
       "      <td>1952</td>\n",
       "      <td>NaN</td>\n",
       "      <td>{\"/m/02h40lc\": \"English Language\"}</td>\n",
       "      <td>{\"/m/07ssc\": \"United Kingdom\"}</td>\n",
       "      <td>{\"/m/07s9rl0\": \"Drama\", \"/m/03k9fj\": \"Adventure\"}</td>\n",
       "    </tr>\n",
       "    <tr>\n",
       "      <th>54238</th>\n",
       "      <td>19592948</td>\n",
       "      <td>Hum Dono</td>\n",
       "      <td>1985</td>\n",
       "      <td>NaN</td>\n",
       "      <td>{\"/m/03k50\": \"Hindi Language\"}</td>\n",
       "      <td>{\"/m/03rk0\": \"India\"}</td>\n",
       "      <td>{\"/m/02l7c8\": \"Romance Film\", \"/m/0hqxf\": \"Fam...</td>\n",
       "    </tr>\n",
       "  </tbody>\n",
       "</table>\n",
       "</div>"
      ],
      "text/plain": [
       "       Wikipedia_movie_ID                      Movie_name Movie_release_date  \\\n",
       "63189            10368207         Phir Wohi Dil Laya Hoon               1963   \n",
       "16385            24318707                            Sura               2009   \n",
       "4180              5664063  Recess: Taking the Fifth Grade         2003-12-09   \n",
       "44992             9397049          Outcast of the Islands               1952   \n",
       "54238            19592948                        Hum Dono               1985   \n",
       "\n",
       "       Movie_box_office_revenue Movie_languages_(Freebase_ID:name_tuples)  \\\n",
       "63189                       NaN            {\"/m/03k50\": \"Hindi Language\"}   \n",
       "16385                       NaN            {\"/m/07c9s\": \"Tamil Language\"}   \n",
       "4180                        NaN        {\"/m/02h40lc\": \"English Language\"}   \n",
       "44992                       NaN        {\"/m/02h40lc\": \"English Language\"}   \n",
       "54238                       NaN            {\"/m/03k50\": \"Hindi Language\"}   \n",
       "\n",
       "       Movie_countries_(Freebase_ID:name_tuples)  \\\n",
       "63189                      {\"/m/03rk0\": \"India\"}   \n",
       "16385                      {\"/m/03rk0\": \"India\"}   \n",
       "4180   {\"/m/09c7w0\": \"United States of America\"}   \n",
       "44992             {\"/m/07ssc\": \"United Kingdom\"}   \n",
       "54238                      {\"/m/03rk0\": \"India\"}   \n",
       "\n",
       "                  Movie_genres_(Freebase_ID:name_tuples)  \n",
       "63189  {\"/m/02l7c8\": \"Romance Film\", \"/m/04t36\": \"Mus...  \n",
       "16385                           {\"/m/02kdv5l\": \"Action\"}  \n",
       "4180   {\"/m/0hqxf\": \"Family Film\", \"/m/01z4y\": \"Comed...  \n",
       "44992  {\"/m/07s9rl0\": \"Drama\", \"/m/03k9fj\": \"Adventure\"}  \n",
       "54238  {\"/m/02l7c8\": \"Romance Film\", \"/m/0hqxf\": \"Fam...  "
      ]
     },
     "execution_count": 717,
     "metadata": {},
     "output_type": "execute_result"
    }
   ],
   "source": [
    "movies_clean = movies.drop(columns=['Freebase_movie_ID','Movie_runtime'])\n",
    "movies_clean.sample(5)"
   ]
  },
  {
   "cell_type": "markdown",
   "id": "9ff4325d-fee5-4500-8925-e89e04e4f6e6",
   "metadata": {},
   "source": [
    "###  2.1. Cleaning the Dates"
   ]
  },
  {
   "cell_type": "markdown",
   "id": "7b169a64-08d0-44a0-89b9-9b3fc6207efd",
   "metadata": {},
   "source": [
    "- First, we saw that for the movie \"Hunting Season\" the release date written was \"1010-12-02\" but the real release date is  \"2010-12-02\" :"
   ]
  },
  {
   "cell_type": "code",
   "execution_count": 718,
   "id": "509341c0-3618-454d-a37b-477abde74178",
   "metadata": {},
   "outputs": [
    {
     "data": {
      "text/html": [
       "<div>\n",
       "<style scoped>\n",
       "    .dataframe tbody tr th:only-of-type {\n",
       "        vertical-align: middle;\n",
       "    }\n",
       "\n",
       "    .dataframe tbody tr th {\n",
       "        vertical-align: top;\n",
       "    }\n",
       "\n",
       "    .dataframe thead th {\n",
       "        text-align: right;\n",
       "    }\n",
       "</style>\n",
       "<table border=\"1\" class=\"dataframe\">\n",
       "  <thead>\n",
       "    <tr style=\"text-align: right;\">\n",
       "      <th></th>\n",
       "      <th>Wikipedia_movie_ID</th>\n",
       "      <th>Movie_name</th>\n",
       "      <th>Movie_release_date</th>\n",
       "      <th>Movie_box_office_revenue</th>\n",
       "      <th>Movie_languages_(Freebase_ID:name_tuples)</th>\n",
       "      <th>Movie_countries_(Freebase_ID:name_tuples)</th>\n",
       "      <th>Movie_genres_(Freebase_ID:name_tuples)</th>\n",
       "    </tr>\n",
       "  </thead>\n",
       "  <tbody>\n",
       "    <tr>\n",
       "      <th>62836</th>\n",
       "      <td>29666067</td>\n",
       "      <td>Hunting Season</td>\n",
       "      <td>1010-12-02</td>\n",
       "      <td>12160978.0</td>\n",
       "      <td>{\"/m/02hwyss\": \"Turkish Language\", \"/m/02h40lc...</td>\n",
       "      <td>{\"/m/01znc_\": \"Turkey\"}</td>\n",
       "      <td>{\"/m/0lsxr\": \"Crime Fiction\", \"/m/02n4kr\": \"My...</td>\n",
       "    </tr>\n",
       "  </tbody>\n",
       "</table>\n",
       "</div>"
      ],
      "text/plain": [
       "       Wikipedia_movie_ID      Movie_name Movie_release_date  \\\n",
       "62836            29666067  Hunting Season         1010-12-02   \n",
       "\n",
       "       Movie_box_office_revenue  \\\n",
       "62836                12160978.0   \n",
       "\n",
       "               Movie_languages_(Freebase_ID:name_tuples)  \\\n",
       "62836  {\"/m/02hwyss\": \"Turkish Language\", \"/m/02h40lc...   \n",
       "\n",
       "      Movie_countries_(Freebase_ID:name_tuples)  \\\n",
       "62836                   {\"/m/01znc_\": \"Turkey\"}   \n",
       "\n",
       "                  Movie_genres_(Freebase_ID:name_tuples)  \n",
       "62836  {\"/m/0lsxr\": \"Crime Fiction\", \"/m/02n4kr\": \"My...  "
      ]
     },
     "execution_count": 718,
     "metadata": {},
     "output_type": "execute_result"
    }
   ],
   "source": [
    "movies_clean.loc[movies['Movie_name'] == 'Hunting Season']"
   ]
  },
  {
   "cell_type": "markdown",
   "id": "a1409b21-1e59-4b25-afe9-7141d721d56c",
   "metadata": {},
   "source": [
    "Hence, we modified this value by the true one : "
   ]
  },
  {
   "cell_type": "code",
   "execution_count": 719,
   "id": "a98bd650-0563-46b0-ba3b-adf8006f62bc",
   "metadata": {},
   "outputs": [
    {
     "name": "stdout",
     "output_type": "stream",
     "text": [
      "2010-12-02\n"
     ]
    }
   ],
   "source": [
    "movies_clean.loc[62836, 'Movie_release_date'] = '2010-12-02'\n",
    "print(movies_clean.loc[62836, 'Movie_release_date'])"
   ]
  },
  {
   "cell_type": "markdown",
   "id": "836b2996-a5a7-451a-846e-c11cf3cf10db",
   "metadata": {},
   "source": [
    "- Drop all the movies where no release date are written"
   ]
  },
  {
   "cell_type": "code",
   "execution_count": 720,
   "id": "2690520c-f1dd-4e5c-912c-7b72b72b0de3",
   "metadata": {},
   "outputs": [],
   "source": [
    "movies_clean = movies_clean.dropna(inplace = False, subset = 'Movie_release_date').copy()"
   ]
  },
  {
   "cell_type": "code",
   "execution_count": 721,
   "id": "3e8506ea-3a1c-4973-9d62-d1f3c2180c35",
   "metadata": {},
   "outputs": [
    {
     "data": {
      "text/plain": [
       "74839"
      ]
     },
     "execution_count": 721,
     "metadata": {},
     "output_type": "execute_result"
    }
   ],
   "source": [
    "movies_clean.shape[0]"
   ]
  },
  {
   "cell_type": "markdown",
   "id": "c5dba24f-f6f7-4930-8440-89a304258f33",
   "metadata": {},
   "source": [
    "- Create a column 'Year' where we only have the released year of the movie (to do year by year analysis) : "
   ]
  },
  {
   "cell_type": "code",
   "execution_count": 722,
   "id": "b4ee2eb6-111d-4576-bebf-29a8d5ce1397",
   "metadata": {},
   "outputs": [],
   "source": [
    "movies_clean['Year'] = movies_clean['Movie_release_date'].str[:4]\n",
    "movies_clean['Year'] = movies_clean['Year'].astype(int)"
   ]
  },
  {
   "cell_type": "markdown",
   "id": "3198b19c-0b93-4aae-a44c-2afafb2a1892",
   "metadata": {},
   "source": [
    "- For our study, in addition to analyzing the dataset year by year, we decided to conduct an analysis across six different intervals of approximately 20 years each, spanning from 1910 to 2016. We decided to restrain ourself to that particular period because of the lack of meaningful data befor the 1910 decade.\n",
    "- We created a 'Year_Interval' column in which each film is categorized into one of the six designated study intervals.\n",
    "- Finally, we save our new version of the movies dataset with these new columns"
   ]
  },
  {
   "cell_type": "code",
   "execution_count": 723,
   "id": "27c6719f-3426-440a-9938-258d47450d50",
   "metadata": {},
   "outputs": [],
   "source": [
    "intervals = [(1910, 1930), (1930, 1950), (1950, 1970), (1970, 1990), (1990, 2016)]\n",
    "movies_clean['Year_Interval'] = pd.cut(movies_clean['Year'], bins=[1910, 1930, 1950, 1970, 1990, 2016], labels=['1910-1930', '1930-1950', '1950-1970', '1970-1990', '1990-2016'])\n",
    "movies_clean['Year_Interval'] = movies_clean['Year_Interval'].astype(str)\n",
    "\n",
    "movies_clean = movies_clean.query(\" 2016 > Year > 1910\")\n",
    "\n",
    "pickle.dump( movies_clean, open(pickle_folder + \"movies_clean.p\", \"wb\" ) )"
   ]
  },
  {
   "cell_type": "markdown",
   "id": "74e438b3-c4ba-4fd7-8af6-d0e720b08b4d",
   "metadata": {},
   "source": [
    "- Now, because we will also do some analysis using the seasons (summer, winter, fall, spring) of movies' release date. We create another DataFrame, in which each movie with a specified release date is categorized by the season in which it was released.\n",
    "- We also save this Dataframe creating a second version of our clean dataset. We prefer to have these rather than just merging the two and keeping only one because the creation of the 'release_season' excludes all the movies for which we don't have information about the month of release"
   ]
  },
  {
   "cell_type": "code",
   "execution_count": 724,
   "id": "e48b16d6-7adb-44de-aeeb-6617842faa92",
   "metadata": {},
   "outputs": [],
   "source": [
    "project_root = os.path.abspath(os.path.join(os.getcwd(), '..'))\n",
    "sys.path.append(project_root)\n",
    "\n",
    "from src.utils.utils import categorize_release_season"
   ]
  },
  {
   "cell_type": "code",
   "execution_count": 725,
   "id": "dee09238-ce78-4074-a7d7-69983e742091",
   "metadata": {},
   "outputs": [],
   "source": [
    "md_release_season = movies_clean.copy()\n",
    "md_release_season['Movie_release_date'] = pd.to_datetime(md_release_season['Movie_release_date'], errors='coerce')\n",
    "md_release_season.dropna(subset = 'Movie_release_date', inplace = True)"
   ]
  },
  {
   "cell_type": "code",
   "execution_count": 726,
   "id": "2348d87b-aef9-47aa-a41b-1ef637fcbe68",
   "metadata": {},
   "outputs": [
    {
     "data": {
      "text/plain": [
       "39217"
      ]
     },
     "execution_count": 726,
     "metadata": {},
     "output_type": "execute_result"
    }
   ],
   "source": [
    "md_release_season['release_season'] = md_release_season['Movie_release_date'].apply(categorize_release_season)\n",
    "md_release_season.shape[0]"
   ]
  },
  {
   "cell_type": "code",
   "execution_count": 727,
   "id": "9d66d480-9e12-4f20-921a-a33703d5c6ff",
   "metadata": {},
   "outputs": [],
   "source": [
    "md_release_season\n",
    "pickle.dump( md_release_season, open(pickle_folder + \"movies_clean_with_season.p\", \"wb\" ) )"
   ]
  },
  {
   "cell_type": "markdown",
   "id": "5457a2f6-1af5-4953-9ab3-f44afdc94442",
   "metadata": {},
   "source": [
    "### 2.2. Clean 'Genres' Column "
   ]
  },
  {
   "cell_type": "markdown",
   "id": "abd08079-85e5-4590-b204-efb3b2a30d57",
   "metadata": {},
   "source": [
    "- The ‘genres’ characteristic is among the key features to answer our general question. However, we noticed that in the movies.metadata dataset, this feature was presented in a (Freebase_ID:name_tuples) format, and thus wasn’t very clear and understandable. That is why we decided to reformat the ‘genres’ feature.\n",
    "- We dropped all the movies that have no information about their genres (more than 1700)"
   ]
  },
  {
   "cell_type": "code",
   "execution_count": 728,
   "id": "233da98c-6004-4f8b-b7fe-69102dcf65c1",
   "metadata": {},
   "outputs": [
    {
     "name": "stdout",
     "output_type": "stream",
     "text": [
      "Number of movies dropped : 1760\n"
     ]
    }
   ],
   "source": [
    "from importlib import reload\n",
    "import src.utils.utils\n",
    "reload(src.utils.utils)\n",
    "from src.utils.utils import extract_info\n",
    "\n",
    "column_name = 'Movie_genres_(Freebase_ID:name_tuples)' \n",
    "\n",
    "md_Genres = movies_clean.copy()\n",
    "md_Genres[\"Genres\"] = md_Genres[column_name].apply(extract_info)\n",
    "\n",
    "len_before = len(md_Genres['Genres'])\n",
    "md_Genres = md_Genres[md_Genres['Genres'].apply(lambda x: len(x) > 0)]\n",
    "len_after = len(md_Genres['Genres'])\n",
    "print(f\"Number of movies dropped : {len_before-len_after}\")"
   ]
  },
  {
   "cell_type": "markdown",
   "id": "b94a1ec8-f76a-4acd-8b61-b2acc3e7e50a",
   "metadata": {},
   "source": [
    "- We splits the \"Genres\" column into a new DataFrame, expanding lists into separate columns. We calculates the number of genres for each entry and adds this count as a new column. As we can see when using the describe() method, each movie has 3 'Genres' in average."
   ]
  },
  {
   "cell_type": "code",
   "execution_count": 729,
   "id": "fc856957-629a-44c3-b249-0a1a38360001",
   "metadata": {},
   "outputs": [
    {
     "data": {
      "text/plain": [
       "count    72688.000000\n",
       "mean         3.174018\n",
       "std          2.107443\n",
       "min          1.000000\n",
       "25%          1.000000\n",
       "50%          3.000000\n",
       "75%          4.000000\n",
       "max         17.000000\n",
       "Name: nb_of_Genres, dtype: float64"
      ]
     },
     "execution_count": 729,
     "metadata": {},
     "output_type": "execute_result"
    }
   ],
   "source": [
    "genres_split = pd.DataFrame(md_Genres[\"Genres\"].tolist(), index=md_Genres.index)\n",
    "\n",
    "md_Genres['nb_of_Genres'] = md_Genres[\"Genres\"].apply(lambda x:len(x))\n",
    "md_Genres['nb_of_Genres'].describe()"
   ]
  },
  {
   "cell_type": "code",
   "execution_count": 730,
   "id": "a377ce8d-1912-45e4-82b3-72fa5729983b",
   "metadata": {},
   "outputs": [
    {
     "data": {
      "text/html": [
       "<div>\n",
       "<style scoped>\n",
       "    .dataframe tbody tr th:only-of-type {\n",
       "        vertical-align: middle;\n",
       "    }\n",
       "\n",
       "    .dataframe tbody tr th {\n",
       "        vertical-align: top;\n",
       "    }\n",
       "\n",
       "    .dataframe thead th {\n",
       "        text-align: right;\n",
       "    }\n",
       "</style>\n",
       "<table border=\"1\" class=\"dataframe\">\n",
       "  <thead>\n",
       "    <tr style=\"text-align: right;\">\n",
       "      <th></th>\n",
       "      <th>Genres_0</th>\n",
       "      <th>Genres_1</th>\n",
       "      <th>Genres_2</th>\n",
       "    </tr>\n",
       "  </thead>\n",
       "  <tbody>\n",
       "    <tr>\n",
       "      <th>5390</th>\n",
       "      <td>\"Martial Arts Film\"</td>\n",
       "      <td>\"Chinese Movies\"</td>\n",
       "      <td>None</td>\n",
       "    </tr>\n",
       "    <tr>\n",
       "      <th>80400</th>\n",
       "      <td>\"Crime Fiction\"</td>\n",
       "      <td>\"Buddy film\"</td>\n",
       "      <td>\"Chase Movie\"</td>\n",
       "    </tr>\n",
       "    <tr>\n",
       "      <th>75102</th>\n",
       "      <td>\"Drama\"</td>\n",
       "      <td>\"Musical Drama\"</td>\n",
       "      <td>\"Adventure\"</td>\n",
       "    </tr>\n",
       "    <tr>\n",
       "      <th>67684</th>\n",
       "      <td>\"Horror\"</td>\n",
       "      <td>\"Creature Film\"</td>\n",
       "      <td>\"Psychological thriller\"</td>\n",
       "    </tr>\n",
       "    <tr>\n",
       "      <th>59861</th>\n",
       "      <td>\"Thriller\"</td>\n",
       "      <td>\"World cinema\"</td>\n",
       "      <td>\"Musical\"</td>\n",
       "    </tr>\n",
       "  </tbody>\n",
       "</table>\n",
       "</div>"
      ],
      "text/plain": [
       "                  Genres_0          Genres_1                  Genres_2\n",
       "5390   \"Martial Arts Film\"  \"Chinese Movies\"                      None\n",
       "80400      \"Crime Fiction\"      \"Buddy film\"             \"Chase Movie\"\n",
       "75102              \"Drama\"   \"Musical Drama\"               \"Adventure\"\n",
       "67684             \"Horror\"   \"Creature Film\"  \"Psychological thriller\"\n",
       "59861           \"Thriller\"    \"World cinema\"                 \"Musical\""
      ]
     },
     "execution_count": 730,
     "metadata": {},
     "output_type": "execute_result"
    }
   ],
   "source": [
    "# We keep only the first three genres of each row\n",
    "genres_split = genres_split.iloc[:, :3]\n",
    "genres_split = genres_split.add_prefix(\"Genres_\")\n",
    "genres_split.sample(5)"
   ]
  },
  {
   "cell_type": "markdown",
   "id": "d37e3969-c84c-4851-8bf8-d63179f1fecb",
   "metadata": {},
   "source": [
    "- We update the previous dataframes by adding the new 'genres' columns"
   ]
  },
  {
   "cell_type": "code",
   "execution_count": 731,
   "id": "20413ba9-0670-4dd3-afc9-cbd15404240a",
   "metadata": {},
   "outputs": [],
   "source": [
    "data_genres = md_Genres.join(genres_split).drop(columns=[\"nb_of_Genres\",\"Genres\",\"Movie_genres_(Freebase_ID:name_tuples)\"])\n",
    "\n",
    "with open(pickle_folder + 'movies_clean.p', 'wb') as f:\n",
    "    pickle.dump(data_genres, f)  \n",
    "    \n",
    "with open(pickle_folder + 'movies_clean_with_season.p', 'wb') as f:\n",
    "    movie_clean_with_season = md_release_season.join(genres_split).drop(columns=[\"Movie_genres_(Freebase_ID:name_tuples)\"])\n",
    "    pickle.dump(movie_clean_with_season, f)"
   ]
  },
  {
   "cell_type": "markdown",
   "id": "588b69f9-0678-46ef-a6d7-1dab0cbef408",
   "metadata": {},
   "source": [
    "- We also create a dataframe containing 'genres' in an exploded format in order to facilitate the frequency analysis of genres"
   ]
  },
  {
   "cell_type": "code",
   "execution_count": 732,
   "id": "00bcbfa7-7958-4bb8-8005-ec32569e4ba6",
   "metadata": {},
   "outputs": [
    {
     "data": {
      "text/plain": [
       "Genres\n",
       "\"Drama\"                31940\n",
       "\"Comedy\"               15620\n",
       "\"Romance Film\"          9763\n",
       "\"Black-and-white\"       8661\n",
       "\"Thriller\"              8406\n",
       "                       ...  \n",
       "\"Statutory rape\"           1\n",
       "\"Romantic thriller\"        1\n",
       "\"Chick flick\"              1\n",
       "\"Buddy Picture\"            1\n",
       "\"Neorealism\"               1\n",
       "Name: count, Length: 363, dtype: int64"
      ]
     },
     "execution_count": 732,
     "metadata": {},
     "output_type": "execute_result"
    }
   ],
   "source": [
    "md_genres_exploded = md_Genres.explode('Genres')\n",
    "pickle.dump( md_genres_exploded, open(pickle_folder + \"movies_genres_exploded.p\", \"wb\" ) )\n",
    "md_genres_exploded.value_counts('Genres')"
   ]
  },
  {
   "cell_type": "markdown",
   "id": "93662221-83b4-4cb3-b9a2-71588d5f7522",
   "metadata": {},
   "source": [
    "### 2.3. Clean 'Languages' Column"
   ]
  },
  {
   "cell_type": "markdown",
   "id": "ec79f5e5-743c-4e45-99cd-78e884fdde6d",
   "metadata": {},
   "source": [
    "- In the same way as the part for Genres’ characteristics, this feature was presented in a (Freebase_ID:name_tuples) format, and thus wasn’t very clear and understandable. That is why we decided to reformat the ‘Language’ feature.\n",
    "- We dropped all the movies that have no information about their languages (approximately 10 000)"
   ]
  },
  {
   "cell_type": "code",
   "execution_count": 733,
   "id": "976e3fcd-3445-42fc-829a-e461f7fb9e3f",
   "metadata": {},
   "outputs": [
    {
     "name": "stdout",
     "output_type": "stream",
     "text": [
      "Number of movies dropped : 9981\n"
     ]
    }
   ],
   "source": [
    "column_name = 'Movie_languages_(Freebase_ID:name_tuples)'\n",
    "\n",
    "md_language = movies_clean.copy()\n",
    "md_language['Language'] = md_language[column_name].apply(extract_info)\n",
    "\n",
    "len_before = len(md_language['Language'])\n",
    "md_language = md_language[md_language['Language'].apply(lambda x: len(x) > 0)]\n",
    "len_after = len(md_language['Language'])\n",
    "print(f\"Number of movies dropped : {len_before-len_after}\")"
   ]
  },
  {
   "cell_type": "markdown",
   "id": "b8c2215d-6456-44cc-8acc-ae4ad25dad80",
   "metadata": {},
   "source": [
    "- We splits the \"Language\" column into a new DataFrame, expanding lists into separate columns. We calculate the number of languages for each entry and add this count as a new column. As we can see when using the describe() method, each movie has 1 \"Language\" on average. "
   ]
  },
  {
   "cell_type": "code",
   "execution_count": 734,
   "id": "21d8b314-bdda-43c0-8f33-982b0fb42bd5",
   "metadata": {},
   "outputs": [
    {
     "data": {
      "text/plain": [
       "count    64467.000000\n",
       "mean         1.200195\n",
       "std          0.577103\n",
       "min          1.000000\n",
       "25%          1.000000\n",
       "50%          1.000000\n",
       "75%          1.000000\n",
       "max         15.000000\n",
       "Name: nb_of_Languages, dtype: float64"
      ]
     },
     "execution_count": 734,
     "metadata": {},
     "output_type": "execute_result"
    }
   ],
   "source": [
    "language_split = pd.DataFrame(md_language[\"Language\"].tolist(), index=md_language.index)\n",
    "md_language['nb_of_Languages'] = md_language[\"Language\"].apply(lambda x:len(x))\n",
    "md_language['nb_of_Languages'].describe()"
   ]
  },
  {
   "cell_type": "markdown",
   "id": "556fd29f-2423-46f8-a27d-c1cb4edc2452",
   "metadata": {},
   "source": [
    "- We create a new dataframe containing the Languages in an exploded format in order to facilitate the frequency analysis of languages"
   ]
  },
  {
   "cell_type": "code",
   "execution_count": 735,
   "id": "af60ae52-589b-4273-ad51-9da213de25fb",
   "metadata": {},
   "outputs": [
    {
     "data": {
      "text/plain": [
       "Language\n",
       "\"English Language\"           39536\n",
       "\"Spanish Language\"            3526\n",
       "\"Hindi Language\"              3431\n",
       "\"French Language\"             3299\n",
       "\"Silent film\"                 2846\n",
       "                             ...  \n",
       "\"Sunda Language\"                 1\n",
       "\"Hazaragi Language\"              1\n",
       "\"Pawnee Language\"                1\n",
       "\"Gumatj Language\"                1\n",
       "\"Judeo-Georgian Language\"        1\n",
       "Name: count, Length: 191, dtype: int64"
      ]
     },
     "execution_count": 735,
     "metadata": {},
     "output_type": "execute_result"
    }
   ],
   "source": [
    "md_languages_exploded = md_language.explode('Language')\n",
    "pickle.dump( md_languages_exploded, open(pickle_folder + \"movies_languages_exploded.p\", \"wb\" ) )\n",
    "md_languages_exploded.value_counts('Language')"
   ]
  },
  {
   "cell_type": "code",
   "execution_count": 736,
   "id": "5e9c117c-fb9f-4327-a966-7fa72cfaa855",
   "metadata": {},
   "outputs": [
    {
     "data": {
      "text/html": [
       "<div>\n",
       "<style scoped>\n",
       "    .dataframe tbody tr th:only-of-type {\n",
       "        vertical-align: middle;\n",
       "    }\n",
       "\n",
       "    .dataframe tbody tr th {\n",
       "        vertical-align: top;\n",
       "    }\n",
       "\n",
       "    .dataframe thead th {\n",
       "        text-align: right;\n",
       "    }\n",
       "</style>\n",
       "<table border=\"1\" class=\"dataframe\">\n",
       "  <thead>\n",
       "    <tr style=\"text-align: right;\">\n",
       "      <th></th>\n",
       "      <th>Wikipedia_movie_ID</th>\n",
       "      <th>Movie_name</th>\n",
       "      <th>Movie_release_date</th>\n",
       "      <th>Movie_box_office_revenue</th>\n",
       "      <th>Movie_languages_(Freebase_ID:name_tuples)</th>\n",
       "      <th>Movie_countries_(Freebase_ID:name_tuples)</th>\n",
       "      <th>Movie_genres_(Freebase_ID:name_tuples)</th>\n",
       "      <th>Year</th>\n",
       "      <th>Year_Interval</th>\n",
       "      <th>Language</th>\n",
       "      <th>nb_of_Languages</th>\n",
       "    </tr>\n",
       "  </thead>\n",
       "  <tbody>\n",
       "    <tr>\n",
       "      <th>0</th>\n",
       "      <td>975900</td>\n",
       "      <td>Ghosts of Mars</td>\n",
       "      <td>2001-08-24</td>\n",
       "      <td>14010832.0</td>\n",
       "      <td>{\"/m/02h40lc\": \"English Language\"}</td>\n",
       "      <td>{\"/m/09c7w0\": \"United States of America\"}</td>\n",
       "      <td>{\"/m/01jfsb\": \"Thriller\", \"/m/06n90\": \"Science...</td>\n",
       "      <td>2001</td>\n",
       "      <td>1990-2016</td>\n",
       "      <td>\"English Language\"</td>\n",
       "      <td>1</td>\n",
       "    </tr>\n",
       "    <tr>\n",
       "      <th>1</th>\n",
       "      <td>3196793</td>\n",
       "      <td>Getting Away with Murder: The JonBenét Ramsey ...</td>\n",
       "      <td>2000-02-16</td>\n",
       "      <td>NaN</td>\n",
       "      <td>{\"/m/02h40lc\": \"English Language\"}</td>\n",
       "      <td>{\"/m/09c7w0\": \"United States of America\"}</td>\n",
       "      <td>{\"/m/02n4kr\": \"Mystery\", \"/m/03bxz7\": \"Biograp...</td>\n",
       "      <td>2000</td>\n",
       "      <td>1990-2016</td>\n",
       "      <td>\"English Language\"</td>\n",
       "      <td>1</td>\n",
       "    </tr>\n",
       "    <tr>\n",
       "      <th>2</th>\n",
       "      <td>28463795</td>\n",
       "      <td>Brun bitter</td>\n",
       "      <td>1988</td>\n",
       "      <td>NaN</td>\n",
       "      <td>{\"/m/05f_3\": \"Norwegian Language\"}</td>\n",
       "      <td>{\"/m/05b4w\": \"Norway\"}</td>\n",
       "      <td>{\"/m/0lsxr\": \"Crime Fiction\", \"/m/07s9rl0\": \"D...</td>\n",
       "      <td>1988</td>\n",
       "      <td>1970-1990</td>\n",
       "      <td>\"Norwegian Language\"</td>\n",
       "      <td>1</td>\n",
       "    </tr>\n",
       "    <tr>\n",
       "      <th>3</th>\n",
       "      <td>9363483</td>\n",
       "      <td>White Of The Eye</td>\n",
       "      <td>1987</td>\n",
       "      <td>NaN</td>\n",
       "      <td>{\"/m/02h40lc\": \"English Language\"}</td>\n",
       "      <td>{\"/m/07ssc\": \"United Kingdom\"}</td>\n",
       "      <td>{\"/m/01jfsb\": \"Thriller\", \"/m/0glj9q\": \"Erotic...</td>\n",
       "      <td>1987</td>\n",
       "      <td>1970-1990</td>\n",
       "      <td>\"English Language\"</td>\n",
       "      <td>1</td>\n",
       "    </tr>\n",
       "    <tr>\n",
       "      <th>4</th>\n",
       "      <td>261236</td>\n",
       "      <td>A Woman in Flames</td>\n",
       "      <td>1983</td>\n",
       "      <td>NaN</td>\n",
       "      <td>{\"/m/04306rv\": \"German Language\"}</td>\n",
       "      <td>{\"/m/0345h\": \"Germany\"}</td>\n",
       "      <td>{\"/m/07s9rl0\": \"Drama\"}</td>\n",
       "      <td>1983</td>\n",
       "      <td>1970-1990</td>\n",
       "      <td>\"German Language\"</td>\n",
       "      <td>1</td>\n",
       "    </tr>\n",
       "    <tr>\n",
       "      <th>...</th>\n",
       "      <td>...</td>\n",
       "      <td>...</td>\n",
       "      <td>...</td>\n",
       "      <td>...</td>\n",
       "      <td>...</td>\n",
       "      <td>...</td>\n",
       "      <td>...</td>\n",
       "      <td>...</td>\n",
       "      <td>...</td>\n",
       "      <td>...</td>\n",
       "      <td>...</td>\n",
       "    </tr>\n",
       "    <tr>\n",
       "      <th>81736</th>\n",
       "      <td>35228177</td>\n",
       "      <td>Mermaids: The Body Found</td>\n",
       "      <td>2011-03-19</td>\n",
       "      <td>NaN</td>\n",
       "      <td>{\"/m/02h40lc\": \"English Language\"}</td>\n",
       "      <td>{\"/m/09c7w0\": \"United States of America\"}</td>\n",
       "      <td>{\"/m/07s9rl0\": \"Drama\"}</td>\n",
       "      <td>2011</td>\n",
       "      <td>1990-2016</td>\n",
       "      <td>\"English Language\"</td>\n",
       "      <td>1</td>\n",
       "    </tr>\n",
       "    <tr>\n",
       "      <th>81737</th>\n",
       "      <td>34980460</td>\n",
       "      <td>Knuckle</td>\n",
       "      <td>2011-01-21</td>\n",
       "      <td>NaN</td>\n",
       "      <td>{\"/m/02h40lc\": \"English Language\"}</td>\n",
       "      <td>{\"/m/03rt9\": \"Ireland\", \"/m/07ssc\": \"United Ki...</td>\n",
       "      <td>{\"/m/03bxz7\": \"Biographical film\", \"/m/07s9rl0...</td>\n",
       "      <td>2011</td>\n",
       "      <td>1990-2016</td>\n",
       "      <td>\"English Language\"</td>\n",
       "      <td>1</td>\n",
       "    </tr>\n",
       "    <tr>\n",
       "      <th>81738</th>\n",
       "      <td>9971909</td>\n",
       "      <td>Another Nice Mess</td>\n",
       "      <td>1972-09-22</td>\n",
       "      <td>NaN</td>\n",
       "      <td>{\"/m/02h40lc\": \"English Language\"}</td>\n",
       "      <td>{\"/m/09c7w0\": \"United States of America\"}</td>\n",
       "      <td>{\"/m/06nbt\": \"Satire\", \"/m/01z4y\": \"Comedy\"}</td>\n",
       "      <td>1972</td>\n",
       "      <td>1970-1990</td>\n",
       "      <td>\"English Language\"</td>\n",
       "      <td>1</td>\n",
       "    </tr>\n",
       "    <tr>\n",
       "      <th>81739</th>\n",
       "      <td>913762</td>\n",
       "      <td>The Super Dimension Fortress Macross II: Lover...</td>\n",
       "      <td>1992-05-21</td>\n",
       "      <td>NaN</td>\n",
       "      <td>{\"/m/03_9r\": \"Japanese Language\"}</td>\n",
       "      <td>{\"/m/03_3d\": \"Japan\"}</td>\n",
       "      <td>{\"/m/06n90\": \"Science Fiction\", \"/m/0gw5n2f\": ...</td>\n",
       "      <td>1992</td>\n",
       "      <td>1990-2016</td>\n",
       "      <td>\"Japanese Language\"</td>\n",
       "      <td>1</td>\n",
       "    </tr>\n",
       "    <tr>\n",
       "      <th>81740</th>\n",
       "      <td>12476867</td>\n",
       "      <td>Spliced</td>\n",
       "      <td>2002</td>\n",
       "      <td>NaN</td>\n",
       "      <td>{\"/m/02h40lc\": \"English Language\"}</td>\n",
       "      <td>{\"/m/0d060g\": \"Canada\"}</td>\n",
       "      <td>{\"/m/01jfsb\": \"Thriller\", \"/m/03npn\": \"Horror\"...</td>\n",
       "      <td>2002</td>\n",
       "      <td>1990-2016</td>\n",
       "      <td>\"English Language\"</td>\n",
       "      <td>1</td>\n",
       "    </tr>\n",
       "  </tbody>\n",
       "</table>\n",
       "<p>77373 rows × 11 columns</p>\n",
       "</div>"
      ],
      "text/plain": [
       "       Wikipedia_movie_ID                                         Movie_name  \\\n",
       "0                  975900                                     Ghosts of Mars   \n",
       "1                 3196793  Getting Away with Murder: The JonBenét Ramsey ...   \n",
       "2                28463795                                        Brun bitter   \n",
       "3                 9363483                                   White Of The Eye   \n",
       "4                  261236                                  A Woman in Flames   \n",
       "...                   ...                                                ...   \n",
       "81736            35228177                           Mermaids: The Body Found   \n",
       "81737            34980460                                            Knuckle   \n",
       "81738             9971909                                  Another Nice Mess   \n",
       "81739              913762  The Super Dimension Fortress Macross II: Lover...   \n",
       "81740            12476867                                            Spliced   \n",
       "\n",
       "      Movie_release_date  Movie_box_office_revenue  \\\n",
       "0             2001-08-24                14010832.0   \n",
       "1             2000-02-16                       NaN   \n",
       "2                   1988                       NaN   \n",
       "3                   1987                       NaN   \n",
       "4                   1983                       NaN   \n",
       "...                  ...                       ...   \n",
       "81736         2011-03-19                       NaN   \n",
       "81737         2011-01-21                       NaN   \n",
       "81738         1972-09-22                       NaN   \n",
       "81739         1992-05-21                       NaN   \n",
       "81740               2002                       NaN   \n",
       "\n",
       "      Movie_languages_(Freebase_ID:name_tuples)  \\\n",
       "0            {\"/m/02h40lc\": \"English Language\"}   \n",
       "1            {\"/m/02h40lc\": \"English Language\"}   \n",
       "2            {\"/m/05f_3\": \"Norwegian Language\"}   \n",
       "3            {\"/m/02h40lc\": \"English Language\"}   \n",
       "4             {\"/m/04306rv\": \"German Language\"}   \n",
       "...                                         ...   \n",
       "81736        {\"/m/02h40lc\": \"English Language\"}   \n",
       "81737        {\"/m/02h40lc\": \"English Language\"}   \n",
       "81738        {\"/m/02h40lc\": \"English Language\"}   \n",
       "81739         {\"/m/03_9r\": \"Japanese Language\"}   \n",
       "81740        {\"/m/02h40lc\": \"English Language\"}   \n",
       "\n",
       "               Movie_countries_(Freebase_ID:name_tuples)  \\\n",
       "0              {\"/m/09c7w0\": \"United States of America\"}   \n",
       "1              {\"/m/09c7w0\": \"United States of America\"}   \n",
       "2                                 {\"/m/05b4w\": \"Norway\"}   \n",
       "3                         {\"/m/07ssc\": \"United Kingdom\"}   \n",
       "4                                {\"/m/0345h\": \"Germany\"}   \n",
       "...                                                  ...   \n",
       "81736          {\"/m/09c7w0\": \"United States of America\"}   \n",
       "81737  {\"/m/03rt9\": \"Ireland\", \"/m/07ssc\": \"United Ki...   \n",
       "81738          {\"/m/09c7w0\": \"United States of America\"}   \n",
       "81739                              {\"/m/03_3d\": \"Japan\"}   \n",
       "81740                            {\"/m/0d060g\": \"Canada\"}   \n",
       "\n",
       "                  Movie_genres_(Freebase_ID:name_tuples)  Year Year_Interval  \\\n",
       "0      {\"/m/01jfsb\": \"Thriller\", \"/m/06n90\": \"Science...  2001     1990-2016   \n",
       "1      {\"/m/02n4kr\": \"Mystery\", \"/m/03bxz7\": \"Biograp...  2000     1990-2016   \n",
       "2      {\"/m/0lsxr\": \"Crime Fiction\", \"/m/07s9rl0\": \"D...  1988     1970-1990   \n",
       "3      {\"/m/01jfsb\": \"Thriller\", \"/m/0glj9q\": \"Erotic...  1987     1970-1990   \n",
       "4                                {\"/m/07s9rl0\": \"Drama\"}  1983     1970-1990   \n",
       "...                                                  ...   ...           ...   \n",
       "81736                            {\"/m/07s9rl0\": \"Drama\"}  2011     1990-2016   \n",
       "81737  {\"/m/03bxz7\": \"Biographical film\", \"/m/07s9rl0...  2011     1990-2016   \n",
       "81738       {\"/m/06nbt\": \"Satire\", \"/m/01z4y\": \"Comedy\"}  1972     1970-1990   \n",
       "81739  {\"/m/06n90\": \"Science Fiction\", \"/m/0gw5n2f\": ...  1992     1990-2016   \n",
       "81740  {\"/m/01jfsb\": \"Thriller\", \"/m/03npn\": \"Horror\"...  2002     1990-2016   \n",
       "\n",
       "                   Language  nb_of_Languages  \n",
       "0        \"English Language\"                1  \n",
       "1        \"English Language\"                1  \n",
       "2      \"Norwegian Language\"                1  \n",
       "3        \"English Language\"                1  \n",
       "4         \"German Language\"                1  \n",
       "...                     ...              ...  \n",
       "81736    \"English Language\"                1  \n",
       "81737    \"English Language\"                1  \n",
       "81738    \"English Language\"                1  \n",
       "81739   \"Japanese Language\"                1  \n",
       "81740    \"English Language\"                1  \n",
       "\n",
       "[77373 rows x 11 columns]"
      ]
     },
     "execution_count": 736,
     "metadata": {},
     "output_type": "execute_result"
    }
   ],
   "source": [
    "md_languages_exploded"
   ]
  },
  {
   "cell_type": "markdown",
   "id": "8ff29ef9-1db7-46ba-9336-2dbab1cd148b",
   "metadata": {},
   "source": [
    "### 2.4. Clean 'Countries' Column "
   ]
  },
  {
   "cell_type": "markdown",
   "id": "7b8996ad-29ee-42a6-a71a-97a098c829b9",
   "metadata": {},
   "source": [
    "- For the Countries feature, similar to the approach used for the Genres feature, the data was originally presented in a (Freebase_ID:name_tuples) format, making it unclear and difficult to interpret. To address this, we chose to reformat the Countries feature into a more understandable structure.\n",
    "- We dropped all the movies that have no information about their countries (approximately 5000)"
   ]
  },
  {
   "cell_type": "code",
   "execution_count": 737,
   "id": "a8641abb-877d-40b1-847d-6e11609ce5bb",
   "metadata": {},
   "outputs": [
    {
     "name": "stdout",
     "output_type": "stream",
     "text": [
      "Number of movies dropped : 5184\n"
     ]
    }
   ],
   "source": [
    "md_countries = movies_clean.copy()\n",
    "md_countries[\"Countries\"] = md_countries['Movie_countries_(Freebase_ID:name_tuples)'].apply(extract_info)\n",
    "\n",
    "len_before = len(md_countries['Countries'])\n",
    "md_countries = md_countries[md_countries['Countries'].apply(lambda x: len(x) > 0)]\n",
    "len_after = len(md_countries['Countries'])\n",
    "print(f\"Number of movies dropped : {len_before-len_after}\")"
   ]
  },
  {
   "cell_type": "markdown",
   "id": "2f786340-8c77-43fa-9d14-d11e26588da8",
   "metadata": {},
   "source": [
    "- We splits the \"Countries\" column into a new DataFrame, expanding lists into separate columns. We calculate the number of countries for each entry and add this count as a new column. As we can see when using the describe() method, each movie has 1 \"Countries\" on average."
   ]
  },
  {
   "cell_type": "code",
   "execution_count": 738,
   "id": "c24ede5f-15a0-40ee-a217-98b414e5fd99",
   "metadata": {},
   "outputs": [
    {
     "data": {
      "text/plain": [
       "count    69264.000000\n",
       "mean         1.180498\n",
       "std          0.552584\n",
       "min          1.000000\n",
       "25%          1.000000\n",
       "50%          1.000000\n",
       "75%          1.000000\n",
       "max         14.000000\n",
       "Name: nb_of_Countries, dtype: float64"
      ]
     },
     "execution_count": 738,
     "metadata": {},
     "output_type": "execute_result"
    }
   ],
   "source": [
    "countries_split = pd.DataFrame(md_countries[\"Countries\"].tolist(), index=md_countries.index)\n",
    "md_countries['nb_of_Countries'] = md_countries[\"Countries\"].apply(lambda x:len(x))\n",
    "md_countries['nb_of_Countries'].describe()"
   ]
  },
  {
   "cell_type": "markdown",
   "id": "a6094b2f-4f87-4927-ad14-b81976355679",
   "metadata": {},
   "source": [
    "- We create a new dataframe containing the Countries in an exploded format in order to facilitate the frequency analysis of countries"
   ]
  },
  {
   "cell_type": "code",
   "execution_count": 739,
   "id": "c03738db-4c31-4806-bf47-d9fa98172fb4",
   "metadata": {},
   "outputs": [
    {
     "data": {
      "text/plain": [
       "Countries\n",
       "\"United States of America\"    33051\n",
       "\"India\"                        7764\n",
       "\"United Kingdom\"               7406\n",
       "\"France\"                       4086\n",
       "\"Italy\"                        3015\n",
       "                              ...  \n",
       "\"Iraqi Kurdistan\"                 1\n",
       "\"Jordan\"                          1\n",
       "\"Macau\"                           1\n",
       "\"Palestinian Territories\"         1\n",
       "\"Republic of China\"               1\n",
       "Name: count, Length: 146, dtype: int64"
      ]
     },
     "execution_count": 739,
     "metadata": {},
     "output_type": "execute_result"
    }
   ],
   "source": [
    "md_countries_exploded = md_countries.explode('Countries')\n",
    "pickle.dump( md_countries_exploded, open(pickle_folder + \"movies_countries_exploded.p\", \"wb\" ) )\n",
    "md_countries_exploded.value_counts('Countries')"
   ]
  },
  {
   "cell_type": "code",
   "execution_count": 740,
   "id": "0720f029-5404-49a7-a6d2-4709ffbf2396",
   "metadata": {},
   "outputs": [
    {
     "data": {
      "text/html": [
       "<div>\n",
       "<style scoped>\n",
       "    .dataframe tbody tr th:only-of-type {\n",
       "        vertical-align: middle;\n",
       "    }\n",
       "\n",
       "    .dataframe tbody tr th {\n",
       "        vertical-align: top;\n",
       "    }\n",
       "\n",
       "    .dataframe thead th {\n",
       "        text-align: right;\n",
       "    }\n",
       "</style>\n",
       "<table border=\"1\" class=\"dataframe\">\n",
       "  <thead>\n",
       "    <tr style=\"text-align: right;\">\n",
       "      <th></th>\n",
       "      <th>Wikipedia_movie_ID</th>\n",
       "      <th>Movie_name</th>\n",
       "      <th>Movie_release_date</th>\n",
       "      <th>Movie_box_office_revenue</th>\n",
       "      <th>Movie_languages_(Freebase_ID:name_tuples)</th>\n",
       "      <th>Movie_countries_(Freebase_ID:name_tuples)</th>\n",
       "      <th>Movie_genres_(Freebase_ID:name_tuples)</th>\n",
       "      <th>Year</th>\n",
       "      <th>Year_Interval</th>\n",
       "      <th>Countries</th>\n",
       "      <th>nb_of_Countries</th>\n",
       "    </tr>\n",
       "  </thead>\n",
       "  <tbody>\n",
       "    <tr>\n",
       "      <th>0</th>\n",
       "      <td>975900</td>\n",
       "      <td>Ghosts of Mars</td>\n",
       "      <td>2001-08-24</td>\n",
       "      <td>14010832.0</td>\n",
       "      <td>{\"/m/02h40lc\": \"English Language\"}</td>\n",
       "      <td>{\"/m/09c7w0\": \"United States of America\"}</td>\n",
       "      <td>{\"/m/01jfsb\": \"Thriller\", \"/m/06n90\": \"Science...</td>\n",
       "      <td>2001</td>\n",
       "      <td>1990-2016</td>\n",
       "      <td>\"United States of America\"</td>\n",
       "      <td>1</td>\n",
       "    </tr>\n",
       "    <tr>\n",
       "      <th>1</th>\n",
       "      <td>3196793</td>\n",
       "      <td>Getting Away with Murder: The JonBenét Ramsey ...</td>\n",
       "      <td>2000-02-16</td>\n",
       "      <td>NaN</td>\n",
       "      <td>{\"/m/02h40lc\": \"English Language\"}</td>\n",
       "      <td>{\"/m/09c7w0\": \"United States of America\"}</td>\n",
       "      <td>{\"/m/02n4kr\": \"Mystery\", \"/m/03bxz7\": \"Biograp...</td>\n",
       "      <td>2000</td>\n",
       "      <td>1990-2016</td>\n",
       "      <td>\"United States of America\"</td>\n",
       "      <td>1</td>\n",
       "    </tr>\n",
       "    <tr>\n",
       "      <th>2</th>\n",
       "      <td>28463795</td>\n",
       "      <td>Brun bitter</td>\n",
       "      <td>1988</td>\n",
       "      <td>NaN</td>\n",
       "      <td>{\"/m/05f_3\": \"Norwegian Language\"}</td>\n",
       "      <td>{\"/m/05b4w\": \"Norway\"}</td>\n",
       "      <td>{\"/m/0lsxr\": \"Crime Fiction\", \"/m/07s9rl0\": \"D...</td>\n",
       "      <td>1988</td>\n",
       "      <td>1970-1990</td>\n",
       "      <td>\"Norway\"</td>\n",
       "      <td>1</td>\n",
       "    </tr>\n",
       "    <tr>\n",
       "      <th>3</th>\n",
       "      <td>9363483</td>\n",
       "      <td>White Of The Eye</td>\n",
       "      <td>1987</td>\n",
       "      <td>NaN</td>\n",
       "      <td>{\"/m/02h40lc\": \"English Language\"}</td>\n",
       "      <td>{\"/m/07ssc\": \"United Kingdom\"}</td>\n",
       "      <td>{\"/m/01jfsb\": \"Thriller\", \"/m/0glj9q\": \"Erotic...</td>\n",
       "      <td>1987</td>\n",
       "      <td>1970-1990</td>\n",
       "      <td>\"United Kingdom\"</td>\n",
       "      <td>1</td>\n",
       "    </tr>\n",
       "    <tr>\n",
       "      <th>4</th>\n",
       "      <td>261236</td>\n",
       "      <td>A Woman in Flames</td>\n",
       "      <td>1983</td>\n",
       "      <td>NaN</td>\n",
       "      <td>{\"/m/04306rv\": \"German Language\"}</td>\n",
       "      <td>{\"/m/0345h\": \"Germany\"}</td>\n",
       "      <td>{\"/m/07s9rl0\": \"Drama\"}</td>\n",
       "      <td>1983</td>\n",
       "      <td>1970-1990</td>\n",
       "      <td>\"Germany\"</td>\n",
       "      <td>1</td>\n",
       "    </tr>\n",
       "    <tr>\n",
       "      <th>...</th>\n",
       "      <td>...</td>\n",
       "      <td>...</td>\n",
       "      <td>...</td>\n",
       "      <td>...</td>\n",
       "      <td>...</td>\n",
       "      <td>...</td>\n",
       "      <td>...</td>\n",
       "      <td>...</td>\n",
       "      <td>...</td>\n",
       "      <td>...</td>\n",
       "      <td>...</td>\n",
       "    </tr>\n",
       "    <tr>\n",
       "      <th>81737</th>\n",
       "      <td>34980460</td>\n",
       "      <td>Knuckle</td>\n",
       "      <td>2011-01-21</td>\n",
       "      <td>NaN</td>\n",
       "      <td>{\"/m/02h40lc\": \"English Language\"}</td>\n",
       "      <td>{\"/m/03rt9\": \"Ireland\", \"/m/07ssc\": \"United Ki...</td>\n",
       "      <td>{\"/m/03bxz7\": \"Biographical film\", \"/m/07s9rl0...</td>\n",
       "      <td>2011</td>\n",
       "      <td>1990-2016</td>\n",
       "      <td>\"Ireland\"</td>\n",
       "      <td>2</td>\n",
       "    </tr>\n",
       "    <tr>\n",
       "      <th>81737</th>\n",
       "      <td>34980460</td>\n",
       "      <td>Knuckle</td>\n",
       "      <td>2011-01-21</td>\n",
       "      <td>NaN</td>\n",
       "      <td>{\"/m/02h40lc\": \"English Language\"}</td>\n",
       "      <td>{\"/m/03rt9\": \"Ireland\", \"/m/07ssc\": \"United Ki...</td>\n",
       "      <td>{\"/m/03bxz7\": \"Biographical film\", \"/m/07s9rl0...</td>\n",
       "      <td>2011</td>\n",
       "      <td>1990-2016</td>\n",
       "      <td>\"United Kingdom\"</td>\n",
       "      <td>2</td>\n",
       "    </tr>\n",
       "    <tr>\n",
       "      <th>81738</th>\n",
       "      <td>9971909</td>\n",
       "      <td>Another Nice Mess</td>\n",
       "      <td>1972-09-22</td>\n",
       "      <td>NaN</td>\n",
       "      <td>{\"/m/02h40lc\": \"English Language\"}</td>\n",
       "      <td>{\"/m/09c7w0\": \"United States of America\"}</td>\n",
       "      <td>{\"/m/06nbt\": \"Satire\", \"/m/01z4y\": \"Comedy\"}</td>\n",
       "      <td>1972</td>\n",
       "      <td>1970-1990</td>\n",
       "      <td>\"United States of America\"</td>\n",
       "      <td>1</td>\n",
       "    </tr>\n",
       "    <tr>\n",
       "      <th>81739</th>\n",
       "      <td>913762</td>\n",
       "      <td>The Super Dimension Fortress Macross II: Lover...</td>\n",
       "      <td>1992-05-21</td>\n",
       "      <td>NaN</td>\n",
       "      <td>{\"/m/03_9r\": \"Japanese Language\"}</td>\n",
       "      <td>{\"/m/03_3d\": \"Japan\"}</td>\n",
       "      <td>{\"/m/06n90\": \"Science Fiction\", \"/m/0gw5n2f\": ...</td>\n",
       "      <td>1992</td>\n",
       "      <td>1990-2016</td>\n",
       "      <td>\"Japan\"</td>\n",
       "      <td>1</td>\n",
       "    </tr>\n",
       "    <tr>\n",
       "      <th>81740</th>\n",
       "      <td>12476867</td>\n",
       "      <td>Spliced</td>\n",
       "      <td>2002</td>\n",
       "      <td>NaN</td>\n",
       "      <td>{\"/m/02h40lc\": \"English Language\"}</td>\n",
       "      <td>{\"/m/0d060g\": \"Canada\"}</td>\n",
       "      <td>{\"/m/01jfsb\": \"Thriller\", \"/m/03npn\": \"Horror\"...</td>\n",
       "      <td>2002</td>\n",
       "      <td>1990-2016</td>\n",
       "      <td>\"Canada\"</td>\n",
       "      <td>1</td>\n",
       "    </tr>\n",
       "  </tbody>\n",
       "</table>\n",
       "<p>81766 rows × 11 columns</p>\n",
       "</div>"
      ],
      "text/plain": [
       "       Wikipedia_movie_ID                                         Movie_name  \\\n",
       "0                  975900                                     Ghosts of Mars   \n",
       "1                 3196793  Getting Away with Murder: The JonBenét Ramsey ...   \n",
       "2                28463795                                        Brun bitter   \n",
       "3                 9363483                                   White Of The Eye   \n",
       "4                  261236                                  A Woman in Flames   \n",
       "...                   ...                                                ...   \n",
       "81737            34980460                                            Knuckle   \n",
       "81737            34980460                                            Knuckle   \n",
       "81738             9971909                                  Another Nice Mess   \n",
       "81739              913762  The Super Dimension Fortress Macross II: Lover...   \n",
       "81740            12476867                                            Spliced   \n",
       "\n",
       "      Movie_release_date  Movie_box_office_revenue  \\\n",
       "0             2001-08-24                14010832.0   \n",
       "1             2000-02-16                       NaN   \n",
       "2                   1988                       NaN   \n",
       "3                   1987                       NaN   \n",
       "4                   1983                       NaN   \n",
       "...                  ...                       ...   \n",
       "81737         2011-01-21                       NaN   \n",
       "81737         2011-01-21                       NaN   \n",
       "81738         1972-09-22                       NaN   \n",
       "81739         1992-05-21                       NaN   \n",
       "81740               2002                       NaN   \n",
       "\n",
       "      Movie_languages_(Freebase_ID:name_tuples)  \\\n",
       "0            {\"/m/02h40lc\": \"English Language\"}   \n",
       "1            {\"/m/02h40lc\": \"English Language\"}   \n",
       "2            {\"/m/05f_3\": \"Norwegian Language\"}   \n",
       "3            {\"/m/02h40lc\": \"English Language\"}   \n",
       "4             {\"/m/04306rv\": \"German Language\"}   \n",
       "...                                         ...   \n",
       "81737        {\"/m/02h40lc\": \"English Language\"}   \n",
       "81737        {\"/m/02h40lc\": \"English Language\"}   \n",
       "81738        {\"/m/02h40lc\": \"English Language\"}   \n",
       "81739         {\"/m/03_9r\": \"Japanese Language\"}   \n",
       "81740        {\"/m/02h40lc\": \"English Language\"}   \n",
       "\n",
       "               Movie_countries_(Freebase_ID:name_tuples)  \\\n",
       "0              {\"/m/09c7w0\": \"United States of America\"}   \n",
       "1              {\"/m/09c7w0\": \"United States of America\"}   \n",
       "2                                 {\"/m/05b4w\": \"Norway\"}   \n",
       "3                         {\"/m/07ssc\": \"United Kingdom\"}   \n",
       "4                                {\"/m/0345h\": \"Germany\"}   \n",
       "...                                                  ...   \n",
       "81737  {\"/m/03rt9\": \"Ireland\", \"/m/07ssc\": \"United Ki...   \n",
       "81737  {\"/m/03rt9\": \"Ireland\", \"/m/07ssc\": \"United Ki...   \n",
       "81738          {\"/m/09c7w0\": \"United States of America\"}   \n",
       "81739                              {\"/m/03_3d\": \"Japan\"}   \n",
       "81740                            {\"/m/0d060g\": \"Canada\"}   \n",
       "\n",
       "                  Movie_genres_(Freebase_ID:name_tuples)  Year Year_Interval  \\\n",
       "0      {\"/m/01jfsb\": \"Thriller\", \"/m/06n90\": \"Science...  2001     1990-2016   \n",
       "1      {\"/m/02n4kr\": \"Mystery\", \"/m/03bxz7\": \"Biograp...  2000     1990-2016   \n",
       "2      {\"/m/0lsxr\": \"Crime Fiction\", \"/m/07s9rl0\": \"D...  1988     1970-1990   \n",
       "3      {\"/m/01jfsb\": \"Thriller\", \"/m/0glj9q\": \"Erotic...  1987     1970-1990   \n",
       "4                                {\"/m/07s9rl0\": \"Drama\"}  1983     1970-1990   \n",
       "...                                                  ...   ...           ...   \n",
       "81737  {\"/m/03bxz7\": \"Biographical film\", \"/m/07s9rl0...  2011     1990-2016   \n",
       "81737  {\"/m/03bxz7\": \"Biographical film\", \"/m/07s9rl0...  2011     1990-2016   \n",
       "81738       {\"/m/06nbt\": \"Satire\", \"/m/01z4y\": \"Comedy\"}  1972     1970-1990   \n",
       "81739  {\"/m/06n90\": \"Science Fiction\", \"/m/0gw5n2f\": ...  1992     1990-2016   \n",
       "81740  {\"/m/01jfsb\": \"Thriller\", \"/m/03npn\": \"Horror\"...  2002     1990-2016   \n",
       "\n",
       "                        Countries  nb_of_Countries  \n",
       "0      \"United States of America\"                1  \n",
       "1      \"United States of America\"                1  \n",
       "2                        \"Norway\"                1  \n",
       "3                \"United Kingdom\"                1  \n",
       "4                       \"Germany\"                1  \n",
       "...                           ...              ...  \n",
       "81737                   \"Ireland\"                2  \n",
       "81737            \"United Kingdom\"                2  \n",
       "81738  \"United States of America\"                1  \n",
       "81739                     \"Japan\"                1  \n",
       "81740                    \"Canada\"                1  \n",
       "\n",
       "[81766 rows x 11 columns]"
      ]
     },
     "execution_count": 740,
     "metadata": {},
     "output_type": "execute_result"
    }
   ],
   "source": [
    "md_countries_exploded"
   ]
  }
 ],
 "metadata": {
  "kernelspec": {
   "display_name": "Python 3 (ipykernel)",
   "language": "python",
   "name": "python3"
  },
  "language_info": {
   "codemirror_mode": {
    "name": "ipython",
    "version": 3
   },
   "file_extension": ".py",
   "mimetype": "text/x-python",
   "name": "python",
   "nbconvert_exporter": "python",
   "pygments_lexer": "ipython3",
   "version": "3.11.9"
  }
 },
 "nbformat": 4,
 "nbformat_minor": 5
}
