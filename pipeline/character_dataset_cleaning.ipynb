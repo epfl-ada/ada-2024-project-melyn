{
 "cells": [
  {
   "cell_type": "code",
   "execution_count": 26,
   "id": "89c5fa0f-2f13-4665-b73f-e4d6163d2a10",
   "metadata": {},
   "outputs": [],
   "source": [
    "import seaborn as sns\n",
    "import pandas as pd\n",
    "import matplotlib.pyplot as plt\n",
    "import numpy as np\n",
    "import os\n",
    "import sys\n",
    "import pickle"
   ]
  },
  {
   "cell_type": "code",
   "execution_count": 27,
   "id": "6d7fd265-1398-4581-860e-064780543563",
   "metadata": {},
   "outputs": [],
   "source": [
    "folder = '../data/CMU/'\n",
    "pickle_folder = \"../data/pickle/\""
   ]
  },
  {
   "cell_type": "code",
   "execution_count": 28,
   "id": "139e34aa-9221-41a3-9734-078bc02cc262",
   "metadata": {},
   "outputs": [],
   "source": [
    "character_original_data = pd.read_csv(folder + 'character.metadata.tsv',sep='\\t',names=['Wikipedia movie ID',\n",
    "'Freebase_movie_ID',\n",
    "'Movie_release_date',\n",
    "'Character_name',\n",
    "'Actor_date_of_birth',\n",
    "'Actor_gender',\n",
    "'Actor_height_(in_meters)',\n",
    "'Actor_ethnicity_(Freebase_ID)',\n",
    "'Actor_name',\n",
    "'Actor_age_at_movie_release',\n",
    "'Freebase_character/actor_map_ID',\n",
    "'Freebase_character_ID',\n",
    "'Freebase_actor_ID'])"
   ]
  },
  {
   "cell_type": "code",
   "execution_count": 29,
   "id": "4a52a179-95cf-4dce-9328-5ceb56a8a19a",
   "metadata": {},
   "outputs": [],
   "source": [
    "characters = character_original_data.copy()\n",
    "\n",
    "pickle.dump( character_original_data, open(pickle_folder + \"characters.p\", \"wb\" ) )"
   ]
  },
  {
   "cell_type": "code",
   "execution_count": 30,
   "id": "9c575ab1-57d0-4de3-9388-71cf4e1ab801",
   "metadata": {},
   "outputs": [
    {
     "name": "stdout",
     "output_type": "stream",
     "text": [
      "450669\n"
     ]
    }
   ],
   "source": [
    "print(characters.shape[0])"
   ]
  },
  {
   "cell_type": "code",
   "execution_count": 31,
   "id": "17708ccc-375d-4e77-b369-61fac84069f6",
   "metadata": {},
   "outputs": [],
   "source": [
    "cd = characters.copy().dropna(subset=['Movie_release_date'])\n",
    "\n",
    "cd.loc[cd['Movie_release_date']=='1010-12-02','Movie_release_date'] = '2010-12-02'\n",
    "\n",
    "cd['Year'] = cd['Movie_release_date'].str[:4]\n",
    "cd['Year'] = cd['Year'].astype(int)\n",
    "\n",
    "cd = cd.query(\" 2016 > Year > 1910\")\n",
    "\n",
    "pickle.dump( cd, open(pickle_folder + \"characters_date.p\", \"wb\" ) )"
   ]
  }
 ],
 "metadata": {
  "kernelspec": {
   "display_name": "Python 3 (ipykernel)",
   "language": "python",
   "name": "python3"
  },
  "language_info": {
   "codemirror_mode": {
    "name": "ipython",
    "version": 3
   },
   "file_extension": ".py",
   "mimetype": "text/x-python",
   "name": "python",
   "nbconvert_exporter": "python",
   "pygments_lexer": "ipython3",
   "version": "3.11.9"
  }
 },
 "nbformat": 4,
 "nbformat_minor": 5
}
