{
 "cells": [
  {
   "cell_type": "markdown",
   "id": "b14d4b43-86e9-466b-9d73-8128a17f3561",
   "metadata": {},
   "source": [
    "# Movie Dataset Cleaning\n",
    "\n",
    "First, we will keep our focus on cleaning the \"movie.metadata\" dataset. \n",
    "The goal is to do a deep review of the whole dataset, have a good understanding of the missing data for each relevant feature for our study and to have a cleaned version ready for Milestone 3."
   ]
  },
  {
   "cell_type": "markdown",
   "id": "9e5fec0a-5610-4d96-9897-4b689c97e8ba",
   "metadata": {},
   "source": [
    "### Loading the Dataset"
   ]
  },
  {
   "cell_type": "code",
   "execution_count": 1,
   "id": "b6362528-da75-442b-bc2e-223ff687027e",
   "metadata": {},
   "outputs": [],
   "source": [
    "import seaborn as sns\n",
    "import pandas as pd\n",
    "import matplotlib.pyplot as plt\n",
    "import numpy as np\n",
    "import os\n",
    "import sys\n",
    "import pickle\n",
    "\n",
    "project_root = os.path.abspath(os.path.join(os.getcwd(), '..'))\n",
    "sys.path.append(project_root)\n",
    "\n",
    "from importlib import reload\n",
    "import src.utils.utils\n",
    "reload(src.utils.utils)\n",
    "from src.utils.utils import extract_info, exploded_format, dropempty"
   ]
  },
  {
   "cell_type": "code",
   "execution_count": 2,
   "id": "132e7dba-bb49-4eda-9ae5-e2d4823e46ee",
   "metadata": {},
   "outputs": [],
   "source": [
    "folder = '../data/CMU/'\n",
    "pickle_folder = \"../data/pickle/\""
   ]
  },
  {
   "cell_type": "code",
   "execution_count": 3,
   "id": "86b69126-1e8d-42e7-8155-804a082fcbc2",
   "metadata": {},
   "outputs": [],
   "source": [
    "movie_original_data = pd.read_csv(folder + 'movie.metadata.tsv' ,sep='\\t',names=['Wikipedia_movie_ID',\n",
    "'Freebase_movie_ID',\n",
    "'Movie_name',\n",
    "'Movie_release_date',\n",
    "'Movie_box_office_revenue',\n",
    "'Movie_runtime',\n",
    "'Movie_languages_(Freebase_ID:name_tuples)',\n",
    "'Movie_countries_(Freebase_ID:name_tuples)',\n",
    "'Movie_genres_(Freebase_ID:name_tuples)'])"
   ]
  },
  {
   "cell_type": "code",
   "execution_count": 4,
   "id": "f3a4a93f-cc15-4af3-8f0e-3b0cd99352bb",
   "metadata": {
    "scrolled": true
   },
   "outputs": [],
   "source": [
    "movies = movie_original_data.copy()"
   ]
  },
  {
   "cell_type": "code",
   "execution_count": 5,
   "id": "bb72a087-54ec-4eb3-9b05-ddb1a7f18948",
   "metadata": {},
   "outputs": [
    {
     "name": "stdout",
     "output_type": "stream",
     "text": [
      "The original number of movie in movie.metadata dataset is : 81741\n"
     ]
    }
   ],
   "source": [
    "print(\"The original number of movie in movie.metadata dataset is : {}\".format(movies.shape[0]))"
   ]
  },
  {
   "cell_type": "markdown",
   "id": "b39fa432-dad8-4634-82e0-f570a3f08060",
   "metadata": {},
   "source": [
    "## 1. Dropping invalid values for Movie box office revenue"
   ]
  },
  {
   "cell_type": "markdown",
   "id": "875d3646-8770-4e77-aa42-0be7dfb1a187",
   "metadata": {},
   "source": [
    "- Most important, because our main question is focusing on the implications of characteristics on the overall box office performance of movies, the first goal is to drop all the movie lines where the box office is not detailed. "
   ]
  },
  {
   "cell_type": "code",
   "execution_count": 6,
   "id": "5f0399bd-e923-4ea7-a50c-fb7909c607e6",
   "metadata": {},
   "outputs": [],
   "source": [
    "movies_with_box_office = movies.dropna(subset=['Movie_box_office_revenue'])"
   ]
  },
  {
   "cell_type": "code",
   "execution_count": 7,
   "id": "4087f651-07b3-42b3-b35f-ee0c864d3fc3",
   "metadata": {},
   "outputs": [
    {
     "name": "stdout",
     "output_type": "stream",
     "text": [
      "The number of movie with a valid value for the box office revenue in movie.metadata dataset :\n",
      " 8401\n"
     ]
    }
   ],
   "source": [
    "print(\"The number of movie with a valid value for the box office revenue in movie.metadata dataset :\\n {}\".format(movies_with_box_office.shape[0]))"
   ]
  },
  {
   "cell_type": "markdown",
   "id": "dd012ac4-e1e3-49d3-b845-c48b4d020a0e",
   "metadata": {},
   "source": [
    "- We notice that dropping all the movies without a valid box office revenue value reduces the size of the dataframe by a factor of almost 10. Hence, we think that we should take another criteria to complete the evaluation of the success of movies. That was the main reason that pushed us to study the imdb dataset and its ratings."
   ]
  },
  {
   "cell_type": "markdown",
   "id": "1e2c05c4-9aa8-4019-a42f-c61a6dd09393",
   "metadata": {},
   "source": [
    "##  2. Cleaning Features"
   ]
  },
  {
   "cell_type": "markdown",
   "id": "cc5a5b71-6fa7-4c95-82ce-2fa0ad351220",
   "metadata": {},
   "source": [
    "- Before starting the analysis of the features relevant to our project, we will drop the columns that are irrelevant to us or that we don’t intend to use, to avoid being overwhelmed by unnecessary information when printing the data frames."
   ]
  },
  {
   "cell_type": "code",
   "execution_count": 8,
   "id": "14db430f-4000-46fa-b1e7-35b1dfaa01ca",
   "metadata": {},
   "outputs": [
    {
     "data": {
      "text/html": [
       "<div>\n",
       "<style scoped>\n",
       "    .dataframe tbody tr th:only-of-type {\n",
       "        vertical-align: middle;\n",
       "    }\n",
       "\n",
       "    .dataframe tbody tr th {\n",
       "        vertical-align: top;\n",
       "    }\n",
       "\n",
       "    .dataframe thead th {\n",
       "        text-align: right;\n",
       "    }\n",
       "</style>\n",
       "<table border=\"1\" class=\"dataframe\">\n",
       "  <thead>\n",
       "    <tr style=\"text-align: right;\">\n",
       "      <th></th>\n",
       "      <th>Wikipedia_movie_ID</th>\n",
       "      <th>Movie_name</th>\n",
       "      <th>Movie_release_date</th>\n",
       "      <th>Movie_box_office_revenue</th>\n",
       "      <th>Movie_languages_(Freebase_ID:name_tuples)</th>\n",
       "      <th>Movie_countries_(Freebase_ID:name_tuples)</th>\n",
       "      <th>Movie_genres_(Freebase_ID:name_tuples)</th>\n",
       "    </tr>\n",
       "  </thead>\n",
       "  <tbody>\n",
       "    <tr>\n",
       "      <th>79259</th>\n",
       "      <td>26108501</td>\n",
       "      <td>Caterpillar</td>\n",
       "      <td>2010-08-14</td>\n",
       "      <td>NaN</td>\n",
       "      <td>{\"/m/03_9r\": \"Japanese Language\", \"/m/012w70\":...</td>\n",
       "      <td>{\"/m/03_3d\": \"Japan\"}</td>\n",
       "      <td>{\"/m/0gw5n2f\": \"Japanese Movies\", \"/m/07s9rl0\"...</td>\n",
       "    </tr>\n",
       "    <tr>\n",
       "      <th>56931</th>\n",
       "      <td>18985525</td>\n",
       "      <td>Ram Dass Fierce Grace</td>\n",
       "      <td>2001</td>\n",
       "      <td>NaN</td>\n",
       "      <td>{}</td>\n",
       "      <td>{\"/m/09c7w0\": \"United States of America\"}</td>\n",
       "      <td>{\"/m/017fp\": \"Biography\", \"/m/0jtdp\": \"Documen...</td>\n",
       "    </tr>\n",
       "    <tr>\n",
       "      <th>69614</th>\n",
       "      <td>33002585</td>\n",
       "      <td>Zulm Ki Hukumat</td>\n",
       "      <td>1992</td>\n",
       "      <td>NaN</td>\n",
       "      <td>{\"/m/03k50\": \"Hindi Language\"}</td>\n",
       "      <td>{\"/m/03rk0\": \"India\"}</td>\n",
       "      <td>{\"/m/07s9rl0\": \"Drama\"}</td>\n",
       "    </tr>\n",
       "    <tr>\n",
       "      <th>76545</th>\n",
       "      <td>3493556</td>\n",
       "      <td>Shot through the heart</td>\n",
       "      <td>1998</td>\n",
       "      <td>NaN</td>\n",
       "      <td>{\"/m/02h40lc\": \"English Language\"}</td>\n",
       "      <td>{\"/m/09c7w0\": \"United States of America\", \"/m/...</td>\n",
       "      <td>{\"/m/015w9s\": \"Television movie\", \"/m/07s9rl0\"...</td>\n",
       "    </tr>\n",
       "    <tr>\n",
       "      <th>6229</th>\n",
       "      <td>11868578</td>\n",
       "      <td>Kadhalil Vizhunthen</td>\n",
       "      <td>2008-09-26</td>\n",
       "      <td>NaN</td>\n",
       "      <td>{\"/m/07c9s\": \"Tamil Language\"}</td>\n",
       "      <td>{\"/m/03rk0\": \"India\"}</td>\n",
       "      <td>{\"/m/02l7c8\": \"Romance Film\"}</td>\n",
       "    </tr>\n",
       "  </tbody>\n",
       "</table>\n",
       "</div>"
      ],
      "text/plain": [
       "       Wikipedia_movie_ID              Movie_name Movie_release_date  \\\n",
       "79259            26108501             Caterpillar         2010-08-14   \n",
       "56931            18985525   Ram Dass Fierce Grace               2001   \n",
       "69614            33002585         Zulm Ki Hukumat               1992   \n",
       "76545             3493556  Shot through the heart               1998   \n",
       "6229             11868578     Kadhalil Vizhunthen         2008-09-26   \n",
       "\n",
       "       Movie_box_office_revenue  \\\n",
       "79259                       NaN   \n",
       "56931                       NaN   \n",
       "69614                       NaN   \n",
       "76545                       NaN   \n",
       "6229                        NaN   \n",
       "\n",
       "               Movie_languages_(Freebase_ID:name_tuples)  \\\n",
       "79259  {\"/m/03_9r\": \"Japanese Language\", \"/m/012w70\":...   \n",
       "56931                                                 {}   \n",
       "69614                     {\"/m/03k50\": \"Hindi Language\"}   \n",
       "76545                 {\"/m/02h40lc\": \"English Language\"}   \n",
       "6229                      {\"/m/07c9s\": \"Tamil Language\"}   \n",
       "\n",
       "               Movie_countries_(Freebase_ID:name_tuples)  \\\n",
       "79259                              {\"/m/03_3d\": \"Japan\"}   \n",
       "56931          {\"/m/09c7w0\": \"United States of America\"}   \n",
       "69614                              {\"/m/03rk0\": \"India\"}   \n",
       "76545  {\"/m/09c7w0\": \"United States of America\", \"/m/...   \n",
       "6229                               {\"/m/03rk0\": \"India\"}   \n",
       "\n",
       "                  Movie_genres_(Freebase_ID:name_tuples)  \n",
       "79259  {\"/m/0gw5n2f\": \"Japanese Movies\", \"/m/07s9rl0\"...  \n",
       "56931  {\"/m/017fp\": \"Biography\", \"/m/0jtdp\": \"Documen...  \n",
       "69614                            {\"/m/07s9rl0\": \"Drama\"}  \n",
       "76545  {\"/m/015w9s\": \"Television movie\", \"/m/07s9rl0\"...  \n",
       "6229                       {\"/m/02l7c8\": \"Romance Film\"}  "
      ]
     },
     "execution_count": 8,
     "metadata": {},
     "output_type": "execute_result"
    }
   ],
   "source": [
    "movies_clean = movies.drop(columns=['Freebase_movie_ID','Movie_runtime'])\n",
    "movies_clean.sample(5)"
   ]
  },
  {
   "cell_type": "markdown",
   "id": "9ff4325d-fee5-4500-8925-e89e04e4f6e6",
   "metadata": {},
   "source": [
    "###  2.1. Cleaning the Dates"
   ]
  },
  {
   "cell_type": "markdown",
   "id": "7b169a64-08d0-44a0-89b9-9b3fc6207efd",
   "metadata": {},
   "source": [
    "- First, we saw that for the movie \"Hunting Season\" the release date written was \"1010-12-02\" but the real release date is  \"2010-12-02\" :"
   ]
  },
  {
   "cell_type": "code",
   "execution_count": 9,
   "id": "509341c0-3618-454d-a37b-477abde74178",
   "metadata": {},
   "outputs": [
    {
     "data": {
      "text/html": [
       "<div>\n",
       "<style scoped>\n",
       "    .dataframe tbody tr th:only-of-type {\n",
       "        vertical-align: middle;\n",
       "    }\n",
       "\n",
       "    .dataframe tbody tr th {\n",
       "        vertical-align: top;\n",
       "    }\n",
       "\n",
       "    .dataframe thead th {\n",
       "        text-align: right;\n",
       "    }\n",
       "</style>\n",
       "<table border=\"1\" class=\"dataframe\">\n",
       "  <thead>\n",
       "    <tr style=\"text-align: right;\">\n",
       "      <th></th>\n",
       "      <th>Wikipedia_movie_ID</th>\n",
       "      <th>Movie_name</th>\n",
       "      <th>Movie_release_date</th>\n",
       "      <th>Movie_box_office_revenue</th>\n",
       "      <th>Movie_languages_(Freebase_ID:name_tuples)</th>\n",
       "      <th>Movie_countries_(Freebase_ID:name_tuples)</th>\n",
       "      <th>Movie_genres_(Freebase_ID:name_tuples)</th>\n",
       "    </tr>\n",
       "  </thead>\n",
       "  <tbody>\n",
       "    <tr>\n",
       "      <th>62836</th>\n",
       "      <td>29666067</td>\n",
       "      <td>Hunting Season</td>\n",
       "      <td>1010-12-02</td>\n",
       "      <td>12160978.0</td>\n",
       "      <td>{\"/m/02hwyss\": \"Turkish Language\", \"/m/02h40lc...</td>\n",
       "      <td>{\"/m/01znc_\": \"Turkey\"}</td>\n",
       "      <td>{\"/m/0lsxr\": \"Crime Fiction\", \"/m/02n4kr\": \"My...</td>\n",
       "    </tr>\n",
       "  </tbody>\n",
       "</table>\n",
       "</div>"
      ],
      "text/plain": [
       "       Wikipedia_movie_ID      Movie_name Movie_release_date  \\\n",
       "62836            29666067  Hunting Season         1010-12-02   \n",
       "\n",
       "       Movie_box_office_revenue  \\\n",
       "62836                12160978.0   \n",
       "\n",
       "               Movie_languages_(Freebase_ID:name_tuples)  \\\n",
       "62836  {\"/m/02hwyss\": \"Turkish Language\", \"/m/02h40lc...   \n",
       "\n",
       "      Movie_countries_(Freebase_ID:name_tuples)  \\\n",
       "62836                   {\"/m/01znc_\": \"Turkey\"}   \n",
       "\n",
       "                  Movie_genres_(Freebase_ID:name_tuples)  \n",
       "62836  {\"/m/0lsxr\": \"Crime Fiction\", \"/m/02n4kr\": \"My...  "
      ]
     },
     "execution_count": 9,
     "metadata": {},
     "output_type": "execute_result"
    }
   ],
   "source": [
    "movies_clean.loc[movies['Movie_name'] == 'Hunting Season']"
   ]
  },
  {
   "cell_type": "markdown",
   "id": "a1409b21-1e59-4b25-afe9-7141d721d56c",
   "metadata": {},
   "source": [
    "Hence, we modified this value by the true one : "
   ]
  },
  {
   "cell_type": "code",
   "execution_count": 10,
   "id": "a98bd650-0563-46b0-ba3b-adf8006f62bc",
   "metadata": {},
   "outputs": [
    {
     "name": "stdout",
     "output_type": "stream",
     "text": [
      "2010-12-02\n"
     ]
    }
   ],
   "source": [
    "movies_clean.loc[62836, 'Movie_release_date'] = '2010-12-02'\n",
    "print(movies_clean.loc[62836, 'Movie_release_date'])"
   ]
  },
  {
   "cell_type": "markdown",
   "id": "836b2996-a5a7-451a-846e-c11cf3cf10db",
   "metadata": {},
   "source": [
    "- Drop all the movies where no release date are written"
   ]
  },
  {
   "cell_type": "code",
   "execution_count": 11,
   "id": "2690520c-f1dd-4e5c-912c-7b72b72b0de3",
   "metadata": {},
   "outputs": [],
   "source": [
    "movies_clean = movies_clean.dropna(inplace = False, subset = 'Movie_release_date').copy()"
   ]
  },
  {
   "cell_type": "code",
   "execution_count": 12,
   "id": "3e8506ea-3a1c-4973-9d62-d1f3c2180c35",
   "metadata": {},
   "outputs": [
    {
     "data": {
      "text/plain": [
       "74839"
      ]
     },
     "execution_count": 12,
     "metadata": {},
     "output_type": "execute_result"
    }
   ],
   "source": [
    "movies_clean.shape[0]"
   ]
  },
  {
   "cell_type": "markdown",
   "id": "c5dba24f-f6f7-4930-8440-89a304258f33",
   "metadata": {},
   "source": [
    "- Create a column 'Year' where we only have the released year of the movie (to do year by year analysis) : "
   ]
  },
  {
   "cell_type": "code",
   "execution_count": 13,
   "id": "b4ee2eb6-111d-4576-bebf-29a8d5ce1397",
   "metadata": {},
   "outputs": [],
   "source": [
    "movies_clean['Year'] = movies_clean['Movie_release_date'].str[:4]\n",
    "movies_clean['Year'] = movies_clean['Year'].astype(int)"
   ]
  },
  {
   "cell_type": "markdown",
   "id": "3198b19c-0b93-4aae-a44c-2afafb2a1892",
   "metadata": {},
   "source": [
    "- For our study, in addition to analyzing the dataset year by year, we decided to conduct an analysis across six different intervals of approximately 20 years each, spanning from 1915 to 2015. We decided to restrain ourself to that particular period because of the lack of meaningful data befor the 1910 decade.\n",
    "- We created a 'Year_Interval' column in which each film is categorized into one of the six designated study intervals.\n",
    "- Finally, we save our new version of the movies dataset with these new columns"
   ]
  },
  {
   "cell_type": "code",
   "execution_count": 14,
   "id": "27c6719f-3426-440a-9938-258d47450d50",
   "metadata": {},
   "outputs": [],
   "source": [
    "movies_clean['Year_Interval'] = pd.cut(movies_clean['Year'], bins=[1914, 1935, 1955, 1975, 1995, 2016], labels=['1915-1935', '1935-1955', '1955-1975', '1975-1995', '1995-2015'])\n",
    "movies_clean['Year_Interval'] = movies_clean['Year_Interval'].astype(str)\n",
    "\n",
    "movies_clean = movies_clean.query(\" 2016 > Year > 1914\")\n",
    "\n",
    "pickle.dump( movies_clean, open(pickle_folder + \"movies_clean.p\", \"wb\" ) )"
   ]
  },
  {
   "cell_type": "markdown",
   "id": "74e438b3-c4ba-4fd7-8af6-d0e720b08b4d",
   "metadata": {},
   "source": [
    "- Now, because we will also do some analysis using the seasons (summer, winter, fall, spring) of movies' release date. We create another DataFrame, in which each movie with a specified release date is categorized by the season in which it was released.\n",
    "- We also save this Dataframe creating a second version of our clean dataset. We prefer to have these rather than just merging the two and keeping only one because the creation of the 'release_season' excludes all the movies for which we don't have information about the month of release"
   ]
  },
  {
   "cell_type": "code",
   "execution_count": 15,
   "id": "e48b16d6-7adb-44de-aeeb-6617842faa92",
   "metadata": {},
   "outputs": [],
   "source": [
    "project_root = os.path.abspath(os.path.join(os.getcwd(), '..'))\n",
    "sys.path.append(project_root)\n",
    "\n",
    "from src.utils.utils import categorize_release_season"
   ]
  },
  {
   "cell_type": "code",
   "execution_count": 16,
   "id": "dee09238-ce78-4074-a7d7-69983e742091",
   "metadata": {},
   "outputs": [],
   "source": [
    "md_release_season = movies_clean.copy()\n",
    "md_release_season['Movie_release_date'] = pd.to_datetime(md_release_season['Movie_release_date'], errors='coerce')\n",
    "md_release_season.dropna(subset = 'Movie_release_date', inplace = True)"
   ]
  },
  {
   "cell_type": "code",
   "execution_count": 17,
   "id": "2348d87b-aef9-47aa-a41b-1ef637fcbe68",
   "metadata": {},
   "outputs": [
    {
     "data": {
      "text/plain": [
       "38531"
      ]
     },
     "execution_count": 17,
     "metadata": {},
     "output_type": "execute_result"
    }
   ],
   "source": [
    "md_release_season['release_season'] = md_release_season['Movie_release_date'].apply(categorize_release_season)\n",
    "md_release_season.shape[0]"
   ]
  },
  {
   "cell_type": "code",
   "execution_count": 18,
   "id": "9d66d480-9e12-4f20-921a-a33703d5c6ff",
   "metadata": {},
   "outputs": [],
   "source": [
    "md_release_season\n",
    "pickle.dump( md_release_season, open(pickle_folder + \"movies_clean_with_season.p\", \"wb\" ) )"
   ]
  },
  {
   "cell_type": "markdown",
   "id": "5457a2f6-1af5-4953-9ab3-f44afdc94442",
   "metadata": {},
   "source": [
    "### 2.2. Clean 'Genres' Column "
   ]
  },
  {
   "cell_type": "markdown",
   "id": "abd08079-85e5-4590-b204-efb3b2a30d57",
   "metadata": {},
   "source": [
    "- The ‘genres’ characteristic is among the key features to answer our general question. However, we noticed that in the movies.metadata dataset, this feature was presented in a (Freebase_ID:name_tuples) format, and thus wasn’t very clear and understandable. That is why we decided to reformat the ‘genres’ feature.\n",
    "- We dropped all the movies that have no information about their genres (more than 1700)"
   ]
  },
  {
   "cell_type": "code",
   "execution_count": 19,
   "id": "233da98c-6004-4f8b-b7fe-69102dcf65c1",
   "metadata": {},
   "outputs": [
    {
     "name": "stdout",
     "output_type": "stream",
     "text": [
      "Number of movies dropped : 1756\n"
     ]
    }
   ],
   "source": [
    "column_name = 'Movie_genres_(Freebase_ID:name_tuples)' \n",
    "\n",
    "md_Genres = movies_clean.copy()\n",
    "md_Genres[\"Genres\"] = md_Genres[column_name].apply(extract_info)\n",
    "\n",
    "md_Genres, n = dropempty(md_Genres,'Genres')\n",
    "print(f\"Number of movies dropped : {n}\")"
   ]
  },
  {
   "cell_type": "markdown",
   "id": "b94a1ec8-f76a-4acd-8b61-b2acc3e7e50a",
   "metadata": {},
   "source": [
    "- We splits the \"Genres\" column into a new DataFrame, expanding lists into separate columns. We calculates the number of genres for each entry and adds this count as a new column. As we can see when using the describe() method, each movie has 3 'Genres' in average."
   ]
  },
  {
   "cell_type": "code",
   "execution_count": 20,
   "id": "fc856957-629a-44c3-b249-0a1a38360001",
   "metadata": {},
   "outputs": [
    {
     "data": {
      "text/plain": [
       "count    71771.000000\n",
       "mean         3.165931\n",
       "std          2.112019\n",
       "min          1.000000\n",
       "25%          1.000000\n",
       "50%          3.000000\n",
       "75%          4.000000\n",
       "max         17.000000\n",
       "Name: nb_of_Genres, dtype: float64"
      ]
     },
     "execution_count": 20,
     "metadata": {},
     "output_type": "execute_result"
    }
   ],
   "source": [
    "genres_split = pd.DataFrame(md_Genres[\"Genres\"].tolist(), index=md_Genres.index)\n",
    "md_Genres['nb_of_Genres'] = md_Genres[\"Genres\"].apply(lambda x:len(x))\n",
    "md_Genres['nb_of_Genres'].describe()"
   ]
  },
  {
   "cell_type": "code",
   "execution_count": 21,
   "id": "a377ce8d-1912-45e4-82b3-72fa5729983b",
   "metadata": {},
   "outputs": [
    {
     "data": {
      "text/html": [
       "<div>\n",
       "<style scoped>\n",
       "    .dataframe tbody tr th:only-of-type {\n",
       "        vertical-align: middle;\n",
       "    }\n",
       "\n",
       "    .dataframe tbody tr th {\n",
       "        vertical-align: top;\n",
       "    }\n",
       "\n",
       "    .dataframe thead th {\n",
       "        text-align: right;\n",
       "    }\n",
       "</style>\n",
       "<table border=\"1\" class=\"dataframe\">\n",
       "  <thead>\n",
       "    <tr style=\"text-align: right;\">\n",
       "      <th></th>\n",
       "      <th>Genres_0</th>\n",
       "      <th>Genres_1</th>\n",
       "      <th>Genres_2</th>\n",
       "    </tr>\n",
       "  </thead>\n",
       "  <tbody>\n",
       "    <tr>\n",
       "      <th>72486</th>\n",
       "      <td>\"Fantasy\"</td>\n",
       "      <td>\"Drama\"</td>\n",
       "      <td>\"Comedy\"</td>\n",
       "    </tr>\n",
       "    <tr>\n",
       "      <th>27455</th>\n",
       "      <td>\"Art film\"</td>\n",
       "      <td>\"World cinema\"</td>\n",
       "      <td>\"Comedy-drama\"</td>\n",
       "    </tr>\n",
       "    <tr>\n",
       "      <th>47131</th>\n",
       "      <td>\"Romance Film\"</td>\n",
       "      <td>\"Musical\"</td>\n",
       "      <td>\"Comedy\"</td>\n",
       "    </tr>\n",
       "    <tr>\n",
       "      <th>73485</th>\n",
       "      <td>\"War film\"</td>\n",
       "      <td>\"Indie\"</td>\n",
       "      <td>\"Documentary\"</td>\n",
       "    </tr>\n",
       "    <tr>\n",
       "      <th>16173</th>\n",
       "      <td>\"Fantasy\"</td>\n",
       "      <td>\"Comedy film\"</td>\n",
       "      <td>\"Drama\"</td>\n",
       "    </tr>\n",
       "  </tbody>\n",
       "</table>\n",
       "</div>"
      ],
      "text/plain": [
       "             Genres_0        Genres_1        Genres_2\n",
       "72486       \"Fantasy\"         \"Drama\"        \"Comedy\"\n",
       "27455      \"Art film\"  \"World cinema\"  \"Comedy-drama\"\n",
       "47131  \"Romance Film\"       \"Musical\"        \"Comedy\"\n",
       "73485      \"War film\"         \"Indie\"   \"Documentary\"\n",
       "16173       \"Fantasy\"   \"Comedy film\"         \"Drama\""
      ]
     },
     "execution_count": 21,
     "metadata": {},
     "output_type": "execute_result"
    }
   ],
   "source": [
    "# We keep only the first three genres of each row\n",
    "genres_split = genres_split.iloc[:, :3]\n",
    "genres_split = genres_split.add_prefix(\"Genres_\")\n",
    "genres_split.sample(5)"
   ]
  },
  {
   "cell_type": "markdown",
   "id": "d37e3969-c84c-4851-8bf8-d63179f1fecb",
   "metadata": {},
   "source": [
    "- We update the previous dataframes by adding the new 'genres' columns"
   ]
  },
  {
   "cell_type": "code",
   "execution_count": 22,
   "id": "20413ba9-0670-4dd3-afc9-cbd15404240a",
   "metadata": {},
   "outputs": [],
   "source": [
    "data_genres = md_Genres.join(genres_split).drop(columns=[\"nb_of_Genres\",\"Genres\",\"Movie_genres_(Freebase_ID:name_tuples)\"])\n",
    "\n",
    "with open(pickle_folder + 'movies_clean.p', 'wb') as f:\n",
    "    pickle.dump(data_genres, f)  \n",
    "    \n",
    "with open(pickle_folder + 'movies_clean_with_season.p', 'wb') as f:\n",
    "    movie_clean_with_season = md_release_season.join(genres_split).drop(columns=[\"Movie_genres_(Freebase_ID:name_tuples)\"])\n",
    "    pickle.dump(movie_clean_with_season, f)"
   ]
  },
  {
   "cell_type": "markdown",
   "id": "588b69f9-0678-46ef-a6d7-1dab0cbef408",
   "metadata": {},
   "source": [
    "- We also create a dataframe containing 'genres' in an exploded format in order to facilitate the frequency analysis of genres"
   ]
  },
  {
   "cell_type": "code",
   "execution_count": 23,
   "id": "00bcbfa7-7958-4bb8-8005-ec32569e4ba6",
   "metadata": {},
   "outputs": [
    {
     "data": {
      "text/plain": [
       "Genres\n",
       "\"Drama\"                31547\n",
       "\"Comedy\"               15402\n",
       "\"Romance Film\"          9730\n",
       "\"Thriller\"              8396\n",
       "\"Action\"                8266\n",
       "                       ...  \n",
       "\"Statutory rape\"           1\n",
       "\"Romantic thriller\"        1\n",
       "\"Chick flick\"              1\n",
       "\"Buddy Picture\"            1\n",
       "\"Neorealism\"               1\n",
       "Name: count, Length: 363, dtype: int64"
      ]
     },
     "metadata": {},
     "output_type": "display_data"
    }
   ],
   "source": [
    "exploded_format('Genres',md_Genres,pickle_folder + \"movies_genres_exploded.p\")"
   ]
  },
  {
   "cell_type": "markdown",
   "id": "93662221-83b4-4cb3-b9a2-71588d5f7522",
   "metadata": {},
   "source": [
    "### 2.3. Clean 'Languages' Column"
   ]
  },
  {
   "cell_type": "markdown",
   "id": "ec79f5e5-743c-4e45-99cd-78e884fdde6d",
   "metadata": {},
   "source": [
    "- In the same way as the part for Genres’ characteristics, this feature was presented in a (Freebase_ID:name_tuples) format, and thus wasn’t very clear and understandable. That is why we decided to reformat the ‘Language’ feature.\n",
    "- We dropped all the movies that have no information about their languages (~ 9900)"
   ]
  },
  {
   "cell_type": "code",
   "execution_count": 24,
   "id": "976e3fcd-3445-42fc-829a-e461f7fb9e3f",
   "metadata": {},
   "outputs": [
    {
     "name": "stdout",
     "output_type": "stream",
     "text": [
      "Number of movies dropped : 9859\n"
     ]
    }
   ],
   "source": [
    "column_name = 'Movie_languages_(Freebase_ID:name_tuples)'\n",
    "\n",
    "md_language = movies_clean.copy()\n",
    "md_language['Language'] = md_language[column_name].apply(extract_info)\n",
    "\n",
    "\n",
    "md_language, n = dropempty(md_language,'Language')\n",
    "print(f\"Number of movies dropped : {n}\")"
   ]
  },
  {
   "cell_type": "markdown",
   "id": "b8c2215d-6456-44cc-8acc-ae4ad25dad80",
   "metadata": {},
   "source": [
    "- We splits the \"Language\" column into a new DataFrame, expanding lists into separate columns. We calculate the number of languages for each entry and add this count as a new column. As we can see when using the describe() method, each movie has 1 \"Language\" on average."
   ]
  },
  {
   "cell_type": "code",
   "execution_count": 25,
   "id": "21d8b314-bdda-43c0-8f33-982b0fb42bd5",
   "metadata": {},
   "outputs": [
    {
     "data": {
      "text/plain": [
       "count    63668.000000\n",
       "mean         1.195828\n",
       "std          0.576698\n",
       "min          1.000000\n",
       "25%          1.000000\n",
       "50%          1.000000\n",
       "75%          1.000000\n",
       "max         15.000000\n",
       "Name: nb_of_Languages, dtype: float64"
      ]
     },
     "execution_count": 25,
     "metadata": {},
     "output_type": "execute_result"
    }
   ],
   "source": [
    "language_split = pd.DataFrame(md_language[\"Language\"].tolist(), index=md_language.index)\n",
    "md_language['nb_of_Languages'] = md_language[\"Language\"].apply(lambda x:len(x))\n",
    "md_language['nb_of_Languages'].describe()"
   ]
  },
  {
   "cell_type": "markdown",
   "id": "cc7802e2-4a49-4ad2-a0d2-895870ce962e",
   "metadata": {},
   "source": [
    "- We decided not to save a split version of the dataframe with languages because of the inbalance between the mean and the max, resulting in 15 new columns almost filled of None. With the 'Genres' features we could select the top three genres to avoid that problem but we couldn't do the same for 'Language' feature as there is no order between the languages."
   ]
  },
  {
   "cell_type": "markdown",
   "id": "556fd29f-2423-46f8-a27d-c1cb4edc2452",
   "metadata": {},
   "source": [
    "- We create a new dataframe containing the Languages in an exploded format in order to facilitate the frequency analysis of languages"
   ]
  },
  {
   "cell_type": "code",
   "execution_count": 26,
   "id": "af60ae52-589b-4273-ad51-9da213de25fb",
   "metadata": {},
   "outputs": [
    {
     "data": {
      "text/plain": [
       "Language\n",
       "\"English Language\"           38867\n",
       "\"Spanish Language\"            3526\n",
       "\"Hindi Language\"              3431\n",
       "\"French Language\"             3293\n",
       "\"Italian Language\"            2434\n",
       "                             ...  \n",
       "\"Sunda Language\"                 1\n",
       "\"Hazaragi Language\"              1\n",
       "\"Pawnee Language\"                1\n",
       "\"Gumatj Language\"                1\n",
       "\"Judeo-Georgian Language\"        1\n",
       "Name: count, Length: 191, dtype: int64"
      ]
     },
     "metadata": {},
     "output_type": "display_data"
    }
   ],
   "source": [
    "exploded_format('Language',md_language,pickle_folder + \"movies_languages_exploded.p\")"
   ]
  },
  {
   "cell_type": "markdown",
   "id": "8ff29ef9-1db7-46ba-9336-2dbab1cd148b",
   "metadata": {},
   "source": [
    "### 2.4. Clean 'Countries' Column "
   ]
  },
  {
   "cell_type": "markdown",
   "id": "7b8996ad-29ee-42a6-a71a-97a098c829b9",
   "metadata": {},
   "source": [
    "- For the Countries feature, similar to the approach used for the Genres feature, the data was originally presented in a (Freebase_ID:name_tuples) format, making it unclear and difficult to interpret. To address this, we chose to reformat the Countries feature into a more understandable structure.\n",
    "- We dropped all the movies that have no information about their countries (~ 5000)"
   ]
  },
  {
   "cell_type": "code",
   "execution_count": 27,
   "id": "a8641abb-877d-40b1-847d-6e11609ce5bb",
   "metadata": {},
   "outputs": [
    {
     "name": "stdout",
     "output_type": "stream",
     "text": [
      "Number of movies dropped : 5070\n"
     ]
    }
   ],
   "source": [
    "column_name = \"Movie_countries_(Freebase_ID:name_tuples)\"\n",
    "\n",
    "md_countries = movies_clean.copy()\n",
    "md_countries[\"Countries\"] = md_countries[column_name].apply(extract_info)\n",
    "\n",
    "md_countries, n = dropempty(md_countries,'Countries')\n",
    "print(f\"Number of movies dropped : {n}\")"
   ]
  },
  {
   "cell_type": "markdown",
   "id": "2f786340-8c77-43fa-9d14-d11e26588da8",
   "metadata": {},
   "source": [
    "- We splits the \"Countries\" column into a new DataFrame, expanding lists into separate columns. We calculate the number of countries for each entry and add this count as a new column. As we can see when using the describe() method, each movie has 1 \"Countries\" on average."
   ]
  },
  {
   "cell_type": "code",
   "execution_count": 28,
   "id": "c24ede5f-15a0-40ee-a217-98b414e5fd99",
   "metadata": {},
   "outputs": [
    {
     "data": {
      "text/plain": [
       "count    68457.000000\n",
       "mean         1.182494\n",
       "std          0.555381\n",
       "min          1.000000\n",
       "25%          1.000000\n",
       "50%          1.000000\n",
       "75%          1.000000\n",
       "max         14.000000\n",
       "Name: nb_of_Countries, dtype: float64"
      ]
     },
     "execution_count": 28,
     "metadata": {},
     "output_type": "execute_result"
    }
   ],
   "source": [
    "countries_split = pd.DataFrame(md_countries[\"Countries\"].tolist(), index=md_countries.index)\n",
    "md_countries['nb_of_Countries'] = md_countries[\"Countries\"].apply(lambda x:len(x))\n",
    "md_countries['nb_of_Countries'].describe()"
   ]
  },
  {
   "cell_type": "markdown",
   "id": "80b163d3-37b1-49b0-b743-3619beb26e3c",
   "metadata": {},
   "source": [
    "- Again, very similar to the 'Language' feature, we decided not to save a split version of the dataframe because of the inbalance between the mean and the max. We also couldn't choose the top 1 country for each movie as there is no order between the countries listed for each movie."
   ]
  },
  {
   "cell_type": "markdown",
   "id": "a6094b2f-4f87-4927-ad14-b81976355679",
   "metadata": {},
   "source": [
    "- We create a new dataframe containing the Countries in an exploded format in order to facilitate the frequency analysis of countries"
   ]
  },
  {
   "cell_type": "code",
   "execution_count": 29,
   "id": "c03738db-4c31-4806-bf47-d9fa98172fb4",
   "metadata": {},
   "outputs": [
    {
     "data": {
      "text/plain": [
       "Countries\n",
       "\"United States of America\"    32387\n",
       "\"India\"                        7762\n",
       "\"United Kingdom\"               7379\n",
       "\"France\"                       4077\n",
       "\"Italy\"                        3002\n",
       "                              ...  \n",
       "\"Iraqi Kurdistan\"                 1\n",
       "\"Jordan\"                          1\n",
       "\"Macau\"                           1\n",
       "\"Palestinian Territories\"         1\n",
       "\"Republic of China\"               1\n",
       "Name: count, Length: 146, dtype: int64"
      ]
     },
     "metadata": {},
     "output_type": "display_data"
    }
   ],
   "source": [
    "exploded_format('Countries',md_countries,pickle_folder + \"movies_countries_exploded.p\")"
   ]
  },
  {
   "cell_type": "code",
   "execution_count": null,
   "id": "32268d5f-1444-4c27-b0ab-b67af1bf8718",
   "metadata": {},
   "outputs": [],
   "source": []
  }
 ],
 "metadata": {
  "kernelspec": {
   "display_name": "Python 3 (ipykernel)",
   "language": "python",
   "name": "python3"
  },
  "language_info": {
   "codemirror_mode": {
    "name": "ipython",
    "version": 3
   },
   "file_extension": ".py",
   "mimetype": "text/x-python",
   "name": "python",
   "nbconvert_exporter": "python",
   "pygments_lexer": "ipython3",
   "version": "3.11.9"
  }
 },
 "nbformat": 4,
 "nbformat_minor": 5
}
