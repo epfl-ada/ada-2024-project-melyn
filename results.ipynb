{
 "cells": [
  {
   "cell_type": "markdown",
   "id": "9f1a02a8",
   "metadata": {},
   "source": [
    "# Applied Data Analysis: Movies\n",
    "This project analyzes the key factors influencing box-office success for films released between 1914 and 2016, seeking to understand how audience preferences and industry trends have evolved over time.\n",
    "\n",
    "We will work with two datasets:\n",
    "- CMU Movie Summary Corpus\n",
    "- IMDb dataset"
   ]
  },
  {
   "cell_type": "markdown",
   "id": "421ca75c",
   "metadata": {},
   "source": [
    "## Loading the Datasets"
   ]
  },
  {
   "cell_type": "code",
   "execution_count": 1,
   "id": "5ed22220-f080-4d52-90ed-52abd68275d4",
   "metadata": {},
   "outputs": [],
   "source": [
    "import seaborn as sns\n",
    "import pandas as pd\n",
    "import matplotlib.pyplot as plt\n",
    "import numpy as np\n",
    "import pickle\n",
    "from collections import Counter\n",
    "import os\n",
    "import sys\n",
    "\n",
    "from importlib import reload\n",
    "import src.utils.utils\n",
    "reload(src.utils.utils)\n",
    "from src.utils.utils import top_n_by_interval\n",
    "from src.utils.utils import top_n_total_revenue"
   ]
  },
  {
   "cell_type": "code",
   "execution_count": 2,
   "id": "c6b5e9e3-571f-4056-951a-c83de53c9dd5",
   "metadata": {},
   "outputs": [],
   "source": [
    "data_folder = './data/'\n",
    "pickle_folder = data_folder + 'pickle/'\n",
    "imdb_folder = data_folder + 'IMDB/'\n",
    "cmu_folder = data_folder + 'CMU/'"
   ]
  },
  {
   "cell_type": "code",
   "execution_count": 3,
   "id": "006d2dff-6ac9-4685-a0fe-5dc16964423a",
   "metadata": {},
   "outputs": [
    {
     "ename": "FileNotFoundError",
     "evalue": "[Errno 2] No such file or directory: './data/pickle/movies.p'",
     "output_type": "error",
     "traceback": [
      "\u001b[0;31m---------------------------------------------------------------------------\u001b[0m",
      "\u001b[0;31mFileNotFoundError\u001b[0m                         Traceback (most recent call last)",
      "Cell \u001b[0;32mIn[3], line 3\u001b[0m\n\u001b[1;32m      1\u001b[0m \u001b[38;5;66;03m## Load the data\u001b[39;00m\n\u001b[0;32m----> 3\u001b[0m \u001b[38;5;28;01mwith\u001b[39;00m \u001b[38;5;28mopen\u001b[39m(pickle_folder \u001b[38;5;241m+\u001b[39m \u001b[38;5;124m'\u001b[39m\u001b[38;5;124mmovies.p\u001b[39m\u001b[38;5;124m'\u001b[39m, \u001b[38;5;124m'\u001b[39m\u001b[38;5;124mrb\u001b[39m\u001b[38;5;124m'\u001b[39m) \u001b[38;5;28;01mas\u001b[39;00m f:\n\u001b[1;32m      4\u001b[0m     movie_data \u001b[38;5;241m=\u001b[39m pickle\u001b[38;5;241m.\u001b[39mload(f)\n\u001b[1;32m      6\u001b[0m \u001b[38;5;28;01mwith\u001b[39;00m \u001b[38;5;28mopen\u001b[39m(pickle_folder \u001b[38;5;241m+\u001b[39m \u001b[38;5;124m'\u001b[39m\u001b[38;5;124mcharacters.p\u001b[39m\u001b[38;5;124m'\u001b[39m, \u001b[38;5;124m'\u001b[39m\u001b[38;5;124mrb\u001b[39m\u001b[38;5;124m'\u001b[39m) \u001b[38;5;28;01mas\u001b[39;00m f:\n",
      "File \u001b[0;32m/opt/anaconda3/envs/ada/lib/python3.11/site-packages/IPython/core/interactiveshell.py:324\u001b[0m, in \u001b[0;36m_modified_open\u001b[0;34m(file, *args, **kwargs)\u001b[0m\n\u001b[1;32m    317\u001b[0m \u001b[38;5;28;01mif\u001b[39;00m file \u001b[38;5;129;01min\u001b[39;00m {\u001b[38;5;241m0\u001b[39m, \u001b[38;5;241m1\u001b[39m, \u001b[38;5;241m2\u001b[39m}:\n\u001b[1;32m    318\u001b[0m     \u001b[38;5;28;01mraise\u001b[39;00m \u001b[38;5;167;01mValueError\u001b[39;00m(\n\u001b[1;32m    319\u001b[0m         \u001b[38;5;124mf\u001b[39m\u001b[38;5;124m\"\u001b[39m\u001b[38;5;124mIPython won\u001b[39m\u001b[38;5;124m'\u001b[39m\u001b[38;5;124mt let you open fd=\u001b[39m\u001b[38;5;132;01m{\u001b[39;00mfile\u001b[38;5;132;01m}\u001b[39;00m\u001b[38;5;124m by default \u001b[39m\u001b[38;5;124m\"\u001b[39m\n\u001b[1;32m    320\u001b[0m         \u001b[38;5;124m\"\u001b[39m\u001b[38;5;124mas it is likely to crash IPython. If you know what you are doing, \u001b[39m\u001b[38;5;124m\"\u001b[39m\n\u001b[1;32m    321\u001b[0m         \u001b[38;5;124m\"\u001b[39m\u001b[38;5;124myou can use builtins\u001b[39m\u001b[38;5;124m'\u001b[39m\u001b[38;5;124m open.\u001b[39m\u001b[38;5;124m\"\u001b[39m\n\u001b[1;32m    322\u001b[0m     )\n\u001b[0;32m--> 324\u001b[0m \u001b[38;5;28;01mreturn\u001b[39;00m io_open(file, \u001b[38;5;241m*\u001b[39margs, \u001b[38;5;241m*\u001b[39m\u001b[38;5;241m*\u001b[39mkwargs)\n",
      "\u001b[0;31mFileNotFoundError\u001b[0m: [Errno 2] No such file or directory: './data/pickle/movies.p'"
     ]
    }
   ],
   "source": [
    "## Load the data\n",
    "\n",
    "with open(pickle_folder + 'movies.p', 'rb') as f:\n",
    "    movie_data = pickle.load(f)\n",
    "\n",
    "with open(pickle_folder + 'characters.p', 'rb') as f:\n",
    "    character_data = pickle.load(f)"
   ]
  },
  {
   "cell_type": "code",
   "execution_count": null,
   "id": "37a443b4",
   "metadata": {},
   "outputs": [],
   "source": [
    "movie_data"
   ]
  },
  {
   "cell_type": "code",
   "execution_count": null,
   "id": "42b389e6",
   "metadata": {},
   "outputs": [],
   "source": [
    "character_data"
   ]
  },
  {
   "cell_type": "code",
   "execution_count": null,
   "id": "88354e54-9b36-4847-8b67-472e1b48c80c",
   "metadata": {},
   "outputs": [],
   "source": [
    "# Copy the data to not lose the original one and drop the rows with missing values in the 'Movie release date' column\n",
    "# since we are studying the period 1910-2016\n",
    "\n",
    "with open(pickle_folder + 'movies_averageRating.p', 'rb') as f:\n",
    "    md = pickle.load(f)"
   ]
  },
  {
   "cell_type": "markdown",
   "id": "8919431c",
   "metadata": {},
   "source": [
    "# 1. Data Analysis"
   ]
  },
  {
   "cell_type": "markdown",
   "id": "137efbae",
   "metadata": {},
   "source": [
    "Firstly, we perform an exploratory data analysis. We focus on a variety of characteristics - such as genre, release time, translations, and lead actors' age and gender - to determine their impact on a film's revenue. By examining five historical periods, we trace how these factors’ influence on box-office success has evolved, reflecting broader societal, political, and historical changes."
   ]
  },
  {
   "cell_type": "markdown",
   "id": "05703b81",
   "metadata": {},
   "source": [
    "## 1.1 Analysis per Year"
   ]
  },
  {
   "cell_type": "markdown",
   "id": "032868ef",
   "metadata": {},
   "source": [
    "We start by analyzing the number of films and box-office revenues over the entire study period to understand how the role of movie productions has evolved over time."
   ]
  },
  {
   "cell_type": "markdown",
   "id": "03956e3d",
   "metadata": {},
   "source": [
    "### 1.1.1  Number of movies per Year"
   ]
  },
  {
   "cell_type": "markdown",
   "id": "5ef136b6",
   "metadata": {},
   "source": [
    "Firstly, we can observe that the number of movies has increased over the years,suggesting a growth of film production worldwide."
   ]
  },
  {
   "cell_type": "code",
   "execution_count": null,
   "id": "e25080b4",
   "metadata": {},
   "outputs": [],
   "source": [
    "md_number = md.copy().dropna(subset=['Movie_release_date'])\n",
    "movies_per_year = md_number['Year'].value_counts().sort_index()\n",
    "\n",
    "plt.figure(figsize=(6, 4))\n",
    "plt.plot(movies_per_year.index, movies_per_year.values, linestyle='-', color='teal')\n",
    "plt.fill_between(movies_per_year.index, movies_per_year.values, color='teal', alpha=0.5)\n",
    "plt.xlabel(\"Year\")\n",
    "plt.ylabel(\"Number of Movies\")\n",
    "plt.title(\"Evolution of Number of Movies per Year\")\n",
    "plt.show()"
   ]
  },
  {
   "cell_type": "markdown",
   "id": "0f6881e0",
   "metadata": {},
   "source": [
    "### 1.1.2 Box Office Revenue per Year"
   ]
  },
  {
   "cell_type": "markdown",
   "id": "c1edcbcc",
   "metadata": {},
   "source": [
    "In this section, the plot shows the evolution of mean box office revenue over the years. The black line represents the mean revenue over time, while the shaded blue area indicates the variability or spread around this mean. \n",
    "\n",
    "Initially, from 1915 to around 1950, box office revenue remains relatively low and stable. Starting in the 1950s, however, we observe a gradual upward trend, reflecting increased box office revenue, likely driven by the growing popularity of cinema, advancements in film production, and the post-war economic boom. \n",
    "\n",
    "From the 1970s onward, the revenue shows more pronounced growth, with increased variability. Indeed, this period corresponds to changes in distribution methods and the impact of global markets. The trend indicates that while the film industry has become more profitable over time, it has also become more volatile, suggesting some films achieving massive box office success while others underperform."
   ]
  },
  {
   "cell_type": "code",
   "execution_count": null,
   "id": "de375eef",
   "metadata": {},
   "outputs": [],
   "source": [
    "## Calculate the average and standard deviation of the box office revenue per year\n",
    "\n",
    "stats_per_year = md_number.groupby(by='Year')['Movie_box_office_revenue'].agg(\n",
    "    average='mean',\n",
    "    std_dev='std'\n",
    ").dropna()\n",
    "\n",
    "ax = stats_per_year.average.plot(xlim=(1910,2023),xticks=range(1895,2023,10),title='Evolution of Box Office mean Revenue',ylabel='Box office Revenue (in hundreds of Millions)',color='black')\n",
    "plt.fill_between(stats_per_year.index, stats_per_year.average - stats_per_year.std_dev,\n",
    "                 stats_per_year.average + stats_per_year.std_dev, alpha = 0.5, color = 'skyblue')"
   ]
  },
  {
   "cell_type": "markdown",
   "id": "2a6dcc66",
   "metadata": {},
   "source": [
    "## 1.2 Analysis per Country"
   ]
  },
  {
   "cell_type": "markdown",
   "id": "fe11fce5",
   "metadata": {},
   "source": [
    "In this section, we analyze the number of movies, box-office revenues, and film ratings by country to understand cultural preferences, evaluate the impact of international markets, detect success disparities, observe the evolution of the global film industry, and identify the factors that contribute to a film's success."
   ]
  },
  {
   "cell_type": "code",
   "execution_count": null,
   "id": "39b3ea3a",
   "metadata": {},
   "outputs": [],
   "source": [
    "with open(pickle_folder + 'movies_countries_ratings.p', 'rb') as f:\n",
    "    md_countries = pickle.load(f)"
   ]
  },
  {
   "cell_type": "markdown",
   "id": "28c4b8b6",
   "metadata": {},
   "source": [
    "### 1.2.1 Number of Movies per Country"
   ]
  },
  {
   "cell_type": "markdown",
   "id": "eaae26ad",
   "metadata": {},
   "source": [
    "The United States of America leads by a significant margin, with over 30,000 movies, far surpassing other countries. India follows, but with much lower numbers, while the United Kingdom, France, and Italy are also prominent."
   ]
  },
  {
   "cell_type": "code",
   "execution_count": null,
   "id": "b9b433c0",
   "metadata": {},
   "outputs": [],
   "source": [
    "top_countries = md_countries.value_counts('Countries').head(10)\n",
    "\n",
    "plt.figure(figsize=(8, 3))\n",
    "sns.barplot(y=top_countries.index, x=top_countries.values, palette=\"viridis\",hue=top_countries.index)\n",
    "plt.title('Top 10 Most Frequent Movie Countries')\n",
    "plt.xlabel('Number of Movies')\n",
    "plt.ylabel('Country')\n",
    "plt.tight_layout()\n",
    "plt.show()"
   ]
  },
  {
   "cell_type": "markdown",
   "id": "579ddaa2",
   "metadata": {},
   "source": [
    "Additionally, we analyze the 10 most frequent countries in film production over a 20-year interval:"
   ]
  },
  {
   "cell_type": "code",
   "execution_count": null,
   "id": "ff999e71",
   "metadata": {},
   "outputs": [],
   "source": [
    "ax = top_n_by_interval('Countries',md_countries)"
   ]
  },
  {
   "cell_type": "markdown",
   "id": "6671b784",
   "metadata": {},
   "source": [
    "### 1.2.2 Box Office Revenue and Average Rating per Country"
   ]
  },
  {
   "cell_type": "markdown",
   "id": "628989ad",
   "metadata": {},
   "source": [
    "The figure below contains two bar plots: \n",
    "- Left Plot (Average IMDb Rating by Country): This plot shows the top 10 countries by average IMDb rating.\n",
    "- Right Plot (Average Box Office Revenue by Country): This plot shows the top 10 countries by average box office revenue, displayed on a logarithmic scale.\n",
    "\n",
    "Interestingly, major film-producing countries, like the United States or India, are not present in this top 10 list for box office revenue, while countries like New Zealand, Czech Republic, and the United Arab Emirates appear.\n",
    "\n",
    "Some factors could explain why some lesser-known film-producing countries appear at the top for average IMDb ratings or box office revenue, rather than countries with traditionally large film industries:\n",
    "- Small Sample Size: Countries with fewer film productions might have a few well-rated or high-revenue films that skew the averages.\n",
    "- High-Profile Productions: Some of these countries may not have large film industries, but they could have hosted high-budget international productions that brought in significant revenue or received favorable ratings.\n",
    "- Cultural Biases in Ratings: IMDb ratings are user-generated, which can introduce cultural biases."
   ]
  },
  {
   "cell_type": "code",
   "execution_count": null,
   "id": "bb29e3f4",
   "metadata": {},
   "outputs": [],
   "source": [
    "md_countries = md_countries.dropna(subset=['Movie_box_office_revenue'])\n",
    "\n",
    "country_revenue = md_countries.groupby('Countries').agg({\n",
    "    'averageRating': 'mean',\n",
    "    'numVotes': 'mean',\n",
    "    'Movie_box_office_revenue': 'mean'\n",
    "})\n",
    "\n",
    "# Plot \n",
    "fig, axs = plt.subplots(1, 2, figsize=(18, 8))\n",
    "country_revenue = country_revenue.sort_values(by='averageRating', ascending=False)\n",
    "\n",
    "# Average imdb rating by Language\n",
    "sns.barplot(x=country_revenue.head(10).index, y=country_revenue.head(10)['averageRating'], ax=axs[0], palette='viridis', hue=country_revenue.head(10).index)    \n",
    "axs[0].set_title('Average IMDb Rating by Country')\n",
    "axs[0].set_xlabel('Country')\n",
    "axs[0].set_ylabel('Average Rating')\n",
    "axs[0].tick_params(axis='x', rotation=90)  \n",
    "\n",
    "country_revenue = country_revenue.sort_values(by='Movie_box_office_revenue', ascending=False).head(10)\n",
    "\n",
    "# Average box office revenue by Language\n",
    "sns.barplot(x=country_revenue.head(10).index, y=country_revenue.head(10)['Movie_box_office_revenue'], ax=axs[1], palette='Greens_r', hue=country_revenue.head(10).index)\n",
    "axs[1].set_title('Average Box Office Revenue by Country')\n",
    "axs[1].set_xlabel('Country')\n",
    "axs[1].set_ylabel('Box Office Revenue (log scale)')\n",
    "axs[1].set_yscale('log')\n",
    "axs[1].tick_params(axis='x', rotation=90)  \n",
    "plt.tight_layout()\n",
    "plt.show()"
   ]
  },
  {
   "cell_type": "markdown",
   "id": "ef36e1de",
   "metadata": {},
   "source": [
    "## 1.3 Analysis per Genre"
   ]
  },
  {
   "cell_type": "markdown",
   "id": "ca1b6090",
   "metadata": {},
   "source": [
    "In this third part, we delve into the analysis of movies based on their genres. We start by examining the number of movies produced per genre, identifying the most popular genres over time. This is followed by an analysis of the box office revenue and average ratings for each genre, providing insights into the financial success and audience reception of different types of films. By exploring these aspects, we aim to uncover trends and patterns in genre popularity and success, offering a comprehensive understanding of how genre influences the film industry."
   ]
  },
  {
   "cell_type": "code",
   "execution_count": null,
   "id": "8d58166a",
   "metadata": {},
   "outputs": [],
   "source": [
    "with open(pickle_folder + 'movies_genres_ratings.p', 'rb') as f:\n",
    "    md_Genres = pickle.load(f)"
   ]
  },
  {
   "cell_type": "markdown",
   "id": "96afbaee",
   "metadata": {},
   "source": [
    "### 1.3.1 Number of Movies per Genre"
   ]
  },
  {
   "cell_type": "markdown",
   "id": "a2734963",
   "metadata": {},
   "source": [
    "The plot of the number of movies per genre highlights that drama, comedy, and romance have a strong foothold in the film industry, while there is also significant production across other genres to meet different audience preferences."
   ]
  },
  {
   "cell_type": "code",
   "execution_count": null,
   "id": "3f280daf-83ee-4ac7-92fd-6e7b67c06e30",
   "metadata": {},
   "outputs": [],
   "source": [
    "# Select the top 30 genres\n",
    "top_genres = md_Genres.value_counts('Genres').head(30)\n",
    "\n",
    "plt.figure(figsize=(7, 6))\n",
    "sns.barplot(y=top_genres.index, x=top_genres.values, palette=\"viridis\",hue=top_genres.index)\n",
    "plt.title('Top Most Frequent Movie Genres')\n",
    "plt.xlabel('Number of Movies')\n",
    "plt.ylabel('Genre')\n",
    "plt.tight_layout()\n",
    "plt.show()"
   ]
  },
  {
   "cell_type": "markdown",
   "id": "12761bd5",
   "metadata": {},
   "source": [
    "Analyzing the 10 most frequent Genres in Intervals of 20 Years, we observe that \"Drama\" has consistently been the dominant genre across all intervals, indicating a stable audience preference for dramatic storytelling over the years. \"Comedy\" and \"Romance Film\" also feature prominently in each interval, highlighting their long-standing popularity. However, there are noticeable shifts in other genres; for example, \"Black-and-white\" films were more common in the earlier intervals (1910-1930 and 1930-1950) but diminish in later years, reflecting the evolution of film technology and color becoming the standard. The presence of genres like \"Thriller,\" \"Action,\" and \"World Cinema\" increases in the latter half of the 20th century, likely due to globalization and the rise of more diverse storytelling."
   ]
  },
  {
   "cell_type": "code",
   "execution_count": null,
   "id": "cf5bb6e2",
   "metadata": {},
   "outputs": [],
   "source": [
    "ax = top_n_by_interval('Genres',md_Genres)"
   ]
  },
  {
   "cell_type": "markdown",
   "id": "d12160e7",
   "metadata": {},
   "source": [
    "### 1.3.2 Box Office Revenue and Average Rating per Genre"
   ]
  },
  {
   "cell_type": "markdown",
   "id": "91a16da2",
   "metadata": {},
   "source": [
    "Additionally, we analyze the box office revenue and average IMDb ratings for different movie genres to discover insights into the relationship between them, helping us identify trends and patterns."
   ]
  },
  {
   "cell_type": "code",
   "execution_count": null,
   "id": "68a4f268",
   "metadata": {},
   "outputs": [],
   "source": [
    "genre_stats = md_Genres.groupby('Genres').agg({\n",
    "    'averageRating': 'mean',\n",
    "    'numVotes': 'mean',\n",
    "    'Movie_box_office_revenue': 'mean'\n",
    "})\n",
    "\n",
    "fig, axs = plt.subplots(1, 2, figsize=(18, 8))\n",
    "\n",
    "# Average IMDb rating by Genre (Left plot)\n",
    "genre_stats = genre_stats.sort_values(by='averageRating', ascending=False)\n",
    "sns.barplot(x=genre_stats.head(15).index, y=genre_stats.head(15)['averageRating'], ax=axs[0], palette='viridis', hue=genre_stats.head(15).index)\n",
    "axs[0].set_title(\"Top 15 Average Rating by Genre\")\n",
    "axs[0].set_xlabel(\"Genre\")\n",
    "axs[0].set_ylabel(\"Average Rating\")\n",
    "axs[0].tick_params(axis='x', rotation=90)  \n",
    "\n",
    "# Average box office revenue by Genre (Right plot)\n",
    "genre_stats = genre_stats.sort_values(by='Movie_box_office_revenue', ascending=False)\n",
    "sns.barplot(x=genre_stats.head(15).index, y=genre_stats.head(15)['Movie_box_office_revenue'], ax=axs[1], palette='Blues_r', hue=genre_stats.head(15).index)\n",
    "axs[1].set_title(\"Top 15 Average Box Office Revenue by Genre\")\n",
    "axs[1].set_xlabel(\"Genre\")\n",
    "axs[1].set_ylabel(\"Average Revenue ($)\")\n",
    "axs[1].set_yscale('log')\n",
    "axs[1].tick_params(axis='x', rotation=90)  \n",
    "\n",
    "plt.tight_layout()\n",
    "plt.show()\n"
   ]
  },
  {
   "cell_type": "code",
   "execution_count": null,
   "id": "b54306b5",
   "metadata": {},
   "outputs": [],
   "source": [
    "ax = top_n_total_revenue('Genres', md_Genres)"
   ]
  },
  {
   "cell_type": "code",
   "execution_count": null,
   "id": "8019d075",
   "metadata": {},
   "outputs": [],
   "source": [
    "ax = top_n_by_interval('Genres',md_Genres, revenue=True)"
   ]
  },
  {
   "cell_type": "markdown",
   "id": "9b42c301",
   "metadata": {},
   "source": [
    "## 1.4 Analysis per Release Season"
   ]
  },
  {
   "cell_type": "markdown",
   "id": "071073c3",
   "metadata": {},
   "source": [
    "In this section, we examine the impact of the release season on the number of movies produced and their box office revenues. This analysis provides insights into how the strategic timing, like holidays, of a movie's release can affect its performance at the box office."
   ]
  },
  {
   "cell_type": "code",
   "execution_count": null,
   "id": "7859c27d",
   "metadata": {},
   "outputs": [],
   "source": [
    "with open(pickle_folder + 'movies_season_ratings.p', 'rb') as f:\n",
    "    movies_season = pickle.load(f)"
   ]
  },
  {
   "cell_type": "markdown",
   "id": "34bb8482",
   "metadata": {},
   "source": [
    "### 1.4.1 Number of Movies per Release Season"
   ]
  },
  {
   "cell_type": "code",
   "execution_count": null,
   "id": "a1847902-8b6c-4799-88ba-0cb4e5ea9be6",
   "metadata": {},
   "outputs": [],
   "source": [
    "plt.figure(figsize=(7, 4))\n",
    "\n",
    "yearly_counts = movies_season.value_counts('release_season')\n",
    "\n",
    "ax = sns.barplot(x=yearly_counts.index, y=yearly_counts.values)\n",
    "plt.title('Total Number of film per season', fontsize=14, pad=15)\n",
    "plt.xlabel('Season', fontsize=12)\n",
    "plt.ylabel('Number of Movies', fontsize=12)\n",
    "\n",
    "for i, v in enumerate(yearly_counts.values):\n",
    "    ax.text(i, v + 1, str(v), \n",
    "            ha='center', \n",
    "            va='bottom',\n",
    "            fontsize=10)\n",
    "\n",
    "plt.tight_layout()\n",
    "\n",
    "plt.show()"
   ]
  },
  {
   "cell_type": "code",
   "execution_count": null,
   "id": "33520eec",
   "metadata": {},
   "outputs": [],
   "source": [
    "ax = top_n_by_interval('release_season',movies_season,n=4)"
   ]
  },
  {
   "cell_type": "markdown",
   "id": "8dfe44c1",
   "metadata": {},
   "source": [
    "### 1.4.2 Box Office Revenue per Release Season"
   ]
  },
  {
   "cell_type": "code",
   "execution_count": null,
   "id": "e6bb5734",
   "metadata": {},
   "outputs": [],
   "source": [
    "release_season_stats = movies_season.groupby('release_season')['Movie_box_office_revenue'].agg(['mean', 'sem']).sort_values(by='mean')\n",
    "# Print the average revenues by season\n",
    "print(\"Average Box Office Revenue by Release Season:\")\n",
    "print(release_season_stats['mean'])\n",
    "\n",
    "# Plot the average revenues with standard error bars\n",
    "plt.figure(figsize=(6, 4))\n",
    "plt.bar(release_season_stats.index, release_season_stats['mean'], yerr=release_season_stats['sem'], color=['orange', 'skyblue', 'lightgreen', 'gold'], capsize=5)\n",
    "plt.title('Average Box Office Revenue by Release Season with Standard Error')\n",
    "plt.xlabel('Release Season')\n",
    "plt.ylabel('Average Revenue ($)')\n",
    "plt.xticks(rotation=45)\n",
    "plt.show()"
   ]
  },
  {
   "cell_type": "code",
   "execution_count": null,
   "id": "91aaa00e-8e98-47f1-a726-f2dd537d1992",
   "metadata": {},
   "outputs": [],
   "source": [
    "ax = top_n_by_interval('release_season',movies_season,n=4, revenue=True)"
   ]
  },
  {
   "cell_type": "markdown",
   "id": "b85b1704-5c14-4438-9873-fe0c2cdfe80b",
   "metadata": {},
   "source": [
    "## 1.5. Analysis per Language"
   ]
  },
  {
   "cell_type": "code",
   "execution_count": null,
   "id": "6d066217-0fb5-4150-a1a2-7488478cb9fc",
   "metadata": {},
   "outputs": [],
   "source": [
    "with open(pickle_folder + 'movies_languages_exploded_ratings.p', 'rb') as f:\n",
    "    movies_languages = pickle.load(f)"
   ]
  },
  {
   "cell_type": "code",
   "execution_count": null,
   "id": "bf2705b3-7e5b-49a6-bcf2-b82001b51d68",
   "metadata": {},
   "outputs": [],
   "source": [
    "# top 10 languages \n",
    "top_languages = movies_languages['Language'].value_counts().head(10)\n",
    "\n",
    "# Plot \n",
    "plt.figure(figsize=(10, 6))\n",
    "sns.barplot(x=top_languages.index, y=top_languages.values)\n",
    "plt.title('Top 10 Languages in All Films')\n",
    "plt.xlabel('Language')\n",
    "plt.ylabel('Number of Films')\n",
    "plt.xticks(rotation=90)  \n",
    "plt.show()"
   ]
  },
  {
   "cell_type": "code",
   "execution_count": null,
   "id": "6f3d5f40-8dae-4ec4-b6d5-89addbfd9b68",
   "metadata": {},
   "outputs": [],
   "source": [
    "top_language_data = movies_languages[movies_languages['Language'].isin(top_languages.index)]\n",
    "\n",
    "language_success = top_language_data.groupby('Language').agg({\n",
    "    'averageRating': 'mean',\n",
    "    'numVotes': 'mean',\n",
    "    'Movie_box_office_revenue': 'mean'\n",
    "}).sort_values(by='averageRating', ascending=False)\n",
    "\n",
    "fig, axs = plt.subplots(1, 2, figsize=(18, 6))\n",
    "\n",
    "# Average imdb rating by Language\n",
    "sns.barplot(x=language_success.index, y=language_success['averageRating'], ax=axs[0])\n",
    "axs[0].set_title('Average IMDb Rating by Language')\n",
    "axs[0].set_xlabel('Language')\n",
    "axs[0].set_ylabel('Average Rating')\n",
    "axs[0].tick_params(axis='x', rotation=90)  \n",
    "\n",
    "# Average box office revenue by Language\n",
    "sns.barplot(x=language_success.index, y=language_success['Movie_box_office_revenue'], ax=axs[1])\n",
    "axs[1].set_title('Average Box Office Revenue by Language')\n",
    "axs[1].set_xlabel('Language')\n",
    "axs[1].set_ylabel('Box Office Revenue (log scale)')\n",
    "axs[1].set_yscale('log')\n",
    "axs[1].tick_params(axis='x', rotation=90)  \n",
    "\n",
    "plt.tight_layout()\n",
    "plt.show()"
   ]
  },
  {
   "cell_type": "markdown",
   "id": "ad0df10a",
   "metadata": {},
   "source": [
    "## 1.6. Analysis of the Gender of Actors"
   ]
  },
  {
   "cell_type": "markdown",
   "id": "20fbf0af",
   "metadata": {},
   "source": []
  }
 ],
 "metadata": {
  "kernelspec": {
   "display_name": "ada",
   "language": "python",
   "name": "python3"
  },
  "language_info": {
   "codemirror_mode": {
    "name": "ipython",
    "version": 3
   },
   "file_extension": ".py",
   "mimetype": "text/x-python",
   "name": "python",
   "nbconvert_exporter": "python",
   "pygments_lexer": "ipython3",
   "version": "3.11.9"
  }
 },
 "nbformat": 4,
 "nbformat_minor": 5
}
