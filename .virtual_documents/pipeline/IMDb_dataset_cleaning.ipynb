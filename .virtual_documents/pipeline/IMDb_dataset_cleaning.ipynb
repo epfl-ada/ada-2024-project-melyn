import seaborn as sns
import pandas as pd
import matplotlib.pyplot as plt
import numpy as np
import os
import sys
import pickle


data_folder = './data/'
pickle_folder = data_folder + 'pickle/'
imdb_folder = data_folder + 'IMDB/'


title_basics = pd.read_csv(imdb_folder + 'title.basics.tsv', sep='\t', low_memory=False)
title_ratings = pd.read_csv(imdb_folder + 'title.ratings.tsv', sep='\t', low_memory=False)

display(title_basics.sample(10))
display(title_ratings.sample(10))


with open(pickle_folder + 'movies_date.p', 'rb') as f:
    movies = pickle.load(f)


# filter to include only movies et cree les colonnes
title_basics_movies = title_basics[title_basics['titleType'] == 'movie'][['tconst', 'primaryTitle', 'startYear']]
title_basics_movies['startYear'] = pd.to_numeric(title_basics_movies['startYear'], errors='coerce').fillna(0).astype(int)
title_basics_movies = title_basics_movies.dropna(subset=['primaryTitle', 'startYear'])


imdb_data = title_basics_movies.merge(title_ratings, on='tconst', how='left')


movies['Movie_box_office_revenue'] = pd.to_numeric(movies['Movie_box_office_revenue'], errors='coerce')
movies = movies.dropna(subset=['Movie_name', 'Year'])

# Merge IMDb and CMU Data
merged_data = movies.merge(
    imdb_data[['primaryTitle', 'startYear', 'averageRating', 'numVotes']],
    left_on=['Movie_name', 'Year'],
    right_on=['primaryTitle', 'startYear'],
    how='left'
).drop(columns=['primaryTitle', 'startYear'])

merged_data


films_with_ratings = merged_data['averageRating'].notna().sum()
print(f"Nb of films with IMDb ratings: {films_with_ratings}")
films_without_ratings = merged_data['averageRating'].isna().sum()
print(f"Nb of films without IMDb ratings: {films_without_ratings}")

merged_data = merged_data.dropna(subset=['averageRating','numVotes'])


pickle.dump( merged_data, open(pickle_folder + "movies_averageRating.p", "wb" ) )


with open(pickle_folder + 'movies_countries_exploded.p', 'rb') as f:
    movies_a = pickle.load(f)
movies_b = pd.merge(merged_data[['Wikipedia_movie_ID','averageRating','numVotes','Year','Year_Interval']],movies_a, on='Wikipedia_movie_ID', how='left')
pickle.dump(movies_b, open(pickle_folder + "movies_countries_ratings.p", "wb" ) )

with open(pickle_folder + 'movies_languages_exploded.p', 'rb') as f:
    movies_a = pickle.load(f)
movies_b = pd.merge(merged_data[['Wikipedia_movie_ID','averageRating','numVotes','Year','Year_Interval']],movies_a, on='Wikipedia_movie_ID', how='left')
pickle.dump(movies_b, open(pickle_folder + "movies_languages_exploded_ratings.p", "wb" ) )

with open(pickle_folder + 'movies_season.p', 'rb') as f:
    movies_a = pickle.load(f)
movies_b = pd.merge(merged_data[['Wikipedia_movie_ID','averageRating','numVotes','Year','Year_Interval']],movies_a, on='Wikipedia_movie_ID', how='left')
pickle.dump(movies_b, open(pickle_folder + "movies_season_ratings.p", "wb" ) )

with open(pickle_folder + 'movies_with_box_office_revenue.p', 'rb') as f:
    movies_a = pickle.load(f)
movies_b = pd.merge(merged_data[['Wikipedia_movie_ID','averageRating','numVotes','Year','Year_Interval']],movies_a, on='Wikipedia_movie_ID', how='left')
pickle.dump(movies_b, open(pickle_folder + "movies_with_box_office_revenue_ratings.p", "wb" ) )

with open(pickle_folder + 'movies_genres_exploded.p', 'rb') as f:
    movies_a = pickle.load(f)
movies_b = pd.merge(merged_data[['Wikipedia_movie_ID','averageRating','numVotes','Year','Year_Interval']],movies_a, on='Wikipedia_movie_ID', how='left')
pickle.dump(movies_b, open(pickle_folder + "movies_genres_ratings.p", "wb" ) )



