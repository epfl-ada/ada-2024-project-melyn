import seaborn as sns
import pandas as pd
import matplotlib.pyplot as plt
import numpy as np
import os
import sys
import pickle


folder = '../data/CMU/'
pickle_folder = "../data/pickle/"


movie_original_data = pd.read_csv(folder + 'movie.metadata.tsv' ,sep='\t',names=['Wikipedia_movie_ID',
'Freebase_movie_ID',
'Movie_name',
'Movie_release_date',
'Movie_box_office_revenue',
'Movie_runtime',
'Movie_languages_(Freebase_ID:name_tuples)',
'Movie_countries_(Freebase_ID:name_tuples)',
'Movie_genres_(Freebase_ID:name_tuples)'])








movies = movie_original_data.copy()

pickle.dump( movies, open(pickle_folder + "movies.p", "wb" ) )


print(movies.shape[0])








movies_with_box_office = movies.dropna(subset=['Movie_box_office_revenue'])

pickle.dump( movies_with_box_office, open(pickle_folder + "movies_with_box_office_revenue.p", "wb" ) )


movies_with_box_office.shape[0]











movies.loc[movies['Movie_name'] == 'Hunting Season']





movies.loc[62836, 'Movie_release_date'] = '2010-12-02'
print(movies.loc[62836, 'Movie_release_date'])





movies_date = movies.dropna(inplace = False, subset = 'Movie_release_date').copy()


movies_date.shape[0]





movies_date['Year'] = movies_date['Movie_release_date'].str[:4]
movies_date['Year'] = movies_date['Year'].astype(int)

intervals = [(1910, 1930), (1930, 1950), (1950, 1970), (1970, 1990), (1990, 2016)]
movies_date['Year_Interval'] = pd.cut(movies_date['Year'], bins=[1910, 1930, 1950, 1970, 1990, 2016], labels=['1910-1930', '1930-1950', '1950-1970', '1970-1990', '1990-2016'])
movies_date['Year_Interval'] = movies_date['Year_Interval'].astype(str)

movies_date = movies_date.query(" 2016 > Year >1910")

pickle.dump( movies_date, open(pickle_folder + "movies_date.p", "wb" ) )





project_root = os.path.abspath(os.path.join(os.getcwd(), '..'))
sys.path.append(project_root)

from src.utils.utils import categorize_release_season


md_release_season = movies_date.copy()
md_release_season['Movie_release_date'] = pd.to_datetime(md_release_season['Movie_release_date'], errors='coerce')
md_release_season.dropna(subset = 'Movie_release_date', inplace = True)


md_release_season['release_season'] = md_release_season['Movie_release_date'].apply(categorize_release_season)
md_release_season.shape[0]


md_release_season
pickle.dump( md_release_season, open(pickle_folder + "movies_season.p", "wb" ) )





from src.utils.utils import extract_info

# Assuming 'movies' is your DataFrame
# First, ensure that the column names are correctly referenced:
column_name = 'Movie_genres_(Freebase_ID:name_tuples)'  # Adjust if the actual column name differs

# Apply the function to the column
md_Genres = movies.copy()
md_Genres['Genres'] = md_language[column_name].apply(extract_genres)


genres_split = pd.DataFrame(md_Genres["Genres"].tolist(), index=md_Genres.index)
md_Genres['nb_of_Genres'] = md_Genres["Genres"].apply(lambda x:len(x))
md_Genres['nb_of_Genres'].describe()


# On garde seulement les 3 première colonnes de genres_split
genres_split = genres_split.iloc[:, :3]
genres_split


md_genres_equal17 = md_Genres.query("nb_of_Genres == 17")
md_genres_equal17


genres_split = genres_split.add_prefix("Genres_")
genres_split


data_genres = md_Genres.join(genres_split).drop(columns=["Genres","Movie_genres_(Freebase_ID:name_tuples)"])
pickle.dump( data_genres, open(pickle_folder + "movies_genres_split.p", "wb" ) )
data_genres


md_genres_exploded = md_Genres.explode('Genres')
pickle.dump( md_genres_exploded, open(pickle_folder + "movies_genres_exploded.p", "wb" ) )
md_genres_exploded.value_counts('Genres')





from src.utils.utils import extract_info

# Assuming 'movies' is your DataFrame
# First, ensure that the column names are correctly referenced:
column_name = 'Movie_languages_(Freebase_ID:name_tuples)'  # Adjust if the actual column name differs

# Apply the function to the column
md_language = movies.copy()
md_language['Language'] = md_language[column_name].apply(extract_language_names)


language_split = pd.DataFrame(md_language["Language"].tolist(), index=md_language.index)
md_language['nb_of_Languages'] = md_language["Language"].apply(lambda x:len(x))
md_language['nb_of_Languages'].describe()


md_languages_equal15 = md_language.query("nb_of_Languages == 15")
md_languages_equal15


language_split = language_split.add_prefix("Language_")
language_split


data_language = md_language.join(language_split).drop(columns=["Language","Movie_languages_(Freebase_ID:name_tuples)"])
pickle.dump( data_language, open(pickle_folder + "movies_languages_split.p", "wb" ) )
data_language


md_languages_exploded = md_language.explode('Language')
pickle.dump( md_languages_exploded, open(pickle_folder + "movies_languages_exploded.p", "wb" ) )
md_languages_exploded.value_counts('Language')





from src.utils.utils import extract_info
md_countries = movies.copy().dropna(subset=['Movie_countries_(Freebase_ID:name_tuples)'])
md_countries["Countries"] = md_countries['Movie_countries_(Freebase_ID:name_tuples)'].apply(extract_country_names)


countries_split = pd.DataFrame(md_countries["Countries"].tolist(), index=md_countries.index)
md_countries['nb_of_Countries'] = md_countries["Countries"].apply(lambda x:len(x))
md_countries['nb_of_Countries'].describe()


md_countries_equal14 = md_countries.query("nb_of_Countries > 13")
md_countries_equal14


countries_split = countries_split.add_prefix("Countries_")
countries_split


data_countries = md_countries.join(countries_split).drop(columns=["Countries","Movie_countries_(Freebase_ID:name_tuples)"])
pickle.dump( data_countries, open(pickle_folder + "movies_countries_split.p", "wb" ) )


md_countries_exploded = md_countries.explode('Countries')
pickle.dump( md_countries_exploded, open(pickle_folder + "movies_countries_exploded.p", "wb" ) )
md_countries_exploded.value_counts('Countries')



