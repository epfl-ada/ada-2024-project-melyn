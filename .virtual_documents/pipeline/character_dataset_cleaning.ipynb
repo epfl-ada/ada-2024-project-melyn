


import seaborn as sns
import pandas as pd
import matplotlib.pyplot as plt
import numpy as np
import os
import sys
import pickle


folder = '../data/CMU/'
pickle_folder = "../data/pickle/"


character_original_data = pd.read_csv(folder + 'character.metadata.tsv',sep='\t',names=['Wikipedia movie ID',
'Freebase_movie_ID',
'Movie_release_date',
'Character_name',
'Actor_date_of_birth',
'Actor_gender',
'Actor_height_(in_meters)',
'Actor_ethnicity_(Freebase_ID)',
'Actor_name',
'Actor_age_at_movie_release',
'Freebase_character/actor_map_ID',
'Freebase_character_ID',
'Freebase_actor_ID'])


characters = character_original_data.copy()

pickle.dump( character_original_data, open(pickle_folder + "characters.p", "wb" ) )


print(characters.shape[0])








cd = characters.copy().dropna(subset=['Movie_release_date'])





cd.loc[cd['Movie_release_date'] == '1010-12-02']


cd.loc[cd['Movie_release_date'] == '1010-12-02', 'Movie_release_date'] = '2010-12-02'











cd_releasedYear = cd.copy()
cd_releasedYear['Year'] = cd_releasedYear['Movie_release_date'].str[:4]
cd_releasedYear['Year'] = cd_releasedYear['Year'].astype(int)
cd_releasedYear = cd_releasedYear.query(" 2016 > Year > 1910")
pickle.dump( cd_releasedYear, open(pickle_folder + "characters_date.p", "wb" ) )
cd_releasedYear.Year.describe()


cd_releasedYear








project_root = os.path.abspath(os.path.join(os.getcwd(), '..'))
sys.path.append(project_root)
from src.utils.utils import categorize_release_season

cd_releasedSeason = cd_releasedYear.copy()
cd_releasedSeason['Movie_release_date'] = pd.to_datetime(cd_releasedSeason['Movie_release_date'], errors='coerce')
cd_releasedSeason.dropna(subset = 'Movie_release_date', inplace = True)





cd_releasedSeason['mois'] = cd_releasedSeason['Movie_release_date'].astype(str).str.split('-').str[1]
cd_releasedSeason['mois'] = cd_releasedSeason['mois'].astype(int)
cd_releasedSeason['mois'].describe()





cd_releasedSeason['jour'] = cd_releasedSeason['Movie_release_date'].astype(str).str.split('-').str[2]
cd_releasedSeason['jour'] = cd_releasedSeason['jour'].astype(int)
cd_releasedSeason['jour'].describe()


cd_releasedSeason = cd_releasedSeason.drop(columns = 'mois')
cd_releasedSeason = cd_releasedSeason.drop(columns = 'jour')





cd_releasedSeason['release_season'] = cd_releasedSeason['Movie_release_date'].apply(categorize_release_season)
cd_releasedSeason.release_season.value_counts()


cd_releasedSeason








cd_actors = cd.copy()
cd_actors.dropna(inplace = True)
dummies = pd.get_dummies(cd_actors['Actor_gender'], prefix = 'gender')
cd_actors = cd_actors.merge(dummies, left_index=True, right_index=True)
cd_actors





cd_actors['XOR'] = cd_actors['gender_F'] ^ cd_actors['gender_M']
cd_actors['XOR'].describe()








cd_actorYear = cd_releasedYear.copy()
print(cd_actorYear.Actor_date_of_birth.isna().sum())
cd_actorYear.dropna(subset = 'Actor_date_of_birth', inplace = True)
cd_actorYear





cd_actorYear['Year_of_birth'] = cd_actorYear['Actor_date_of_birth'].str[:4]
cd_actorYear['Year_of_birth'] = cd_actorYear['Year_of_birth'].astype(int)
cd_actorYear_sorted = cd_actorYear.sort_values(by='Year_of_birth')
cd_actorYear_sorted


cd_actorYear_sorted.tail(20)





cd_actorYear = cd_actorYear[cd_actorYear['Year_of_birth'] <= 2011]
cd_actorYear = cd_actorYear[cd_actorYear['Year_of_birth'] >= 1700]
cd_actorYear_sorted = cd_actorYear.sort_values(by='Year_of_birth')
cd_actorYear_sorted





cd_actorYear.Actor_age_at_movie_release.isna().sum()


cd_actorYear.dropna(subset = 'Actor_age_at_movie_release', inplace = True)
cd_actorYear








actorAge = cd_actorYear.sort_values(by = 'Actor_age_at_movie_release')
actorAge


cd_actorYear = cd_actorYear[cd_actorYear['Actor_age_at_movie_release'] >= 0]
actorAge = cd_actorYear.sort_values(by = 'Actor_age_at_movie_release')
actorAge





df_filtered = cd_actorYear[cd_actorYear['Year'] - cd_actorYear['Year_of_birth'] < 0]
df_filtered





cd_actorYear = cd_actorYear[cd_actorYear['Year'] - cd_actorYear['Year_of_birth'] >= 0]





df_filtered = cd_actorYear[cd_actorYear['Year'] - cd_actorYear['Year_of_birth'] >= 100]
df_filtered





cd_actorYear = cd_actorYear[cd_actorYear['Year'] - cd_actorYear['Year_of_birth'] < 100]
cd_actorYear


cd_actorYear.plot.scatter(x = 'Year', y = 'Year_of_birth', s = 2)



