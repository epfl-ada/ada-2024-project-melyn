{
 "cells": [
  {
   "cell_type": "markdown",
   "id": "9f1a02a8",
   "metadata": {},
   "source": [
    "# Applied Data Analysis: Movies\n",
    "This project analyzes the key factors influencing box-office success for films released between 1914 and 2016, seeking to understand how audience preferences and industry trends have evolved over time.\n",
    "\n",
    "We will work with two datasets:\n",
    "- CMU Movie Summary\n",
    "- IMDb dataset"
   ]
  },
  {
   "cell_type": "markdown",
   "id": "421ca75c",
   "metadata": {},
   "source": [
    "## Loading the Datasets"
   ]
  },
  {
   "cell_type": "code",
   "execution_count": 19,
   "id": "5ed22220-f080-4d52-90ed-52abd68275d4",
   "metadata": {},
   "outputs": [],
   "source": [
    "import seaborn as sns\n",
    "import pandas as pd\n",
    "import matplotlib.pyplot as plt\n",
    "import numpy as np\n",
    "import pickle\n",
    "from collections import Counter\n",
    "import os\n",
    "import sys\n",
    "\n",
    "from importlib import reload\n",
    "import src.utils.utils\n",
    "reload(src.utils.utils)\n",
    "from src.utils.utils import top_n_by_interval, top_n_total_revenue"
   ]
  },
  {
   "cell_type": "code",
   "execution_count": 4,
   "id": "c6b5e9e3-571f-4056-951a-c83de53c9dd5",
   "metadata": {},
   "outputs": [],
   "source": [
    "data_folder = './data/'\n",
    "pickle_folder = data_folder + 'pickle/'\n",
    "imdb_folder = data_folder + 'IMDB/'\n",
    "cmu_folder = data_folder + 'CMU/'"
   ]
  },
  {
   "cell_type": "code",
   "execution_count": 20,
   "id": "006d2dff-6ac9-4685-a0fe-5dc16964423a",
   "metadata": {},
   "outputs": [],
   "source": [
    "## Load the data\n",
    "\n",
    "with open(pickle_folder + 'movies_clean.p', 'rb') as f:\n",
    "    movie_data = pickle.load(f)\n",
    "\n",
    "with open(pickle_folder + 'characters.p', 'rb') as f:\n",
    "    character_data = pickle.load(f)"
   ]
  },
  {
   "cell_type": "code",
   "execution_count": 21,
   "id": "37a443b4",
   "metadata": {},
   "outputs": [
    {
     "data": {
      "text/html": [
       "<div>\n",
       "<style scoped>\n",
       "    .dataframe tbody tr th:only-of-type {\n",
       "        vertical-align: middle;\n",
       "    }\n",
       "\n",
       "    .dataframe tbody tr th {\n",
       "        vertical-align: top;\n",
       "    }\n",
       "\n",
       "    .dataframe thead th {\n",
       "        text-align: right;\n",
       "    }\n",
       "</style>\n",
       "<table border=\"1\" class=\"dataframe\">\n",
       "  <thead>\n",
       "    <tr style=\"text-align: right;\">\n",
       "      <th></th>\n",
       "      <th>Wikipedia_movie_ID</th>\n",
       "      <th>Movie_name</th>\n",
       "      <th>Movie_release_date</th>\n",
       "      <th>Movie_box_office_revenue</th>\n",
       "      <th>Movie_languages_(Freebase_ID:name_tuples)</th>\n",
       "      <th>Movie_countries_(Freebase_ID:name_tuples)</th>\n",
       "      <th>Year</th>\n",
       "      <th>Year_Interval</th>\n",
       "      <th>Genres_0</th>\n",
       "      <th>Genres_1</th>\n",
       "      <th>Genres_2</th>\n",
       "      <th>averageRating</th>\n",
       "      <th>numVotes</th>\n",
       "    </tr>\n",
       "  </thead>\n",
       "  <tbody>\n",
       "    <tr>\n",
       "      <th>0</th>\n",
       "      <td>975900</td>\n",
       "      <td>Ghosts of Mars</td>\n",
       "      <td>2001-08-24</td>\n",
       "      <td>14010832.0</td>\n",
       "      <td>{\"/m/02h40lc\": \"English Language\"}</td>\n",
       "      <td>{\"/m/09c7w0\": \"United States of America\"}</td>\n",
       "      <td>2001</td>\n",
       "      <td>1995-2015</td>\n",
       "      <td>\"Thriller\"</td>\n",
       "      <td>\"Science Fiction\"</td>\n",
       "      <td>\"Horror\"</td>\n",
       "      <td>4.9</td>\n",
       "      <td>58585.0</td>\n",
       "    </tr>\n",
       "    <tr>\n",
       "      <th>2</th>\n",
       "      <td>28463795</td>\n",
       "      <td>Brun bitter</td>\n",
       "      <td>1988</td>\n",
       "      <td>NaN</td>\n",
       "      <td>{\"/m/05f_3\": \"Norwegian Language\"}</td>\n",
       "      <td>{\"/m/05b4w\": \"Norway\"}</td>\n",
       "      <td>1988</td>\n",
       "      <td>1975-1995</td>\n",
       "      <td>\"Crime Fiction\"</td>\n",
       "      <td>\"Drama\"</td>\n",
       "      <td>None</td>\n",
       "      <td>5.6</td>\n",
       "      <td>42.0</td>\n",
       "    </tr>\n",
       "    <tr>\n",
       "      <th>4</th>\n",
       "      <td>261236</td>\n",
       "      <td>A Woman in Flames</td>\n",
       "      <td>1983</td>\n",
       "      <td>NaN</td>\n",
       "      <td>{\"/m/04306rv\": \"German Language\"}</td>\n",
       "      <td>{\"/m/0345h\": \"Germany\"}</td>\n",
       "      <td>1983</td>\n",
       "      <td>1975-1995</td>\n",
       "      <td>\"Drama\"</td>\n",
       "      <td>None</td>\n",
       "      <td>None</td>\n",
       "      <td>5.9</td>\n",
       "      <td>648.0</td>\n",
       "    </tr>\n",
       "    <tr>\n",
       "      <th>6</th>\n",
       "      <td>10408933</td>\n",
       "      <td>Alexander's Ragtime Band</td>\n",
       "      <td>1938-08-16</td>\n",
       "      <td>3600000.0</td>\n",
       "      <td>{\"/m/02h40lc\": \"English Language\"}</td>\n",
       "      <td>{\"/m/09c7w0\": \"United States of America\"}</td>\n",
       "      <td>1938</td>\n",
       "      <td>1935-1955</td>\n",
       "      <td>\"Musical\"</td>\n",
       "      <td>\"Comedy\"</td>\n",
       "      <td>\"Black-and-white\"</td>\n",
       "      <td>6.8</td>\n",
       "      <td>2351.0</td>\n",
       "    </tr>\n",
       "    <tr>\n",
       "      <th>9</th>\n",
       "      <td>175026</td>\n",
       "      <td>Sarah and Son</td>\n",
       "      <td>1930</td>\n",
       "      <td>NaN</td>\n",
       "      <td>{\"/m/02h40lc\": \"English Language\"}</td>\n",
       "      <td>{\"/m/09c7w0\": \"United States of America\"}</td>\n",
       "      <td>1930</td>\n",
       "      <td>1915-1935</td>\n",
       "      <td>\"Drama\"</td>\n",
       "      <td>\"Black-and-white\"</td>\n",
       "      <td>None</td>\n",
       "      <td>5.4</td>\n",
       "      <td>351.0</td>\n",
       "    </tr>\n",
       "    <tr>\n",
       "      <th>...</th>\n",
       "      <td>...</td>\n",
       "      <td>...</td>\n",
       "      <td>...</td>\n",
       "      <td>...</td>\n",
       "      <td>...</td>\n",
       "      <td>...</td>\n",
       "      <td>...</td>\n",
       "      <td>...</td>\n",
       "      <td>...</td>\n",
       "      <td>...</td>\n",
       "      <td>...</td>\n",
       "      <td>...</td>\n",
       "      <td>...</td>\n",
       "    </tr>\n",
       "    <tr>\n",
       "      <th>72285</th>\n",
       "      <td>3868432</td>\n",
       "      <td>Into the Mirror</td>\n",
       "      <td>2003-08-14</td>\n",
       "      <td>NaN</td>\n",
       "      <td>{\"/m/02hwhyv\": \"Korean Language\"}</td>\n",
       "      <td>{\"/m/06qd3\": \"South Korea\"}</td>\n",
       "      <td>2003</td>\n",
       "      <td>1995-2015</td>\n",
       "      <td>\"Horror\"</td>\n",
       "      <td>None</td>\n",
       "      <td>None</td>\n",
       "      <td>6.4</td>\n",
       "      <td>3650.0</td>\n",
       "    </tr>\n",
       "    <tr>\n",
       "      <th>72286</th>\n",
       "      <td>15394941</td>\n",
       "      <td>Gopi Kishan</td>\n",
       "      <td>1994-12-02</td>\n",
       "      <td>NaN</td>\n",
       "      <td>{\"/m/03k50\": \"Hindi Language\"}</td>\n",
       "      <td>{\"/m/03rk0\": \"India\"}</td>\n",
       "      <td>1994</td>\n",
       "      <td>1975-1995</td>\n",
       "      <td>\"Drama\"</td>\n",
       "      <td>\"Action\"</td>\n",
       "      <td>\"Crime\"</td>\n",
       "      <td>5.8</td>\n",
       "      <td>1036.0</td>\n",
       "    </tr>\n",
       "    <tr>\n",
       "      <th>72290</th>\n",
       "      <td>23851782</td>\n",
       "      <td>The Ghost Train</td>\n",
       "      <td>1941-05-03</td>\n",
       "      <td>NaN</td>\n",
       "      <td>{\"/m/02h40lc\": \"English Language\"}</td>\n",
       "      <td>{\"/m/07ssc\": \"United Kingdom\"}</td>\n",
       "      <td>1941</td>\n",
       "      <td>1935-1955</td>\n",
       "      <td>\"Crime Fiction\"</td>\n",
       "      <td>\"Thriller\"</td>\n",
       "      <td>\"Comedy\"</td>\n",
       "      <td>6.1</td>\n",
       "      <td>1702.0</td>\n",
       "    </tr>\n",
       "    <tr>\n",
       "      <th>72293</th>\n",
       "      <td>34980460</td>\n",
       "      <td>Knuckle</td>\n",
       "      <td>2011-01-21</td>\n",
       "      <td>NaN</td>\n",
       "      <td>{\"/m/02h40lc\": \"English Language\"}</td>\n",
       "      <td>{\"/m/03rt9\": \"Ireland\", \"/m/07ssc\": \"United Ki...</td>\n",
       "      <td>2011</td>\n",
       "      <td>1995-2015</td>\n",
       "      <td>\"Biographical film\"</td>\n",
       "      <td>\"Drama\"</td>\n",
       "      <td>\"Documentary\"</td>\n",
       "      <td>6.8</td>\n",
       "      <td>3249.0</td>\n",
       "    </tr>\n",
       "    <tr>\n",
       "      <th>72294</th>\n",
       "      <td>9971909</td>\n",
       "      <td>Another Nice Mess</td>\n",
       "      <td>1972-09-22</td>\n",
       "      <td>NaN</td>\n",
       "      <td>{\"/m/02h40lc\": \"English Language\"}</td>\n",
       "      <td>{\"/m/09c7w0\": \"United States of America\"}</td>\n",
       "      <td>1972</td>\n",
       "      <td>1955-1975</td>\n",
       "      <td>\"Satire\"</td>\n",
       "      <td>\"Comedy\"</td>\n",
       "      <td>None</td>\n",
       "      <td>5.9</td>\n",
       "      <td>117.0</td>\n",
       "    </tr>\n",
       "  </tbody>\n",
       "</table>\n",
       "<p>39553 rows × 13 columns</p>\n",
       "</div>"
      ],
      "text/plain": [
       "       Wikipedia_movie_ID                Movie_name Movie_release_date  \\\n",
       "0                  975900            Ghosts of Mars         2001-08-24   \n",
       "2                28463795               Brun bitter               1988   \n",
       "4                  261236         A Woman in Flames               1983   \n",
       "6                10408933  Alexander's Ragtime Band         1938-08-16   \n",
       "9                  175026             Sarah and Son               1930   \n",
       "...                   ...                       ...                ...   \n",
       "72285             3868432           Into the Mirror         2003-08-14   \n",
       "72286            15394941               Gopi Kishan         1994-12-02   \n",
       "72290            23851782           The Ghost Train         1941-05-03   \n",
       "72293            34980460                   Knuckle         2011-01-21   \n",
       "72294             9971909         Another Nice Mess         1972-09-22   \n",
       "\n",
       "       Movie_box_office_revenue Movie_languages_(Freebase_ID:name_tuples)  \\\n",
       "0                    14010832.0        {\"/m/02h40lc\": \"English Language\"}   \n",
       "2                           NaN        {\"/m/05f_3\": \"Norwegian Language\"}   \n",
       "4                           NaN         {\"/m/04306rv\": \"German Language\"}   \n",
       "6                     3600000.0        {\"/m/02h40lc\": \"English Language\"}   \n",
       "9                           NaN        {\"/m/02h40lc\": \"English Language\"}   \n",
       "...                         ...                                       ...   \n",
       "72285                       NaN         {\"/m/02hwhyv\": \"Korean Language\"}   \n",
       "72286                       NaN            {\"/m/03k50\": \"Hindi Language\"}   \n",
       "72290                       NaN        {\"/m/02h40lc\": \"English Language\"}   \n",
       "72293                       NaN        {\"/m/02h40lc\": \"English Language\"}   \n",
       "72294                       NaN        {\"/m/02h40lc\": \"English Language\"}   \n",
       "\n",
       "               Movie_countries_(Freebase_ID:name_tuples)  Year Year_Interval  \\\n",
       "0              {\"/m/09c7w0\": \"United States of America\"}  2001     1995-2015   \n",
       "2                                 {\"/m/05b4w\": \"Norway\"}  1988     1975-1995   \n",
       "4                                {\"/m/0345h\": \"Germany\"}  1983     1975-1995   \n",
       "6              {\"/m/09c7w0\": \"United States of America\"}  1938     1935-1955   \n",
       "9              {\"/m/09c7w0\": \"United States of America\"}  1930     1915-1935   \n",
       "...                                                  ...   ...           ...   \n",
       "72285                        {\"/m/06qd3\": \"South Korea\"}  2003     1995-2015   \n",
       "72286                              {\"/m/03rk0\": \"India\"}  1994     1975-1995   \n",
       "72290                     {\"/m/07ssc\": \"United Kingdom\"}  1941     1935-1955   \n",
       "72293  {\"/m/03rt9\": \"Ireland\", \"/m/07ssc\": \"United Ki...  2011     1995-2015   \n",
       "72294          {\"/m/09c7w0\": \"United States of America\"}  1972     1955-1975   \n",
       "\n",
       "                  Genres_0           Genres_1           Genres_2  \\\n",
       "0               \"Thriller\"  \"Science Fiction\"           \"Horror\"   \n",
       "2          \"Crime Fiction\"            \"Drama\"               None   \n",
       "4                  \"Drama\"               None               None   \n",
       "6                \"Musical\"           \"Comedy\"  \"Black-and-white\"   \n",
       "9                  \"Drama\"  \"Black-and-white\"               None   \n",
       "...                    ...                ...                ...   \n",
       "72285             \"Horror\"               None               None   \n",
       "72286              \"Drama\"           \"Action\"            \"Crime\"   \n",
       "72290      \"Crime Fiction\"         \"Thriller\"           \"Comedy\"   \n",
       "72293  \"Biographical film\"            \"Drama\"      \"Documentary\"   \n",
       "72294             \"Satire\"           \"Comedy\"               None   \n",
       "\n",
       "       averageRating  numVotes  \n",
       "0                4.9   58585.0  \n",
       "2                5.6      42.0  \n",
       "4                5.9     648.0  \n",
       "6                6.8    2351.0  \n",
       "9                5.4     351.0  \n",
       "...              ...       ...  \n",
       "72285            6.4    3650.0  \n",
       "72286            5.8    1036.0  \n",
       "72290            6.1    1702.0  \n",
       "72293            6.8    3249.0  \n",
       "72294            5.9     117.0  \n",
       "\n",
       "[39553 rows x 13 columns]"
      ]
     },
     "execution_count": 21,
     "metadata": {},
     "output_type": "execute_result"
    }
   ],
   "source": [
    "movie_data"
   ]
  },
  {
   "cell_type": "code",
   "execution_count": 22,
   "id": "42b389e6",
   "metadata": {},
   "outputs": [
    {
     "data": {
      "text/html": [
       "<div>\n",
       "<style scoped>\n",
       "    .dataframe tbody tr th:only-of-type {\n",
       "        vertical-align: middle;\n",
       "    }\n",
       "\n",
       "    .dataframe tbody tr th {\n",
       "        vertical-align: top;\n",
       "    }\n",
       "\n",
       "    .dataframe thead th {\n",
       "        text-align: right;\n",
       "    }\n",
       "</style>\n",
       "<table border=\"1\" class=\"dataframe\">\n",
       "  <thead>\n",
       "    <tr style=\"text-align: right;\">\n",
       "      <th></th>\n",
       "      <th>Wikipedia movie ID</th>\n",
       "      <th>Freebase_movie_ID</th>\n",
       "      <th>Movie_release_date</th>\n",
       "      <th>Character_name</th>\n",
       "      <th>Actor_date_of_birth</th>\n",
       "      <th>Actor_gender</th>\n",
       "      <th>Actor_height_(in_meters)</th>\n",
       "      <th>Actor_ethnicity_(Freebase_ID)</th>\n",
       "      <th>Actor_name</th>\n",
       "      <th>Actor_age_at_movie_release</th>\n",
       "      <th>Freebase_character/actor_map_ID</th>\n",
       "      <th>Freebase_character_ID</th>\n",
       "      <th>Freebase_actor_ID</th>\n",
       "    </tr>\n",
       "  </thead>\n",
       "  <tbody>\n",
       "    <tr>\n",
       "      <th>0</th>\n",
       "      <td>975900</td>\n",
       "      <td>/m/03vyhn</td>\n",
       "      <td>2001-08-24</td>\n",
       "      <td>Akooshay</td>\n",
       "      <td>1958-08-26</td>\n",
       "      <td>F</td>\n",
       "      <td>1.620</td>\n",
       "      <td>NaN</td>\n",
       "      <td>Wanda De Jesus</td>\n",
       "      <td>42.0</td>\n",
       "      <td>/m/0bgchxw</td>\n",
       "      <td>/m/0bgcj3x</td>\n",
       "      <td>/m/03wcfv7</td>\n",
       "    </tr>\n",
       "    <tr>\n",
       "      <th>1</th>\n",
       "      <td>975900</td>\n",
       "      <td>/m/03vyhn</td>\n",
       "      <td>2001-08-24</td>\n",
       "      <td>Lieutenant Melanie Ballard</td>\n",
       "      <td>1974-08-15</td>\n",
       "      <td>F</td>\n",
       "      <td>1.780</td>\n",
       "      <td>/m/044038p</td>\n",
       "      <td>Natasha Henstridge</td>\n",
       "      <td>27.0</td>\n",
       "      <td>/m/0jys3m</td>\n",
       "      <td>/m/0bgchn4</td>\n",
       "      <td>/m/0346l4</td>\n",
       "    </tr>\n",
       "    <tr>\n",
       "      <th>2</th>\n",
       "      <td>975900</td>\n",
       "      <td>/m/03vyhn</td>\n",
       "      <td>2001-08-24</td>\n",
       "      <td>Desolation Williams</td>\n",
       "      <td>1969-06-15</td>\n",
       "      <td>M</td>\n",
       "      <td>1.727</td>\n",
       "      <td>/m/0x67</td>\n",
       "      <td>Ice Cube</td>\n",
       "      <td>32.0</td>\n",
       "      <td>/m/0jys3g</td>\n",
       "      <td>/m/0bgchn_</td>\n",
       "      <td>/m/01vw26l</td>\n",
       "    </tr>\n",
       "    <tr>\n",
       "      <th>3</th>\n",
       "      <td>975900</td>\n",
       "      <td>/m/03vyhn</td>\n",
       "      <td>2001-08-24</td>\n",
       "      <td>Sgt Jericho Butler</td>\n",
       "      <td>1967-09-12</td>\n",
       "      <td>M</td>\n",
       "      <td>1.750</td>\n",
       "      <td>NaN</td>\n",
       "      <td>Jason Statham</td>\n",
       "      <td>33.0</td>\n",
       "      <td>/m/02vchl6</td>\n",
       "      <td>/m/0bgchnq</td>\n",
       "      <td>/m/034hyc</td>\n",
       "    </tr>\n",
       "    <tr>\n",
       "      <th>4</th>\n",
       "      <td>975900</td>\n",
       "      <td>/m/03vyhn</td>\n",
       "      <td>2001-08-24</td>\n",
       "      <td>Bashira Kincaid</td>\n",
       "      <td>1977-09-25</td>\n",
       "      <td>F</td>\n",
       "      <td>1.650</td>\n",
       "      <td>NaN</td>\n",
       "      <td>Clea DuVall</td>\n",
       "      <td>23.0</td>\n",
       "      <td>/m/02vbb3r</td>\n",
       "      <td>/m/0bgchp9</td>\n",
       "      <td>/m/01y9xg</td>\n",
       "    </tr>\n",
       "    <tr>\n",
       "      <th>...</th>\n",
       "      <td>...</td>\n",
       "      <td>...</td>\n",
       "      <td>...</td>\n",
       "      <td>...</td>\n",
       "      <td>...</td>\n",
       "      <td>...</td>\n",
       "      <td>...</td>\n",
       "      <td>...</td>\n",
       "      <td>...</td>\n",
       "      <td>...</td>\n",
       "      <td>...</td>\n",
       "      <td>...</td>\n",
       "      <td>...</td>\n",
       "    </tr>\n",
       "    <tr>\n",
       "      <th>450664</th>\n",
       "      <td>913762</td>\n",
       "      <td>/m/03pcrp</td>\n",
       "      <td>1992-05-21</td>\n",
       "      <td>Elensh</td>\n",
       "      <td>1970-05</td>\n",
       "      <td>F</td>\n",
       "      <td>NaN</td>\n",
       "      <td>NaN</td>\n",
       "      <td>Dorothy Elias-Fahn</td>\n",
       "      <td>NaN</td>\n",
       "      <td>/m/0kr406c</td>\n",
       "      <td>/m/0kr406h</td>\n",
       "      <td>/m/0b_vcv</td>\n",
       "    </tr>\n",
       "    <tr>\n",
       "      <th>450665</th>\n",
       "      <td>913762</td>\n",
       "      <td>/m/03pcrp</td>\n",
       "      <td>1992-05-21</td>\n",
       "      <td>Hibiki</td>\n",
       "      <td>1965-04-12</td>\n",
       "      <td>M</td>\n",
       "      <td>NaN</td>\n",
       "      <td>NaN</td>\n",
       "      <td>Jonathan Fahn</td>\n",
       "      <td>27.0</td>\n",
       "      <td>/m/0kr405_</td>\n",
       "      <td>/m/0kr4090</td>\n",
       "      <td>/m/0bx7_j</td>\n",
       "    </tr>\n",
       "    <tr>\n",
       "      <th>450666</th>\n",
       "      <td>28308153</td>\n",
       "      <td>/m/0cp05t9</td>\n",
       "      <td>1957</td>\n",
       "      <td>NaN</td>\n",
       "      <td>1941-11-18</td>\n",
       "      <td>M</td>\n",
       "      <td>1.730</td>\n",
       "      <td>/m/02w7gg</td>\n",
       "      <td>David Hemmings</td>\n",
       "      <td>15.0</td>\n",
       "      <td>/m/0g8ngmc</td>\n",
       "      <td>NaN</td>\n",
       "      <td>/m/022g44</td>\n",
       "    </tr>\n",
       "    <tr>\n",
       "      <th>450667</th>\n",
       "      <td>28308153</td>\n",
       "      <td>/m/0cp05t9</td>\n",
       "      <td>1957</td>\n",
       "      <td>NaN</td>\n",
       "      <td>NaN</td>\n",
       "      <td>NaN</td>\n",
       "      <td>NaN</td>\n",
       "      <td>NaN</td>\n",
       "      <td>Roberta Paterson</td>\n",
       "      <td>NaN</td>\n",
       "      <td>/m/0g8ngmj</td>\n",
       "      <td>NaN</td>\n",
       "      <td>/m/0g8ngmm</td>\n",
       "    </tr>\n",
       "    <tr>\n",
       "      <th>450668</th>\n",
       "      <td>28308153</td>\n",
       "      <td>/m/0cp05t9</td>\n",
       "      <td>1957</td>\n",
       "      <td>NaN</td>\n",
       "      <td>NaN</td>\n",
       "      <td>NaN</td>\n",
       "      <td>NaN</td>\n",
       "      <td>NaN</td>\n",
       "      <td>John Rogers</td>\n",
       "      <td>NaN</td>\n",
       "      <td>/m/0g8ngmw</td>\n",
       "      <td>NaN</td>\n",
       "      <td>/m/0btz19d</td>\n",
       "    </tr>\n",
       "  </tbody>\n",
       "</table>\n",
       "<p>450669 rows × 13 columns</p>\n",
       "</div>"
      ],
      "text/plain": [
       "        Wikipedia movie ID Freebase_movie_ID Movie_release_date  \\\n",
       "0                   975900         /m/03vyhn         2001-08-24   \n",
       "1                   975900         /m/03vyhn         2001-08-24   \n",
       "2                   975900         /m/03vyhn         2001-08-24   \n",
       "3                   975900         /m/03vyhn         2001-08-24   \n",
       "4                   975900         /m/03vyhn         2001-08-24   \n",
       "...                    ...               ...                ...   \n",
       "450664              913762         /m/03pcrp         1992-05-21   \n",
       "450665              913762         /m/03pcrp         1992-05-21   \n",
       "450666            28308153        /m/0cp05t9               1957   \n",
       "450667            28308153        /m/0cp05t9               1957   \n",
       "450668            28308153        /m/0cp05t9               1957   \n",
       "\n",
       "                    Character_name Actor_date_of_birth Actor_gender  \\\n",
       "0                         Akooshay          1958-08-26            F   \n",
       "1       Lieutenant Melanie Ballard          1974-08-15            F   \n",
       "2              Desolation Williams          1969-06-15            M   \n",
       "3               Sgt Jericho Butler          1967-09-12            M   \n",
       "4                  Bashira Kincaid          1977-09-25            F   \n",
       "...                            ...                 ...          ...   \n",
       "450664                      Elensh             1970-05            F   \n",
       "450665                      Hibiki          1965-04-12            M   \n",
       "450666                         NaN          1941-11-18            M   \n",
       "450667                         NaN                 NaN          NaN   \n",
       "450668                         NaN                 NaN          NaN   \n",
       "\n",
       "        Actor_height_(in_meters) Actor_ethnicity_(Freebase_ID)  \\\n",
       "0                          1.620                           NaN   \n",
       "1                          1.780                    /m/044038p   \n",
       "2                          1.727                       /m/0x67   \n",
       "3                          1.750                           NaN   \n",
       "4                          1.650                           NaN   \n",
       "...                          ...                           ...   \n",
       "450664                       NaN                           NaN   \n",
       "450665                       NaN                           NaN   \n",
       "450666                     1.730                     /m/02w7gg   \n",
       "450667                       NaN                           NaN   \n",
       "450668                       NaN                           NaN   \n",
       "\n",
       "                Actor_name  Actor_age_at_movie_release  \\\n",
       "0           Wanda De Jesus                        42.0   \n",
       "1       Natasha Henstridge                        27.0   \n",
       "2                 Ice Cube                        32.0   \n",
       "3            Jason Statham                        33.0   \n",
       "4              Clea DuVall                        23.0   \n",
       "...                    ...                         ...   \n",
       "450664  Dorothy Elias-Fahn                         NaN   \n",
       "450665       Jonathan Fahn                        27.0   \n",
       "450666      David Hemmings                        15.0   \n",
       "450667    Roberta Paterson                         NaN   \n",
       "450668         John Rogers                         NaN   \n",
       "\n",
       "       Freebase_character/actor_map_ID Freebase_character_ID Freebase_actor_ID  \n",
       "0                           /m/0bgchxw            /m/0bgcj3x        /m/03wcfv7  \n",
       "1                            /m/0jys3m            /m/0bgchn4         /m/0346l4  \n",
       "2                            /m/0jys3g            /m/0bgchn_        /m/01vw26l  \n",
       "3                           /m/02vchl6            /m/0bgchnq         /m/034hyc  \n",
       "4                           /m/02vbb3r            /m/0bgchp9         /m/01y9xg  \n",
       "...                                ...                   ...               ...  \n",
       "450664                      /m/0kr406c            /m/0kr406h         /m/0b_vcv  \n",
       "450665                      /m/0kr405_            /m/0kr4090         /m/0bx7_j  \n",
       "450666                      /m/0g8ngmc                   NaN         /m/022g44  \n",
       "450667                      /m/0g8ngmj                   NaN        /m/0g8ngmm  \n",
       "450668                      /m/0g8ngmw                   NaN        /m/0btz19d  \n",
       "\n",
       "[450669 rows x 13 columns]"
      ]
     },
     "execution_count": 22,
     "metadata": {},
     "output_type": "execute_result"
    }
   ],
   "source": [
    "character_data"
   ]
  },
  {
   "cell_type": "markdown",
   "id": "8919431c",
   "metadata": {},
   "source": [
    "# 1. Data Analysis"
   ]
  },
  {
   "cell_type": "markdown",
   "id": "137efbae",
   "metadata": {},
   "source": [
    "Firstly, we perform an exploratory data analysis. We focus on a variety of characteristics - such as genre, release time, translations, and lead actors' age and gender - to determine their impact on a film's revenue. By examining five historical periods, we trace how these factors’ influence on box-office success has evolved, reflecting broader societal, political, and historical changes."
   ]
  },
  {
   "cell_type": "markdown",
   "id": "05703b81",
   "metadata": {},
   "source": [
    "## 1.1 Analysis per Year"
   ]
  },
  {
   "cell_type": "markdown",
   "id": "032868ef",
   "metadata": {},
   "source": [
    "We start by analyzing the number of films and box-office revenues over the entire study period to understand how the role of movie productions has evolved over time."
   ]
  },
  {
   "cell_type": "markdown",
   "id": "03956e3d",
   "metadata": {},
   "source": [
    "### 1.1.1  Number of movies per Year"
   ]
  },
  {
   "cell_type": "markdown",
   "id": "5ef136b6",
   "metadata": {},
   "source": [
    "Firstly, we can observe that the number of movies has increased over the years,suggesting a growth of film production worldwide."
   ]
  },
  {
   "cell_type": "code",
   "execution_count": 23,
   "id": "e25080b4",
   "metadata": {},
   "outputs": [
    {
     "data": {
      "image/png": "[encoded data removed]",
      "text/plain": [
       "<Figure size 600x400 with 1 Axes>"
      ]
     },
     "metadata": {},
     "output_type": "display_data"
    }
   ],
   "source": [
    "md_number = movie_data.copy()\n",
    "movies_per_year = md_number['Year'].value_counts().sort_index()\n",
    "\n",
    "plt.figure(figsize=(6, 4))\n",
    "plt.plot(movies_per_year.index, movies_per_year.values, linestyle='-', color='teal')\n",
    "plt.fill_between(movies_per_year.index, movies_per_year.values, color='teal', alpha=0.5)\n",
    "plt.xlabel(\"Year\")\n",
    "plt.ylabel(\"Number of Movies\")\n",
    "plt.title(\"Evolution of Number of Movies per Year\")\n",
    "plt.show()"
   ]
  },
  {
   "cell_type": "markdown",
   "id": "0f6881e0",
   "metadata": {},
   "source": [
    "### 1.1.2 Box Office Revenue per Year"
   ]
  },
  {
   "cell_type": "markdown",
   "id": "c1edcbcc",
   "metadata": {},
   "source": [
    "In this section, the plot shows the evolution of mean box office revenue over the years. The black line represents the mean revenue over time, while the shaded blue area indicates the variability or spread around this mean. \n",
    "\n",
    "Initially, from 1915 to around 1950, box office revenue remains relatively low and stable. Starting in the 1950s, however, we observe a gradual upward trend, reflecting increased box office revenue, likely driven by the growing popularity of cinema, advancements in film production, and the post-war economic boom. \n",
    "\n",
    "From the 1970s onward, the revenue shows more pronounced growth, with increased variability. Indeed, this period corresponds to changes in distribution methods and the impact of global markets. The trend indicates that while the film industry has become more profitable over time, it has also become more volatile, suggesting some films achieving massive box office success while others underperform."
   ]
  },
  {
   "cell_type": "code",
   "execution_count": 24,
   "id": "de375eef",
   "metadata": {},
   "outputs": [
    {
     "data": {
      "text/plain": [
       "<matplotlib.collections.PolyCollection at 0x3183cdcd0>"
      ]
     },
     "execution_count": 24,
     "metadata": {},
     "output_type": "execute_result"
    },
    {
     "data": {
      "image/png": "[encoded data removed]",
      "text/plain": [
       "<Figure size 640x480 with 1 Axes>"
      ]
     },
     "metadata": {},
     "output_type": "display_data"
    }
   ],
   "source": [
    "## Calculate the average and standard deviation of the box office revenue per year\n",
    "\n",
    "stats_per_year = md_number.groupby(by='Year')['Movie_box_office_revenue'].agg(\n",
    "    average='mean',\n",
    "    std_dev='std'\n",
    ").dropna()\n",
    "\n",
    "ax = stats_per_year.average.plot(xlim=(1910,2023),xticks=range(1895,2023,10),title='Evolution of Box Office mean Revenue',ylabel='Box office Revenue (in hundreds of Millions)',color='black')\n",
    "plt.fill_between(stats_per_year.index, stats_per_year.average - stats_per_year.std_dev,\n",
    "                 stats_per_year.average + stats_per_year.std_dev, alpha = 0.5, color = 'skyblue')"
   ]
  },
  {
   "cell_type": "markdown",
   "id": "2a6dcc66",
   "metadata": {},
   "source": [
    "## 1.2 Analysis per Country"
   ]
  },
  {
   "cell_type": "markdown",
   "id": "fe11fce5",
   "metadata": {},
   "source": [
    "In this section, we analyze the number of movies, box-office revenues, and film ratings by country to understand cultural preferences, evaluate the impact of international markets, detect success disparities, observe the evolution of the global film industry, and identify the factors that contribute to a film's success."
   ]
  },
  {
   "cell_type": "code",
   "execution_count": 25,
   "id": "39b3ea3a",
   "metadata": {},
   "outputs": [],
   "source": [
    "with open(pickle_folder + 'movies_countries_exploded.p', 'rb') as f:\n",
    "    md_countries = pickle.load(f)"
   ]
  },
  {
   "cell_type": "markdown",
   "id": "28c4b8b6",
   "metadata": {},
   "source": [
    "### 1.2.1 Number of Movies per Country"
   ]
  },
  {
   "cell_type": "markdown",
   "id": "eaae26ad",
   "metadata": {},
   "source": [
    "The United States of America leads by a significant margin, with over 30,000 movies, far surpassing other countries. India follows, but with much lower numbers, while the United Kingdom, France, and Italy are also prominent."
   ]
  },
  {
   "cell_type": "code",
   "execution_count": 26,
   "id": "b9b433c0",
   "metadata": {},
   "outputs": [
    {
     "data": {
      "image/png": "[encoded data removed]",
      "text/plain": [
       "<Figure size 800x300 with 1 Axes>"
      ]
     },
     "metadata": {},
     "output_type": "display_data"
    }
   ],
   "source": [
    "top_countries = md_countries.value_counts('Countries').head(10)\n",
    "\n",
    "plt.figure(figsize=(8, 3))\n",
    "sns.barplot(y=top_countries.index, x=top_countries.values, palette=\"viridis\",hue=top_countries.index)\n",
    "plt.title('Top 10 Most Frequent Movie Countries')\n",
    "plt.xlabel('Number of Movies')\n",
    "plt.ylabel('Country')\n",
    "plt.tight_layout()\n",
    "plt.show()"
   ]
  },
  {
   "cell_type": "markdown",
   "id": "579ddaa2",
   "metadata": {},
   "source": [
    "Additionally, we analyze the 10 most frequent countries in film production over a 20-year interval:"
   ]
  },
  {
   "cell_type": "code",
   "execution_count": 27,
   "id": "ff999e71",
   "metadata": {},
   "outputs": [
    {
     "data": {
      "image/png": "[encoded data removed]",
      "text/plain": [
       "<Figure size 800x500 with 1 Axes>"
      ]
     },
     "metadata": {},
     "output_type": "display_data"
    }
   ],
   "source": [
    "ax = top_n_by_interval('Countries',md_countries)"
   ]
  },
  {
   "cell_type": "markdown",
   "id": "6671b784",
   "metadata": {},
   "source": [
    "### 1.2.2 Box Office Revenue and Average Rating per Country"
   ]
  },
  {
   "cell_type": "markdown",
   "id": "628989ad",
   "metadata": {},
   "source": [
    "The figure below contains two bar plots: \n",
    "- Left Plot (Average IMDb Rating by Country): This plot shows the top 10 countries by average IMDb rating.\n",
    "- Right Plot (Average Box Office Revenue by Country): This plot shows the top 10 countries by average box office revenue, displayed on a logarithmic scale.\n",
    "\n",
    "Interestingly, major film-producing countries, like the United States or India, are not present in this top 10 list for box office revenue, while countries like New Zealand, Czech Republic, and the United Arab Emirates appear.\n",
    "\n",
    "Some factors could explain why some lesser-known film-producing countries appear at the top for average IMDb ratings or box office revenue, rather than countries with traditionally large film industries:\n",
    "- Small Sample Size: Countries with fewer film productions might have a few well-rated or high-revenue films that skew the averages.\n",
    "- High-Profile Productions: Some of these countries may not have large film industries, but they could have hosted high-budget international productions that brought in significant revenue or received favorable ratings.\n",
    "- Cultural Biases in Ratings: IMDb ratings are user-generated, which can introduce cultural biases."
   ]
  },
  {
   "cell_type": "code",
   "execution_count": null,
   "id": "bb29e3f4",
   "metadata": {},
   "outputs": [],
   "source": [
    "md_countries = md_countries.dropna(subset=['Movie_box_office_revenue'])\n",
    "\n",
    "country_revenue = md_countries.groupby('Countries').agg({\n",
    "    'averageRating': 'mean',\n",
    "    'numVotes': 'mean',\n",
    "    'Movie_box_office_revenue': 'mean'\n",
    "})\n",
    "\n",
    "# Plot \n",
    "fig, axs = plt.subplots(1, 2, figsize=(18, 8))\n",
    "country_revenue = country_revenue.sort_values(by='averageRating', ascending=False)\n",
    "\n",
    "# Average imdb rating by Language\n",
    "sns.barplot(x=country_revenue.head(10).index, y=country_revenue.head(10)['averageRating'], ax=axs[0], palette='viridis', hue=country_revenue.head(10).index)    \n",
    "axs[0].set_title('Average IMDb Rating by Country')\n",
    "axs[0].set_xlabel('Country')\n",
    "axs[0].set_ylabel('Average Rating')\n",
    "axs[0].tick_params(axis='x', rotation=90)  \n",
    "\n",
    "country_revenue = country_revenue.sort_values(by='Movie_box_office_revenue', ascending=False).head(10)\n",
    "\n",
    "# Average box office revenue by Language\n",
    "sns.barplot(x=country_revenue.head(10).index, y=country_revenue.head(10)['Movie_box_office_revenue'], ax=axs[1], palette='Greens_r', hue=country_revenue.head(10).index)\n",
    "axs[1].set_title('Average Box Office Revenue by Country')\n",
    "axs[1].set_xlabel('Country')\n",
    "axs[1].set_ylabel('Box Office Revenue (log scale)')\n",
    "axs[1].set_yscale('log')\n",
    "axs[1].tick_params(axis='x', rotation=90)  \n",
    "plt.tight_layout()\n",
    "plt.show()"
   ]
  },
  {
   "cell_type": "markdown",
   "id": "ef36e1de",
   "metadata": {},
   "source": [
    "## 1.3 Analysis per Genre"
   ]
  },
  {
   "cell_type": "markdown",
   "id": "ca1b6090",
   "metadata": {},
   "source": [
    "In this third part, we delve into the analysis of movies based on their genres. We start by examining the number of movies produced per genre, identifying the most popular genres over time. This is followed by an analysis of the box office revenue and average ratings for each genre, providing insights into the financial success and audience reception of different types of films. By exploring these aspects, we aim to uncover trends and patterns in genre popularity and success, offering a comprehensive understanding of how genre influences the film industry."
   ]
  },
  {
   "cell_type": "code",
   "execution_count": null,
   "id": "8d58166a",
   "metadata": {},
   "outputs": [],
   "source": [
    "with open(pickle_folder + 'movies_genres_ratings.p', 'rb') as f:\n",
    "    md_Genres = pickle.load(f)"
   ]
  },
  {
   "cell_type": "markdown",
   "id": "96afbaee",
   "metadata": {},
   "source": [
    "### 1.3.1 Number of Movies per Genre"
   ]
  },
  {
   "cell_type": "markdown",
   "id": "a2734963",
   "metadata": {},
   "source": [
    "The plot of the number of movies per genre highlights that drama, comedy, and romance have a strong foothold in the film industry, while there is also significant production across other genres to meet different audience preferences."
   ]
  },
  {
   "cell_type": "code",
   "execution_count": null,
   "id": "3f280daf-83ee-4ac7-92fd-6e7b67c06e30",
   "metadata": {},
   "outputs": [],
   "source": [
    "# Select the top 30 genres\n",
    "top_genres = md_Genres.value_counts('Genres').head(30)\n",
    "\n",
    "plt.figure(figsize=(7, 6))\n",
    "sns.barplot(y=top_genres.index, x=top_genres.values, palette=\"viridis\",hue=top_genres.index)\n",
    "plt.title('Top Most Frequent Movie Genres')\n",
    "plt.xlabel('Number of Movies')\n",
    "plt.ylabel('Genre')\n",
    "plt.tight_layout()\n",
    "plt.show()"
   ]
  },
  {
   "cell_type": "markdown",
   "id": "12761bd5",
   "metadata": {},
   "source": [
    "Analyzing the 10 most frequent Genres in Intervals of 20 Years, we observe that \"Drama\" has consistently been the dominant genre across all intervals, indicating a stable audience preference for dramatic storytelling over the years. \"Comedy\" and \"Romance Film\" also feature prominently in each interval, highlighting their long-standing popularity. However, there are noticeable shifts in other genres; for example, \"Black-and-white\" films were more common in the earlier intervals (1910-1930 and 1930-1950) but diminish in later years, reflecting the evolution of film technology and color becoming the standard. The presence of genres like \"Thriller,\" \"Action,\" and \"World Cinema\" increases in the latter half of the 20th century, likely due to globalization and the rise of more diverse storytelling."
   ]
  },
  {
   "cell_type": "code",
   "execution_count": null,
   "id": "cf5bb6e2",
   "metadata": {},
   "outputs": [],
   "source": [
    "ax = top_n_by_interval('Genres',md_Genres)"
   ]
  },
  {
   "cell_type": "markdown",
   "id": "d12160e7",
   "metadata": {},
   "source": [
    "### 1.3.2 Box Office Revenue and Average Rating per Genre"
   ]
  },
  {
   "cell_type": "markdown",
   "id": "91a16da2",
   "metadata": {},
   "source": [
    "Additionally, we analyze the box office revenue and average IMDb ratings for different movie genres to discover insights into the relationship between them, helping us identify trends and patterns."
   ]
  },
  {
   "cell_type": "code",
   "execution_count": null,
   "id": "68a4f268",
   "metadata": {},
   "outputs": [],
   "source": [
    "genre_stats = md_Genres.groupby('Genres').agg({\n",
    "    'averageRating': 'mean',\n",
    "    'numVotes': 'mean',\n",
    "    'Movie_box_office_revenue': 'mean'\n",
    "})\n",
    "\n",
    "fig, axs = plt.subplots(1, 2, figsize=(18, 8))\n",
    "\n",
    "# Average IMDb rating by Genre (Left plot)\n",
    "genre_stats = genre_stats.sort_values(by='averageRating', ascending=False)\n",
    "sns.barplot(x=genre_stats.head(15).index, y=genre_stats.head(15)['averageRating'], ax=axs[0], palette='viridis', hue=genre_stats.head(15).index)\n",
    "axs[0].set_title(\"Top 15 Average Rating by Genre\")\n",
    "axs[0].set_xlabel(\"Genre\")\n",
    "axs[0].set_ylabel(\"Average Rating\")\n",
    "axs[0].tick_params(axis='x', rotation=90)  \n",
    "\n",
    "# Average box office revenue by Genre (Right plot)\n",
    "genre_stats = genre_stats.sort_values(by='Movie_box_office_revenue', ascending=False)\n",
    "sns.barplot(x=genre_stats.head(15).index, y=genre_stats.head(15)['Movie_box_office_revenue'], ax=axs[1], palette='Blues_r', hue=genre_stats.head(15).index)\n",
    "axs[1].set_title(\"Top 15 Average Box Office Revenue by Genre\")\n",
    "axs[1].set_xlabel(\"Genre\")\n",
    "axs[1].set_ylabel(\"Average Revenue ($)\")\n",
    "axs[1].set_yscale('log')\n",
    "axs[1].tick_params(axis='x', rotation=90)  \n",
    "\n",
    "plt.tight_layout()\n",
    "plt.show()\n"
   ]
  },
  {
   "cell_type": "code",
   "execution_count": null,
   "id": "b54306b5",
   "metadata": {},
   "outputs": [],
   "source": [
    "ax = top_n_total_revenue('Genres', md_Genres)"
   ]
  },
  {
   "cell_type": "code",
   "execution_count": null,
   "id": "8019d075",
   "metadata": {},
   "outputs": [],
   "source": [
    "ax = top_n_by_interval('Genres',md_Genres, revenue=True)"
   ]
  },
  {
   "cell_type": "markdown",
   "id": "9b42c301",
   "metadata": {},
   "source": [
    "## 1.4 Analysis per Release Season"
   ]
  },
  {
   "cell_type": "markdown",
   "id": "071073c3",
   "metadata": {},
   "source": [
    "In this section, we examine the impact of the release season on the number of movies produced and their box office revenues. This analysis provides insights into how the strategic timing, like holidays, of a movie's release can affect its performance at the box office."
   ]
  },
  {
   "cell_type": "code",
   "execution_count": null,
   "id": "7859c27d",
   "metadata": {},
   "outputs": [],
   "source": [
    "with open(pickle_folder + 'movies_season_ratings.p', 'rb') as f:\n",
    "    movies_season = pickle.load(f)"
   ]
  },
  {
   "cell_type": "markdown",
   "id": "34bb8482",
   "metadata": {},
   "source": [
    "### 1.4.1 Number of Movies per Release Season"
   ]
  },
  {
   "cell_type": "code",
   "execution_count": null,
   "id": "a1847902-8b6c-4799-88ba-0cb4e5ea9be6",
   "metadata": {},
   "outputs": [],
   "source": [
    "plt.figure(figsize=(7, 4))\n",
    "\n",
    "yearly_counts = movies_season.value_counts('release_season')\n",
    "\n",
    "ax = sns.barplot(x=yearly_counts.index, y=yearly_counts.values)\n",
    "plt.title('Total Number of film per season', fontsize=14, pad=15)\n",
    "plt.xlabel('Season', fontsize=12)\n",
    "plt.ylabel('Number of Movies', fontsize=12)\n",
    "\n",
    "for i, v in enumerate(yearly_counts.values):\n",
    "    ax.text(i, v + 1, str(v), \n",
    "            ha='center', \n",
    "            va='bottom',\n",
    "            fontsize=10)\n",
    "\n",
    "plt.tight_layout()\n",
    "\n",
    "plt.show()"
   ]
  },
  {
   "cell_type": "code",
   "execution_count": null,
   "id": "33520eec",
   "metadata": {},
   "outputs": [],
   "source": [
    "ax = top_n_by_interval('release_season',movies_season,n=4)"
   ]
  },
  {
   "cell_type": "markdown",
   "id": "8dfe44c1",
   "metadata": {},
   "source": [
    "### 1.4.2 Box Office Revenue per Release Season"
   ]
  },
  {
   "cell_type": "code",
   "execution_count": null,
   "id": "e6bb5734",
   "metadata": {},
   "outputs": [],
   "source": [
    "release_season_stats = movies_season.groupby('release_season')['Movie_box_office_revenue'].agg(['mean', 'sem']).sort_values(by='mean')\n",
    "# Print the average revenues by season\n",
    "print(\"Average Box Office Revenue by Release Season:\")\n",
    "print(release_season_stats['mean'])\n",
    "\n",
    "# Plot the average revenues with standard error bars\n",
    "plt.figure(figsize=(6, 4))\n",
    "plt.bar(release_season_stats.index, release_season_stats['mean'], yerr=release_season_stats['sem'], color=['orange', 'skyblue', 'lightgreen', 'gold'], capsize=5)\n",
    "plt.title('Average Box Office Revenue by Release Season with Standard Error')\n",
    "plt.xlabel('Release Season')\n",
    "plt.ylabel('Average Revenue ($)')\n",
    "plt.xticks(rotation=45)\n",
    "plt.show()"
   ]
  },
  {
   "cell_type": "code",
   "execution_count": null,
   "id": "91aaa00e-8e98-47f1-a726-f2dd537d1992",
   "metadata": {},
   "outputs": [],
   "source": [
    "ax = top_n_by_interval('release_season',movies_season,n=4, revenue=True)"
   ]
  },
  {
   "cell_type": "markdown",
   "id": "b85b1704-5c14-4438-9873-fe0c2cdfe80b",
   "metadata": {},
   "source": [
    "## 1.5. Analysis per Language"
   ]
  },
  {
   "cell_type": "code",
   "execution_count": null,
   "id": "6d066217-0fb5-4150-a1a2-7488478cb9fc",
   "metadata": {},
   "outputs": [],
   "source": [
    "with open(pickle_folder + 'movies_languages_exploded_ratings.p', 'rb') as f:\n",
    "    movies_languages = pickle.load(f)"
   ]
  },
  {
   "cell_type": "code",
   "execution_count": null,
   "id": "bf2705b3-7e5b-49a6-bcf2-b82001b51d68",
   "metadata": {},
   "outputs": [],
   "source": [
    "# top 10 languages \n",
    "top_languages = movies_languages['Language'].value_counts().head(10)\n",
    "\n",
    "# Plot \n",
    "plt.figure(figsize=(10, 6))\n",
    "sns.barplot(x=top_languages.index, y=top_languages.values)\n",
    "plt.title('Top 10 Languages in All Films')\n",
    "plt.xlabel('Language')\n",
    "plt.ylabel('Number of Films')\n",
    "plt.xticks(rotation=90)  \n",
    "plt.show()"
   ]
  },
  {
   "cell_type": "code",
   "execution_count": null,
   "id": "6f3d5f40-8dae-4ec4-b6d5-89addbfd9b68",
   "metadata": {},
   "outputs": [],
   "source": [
    "top_language_data = movies_languages[movies_languages['Language'].isin(top_languages.index)]\n",
    "\n",
    "language_success = top_language_data.groupby('Language').agg({\n",
    "    'averageRating': 'mean',\n",
    "    'numVotes': 'mean',\n",
    "    'Movie_box_office_revenue': 'mean'\n",
    "}).sort_values(by='averageRating', ascending=False)\n",
    "\n",
    "fig, axs = plt.subplots(1, 2, figsize=(18, 6))\n",
    "\n",
    "# Average imdb rating by Language\n",
    "sns.barplot(x=language_success.index, y=language_success['averageRating'], ax=axs[0])\n",
    "axs[0].set_title('Average IMDb Rating by Language')\n",
    "axs[0].set_xlabel('Language')\n",
    "axs[0].set_ylabel('Average Rating')\n",
    "axs[0].tick_params(axis='x', rotation=90)  \n",
    "\n",
    "# Average box office revenue by Language\n",
    "sns.barplot(x=language_success.index, y=language_success['Movie_box_office_revenue'], ax=axs[1])\n",
    "axs[1].set_title('Average Box Office Revenue by Language')\n",
    "axs[1].set_xlabel('Language')\n",
    "axs[1].set_ylabel('Box Office Revenue (log scale)')\n",
    "axs[1].set_yscale('log')\n",
    "axs[1].tick_params(axis='x', rotation=90)  \n",
    "\n",
    "plt.tight_layout()\n",
    "plt.show()"
   ]
  },
  {
   "cell_type": "markdown",
   "id": "ad0df10a",
   "metadata": {},
   "source": [
    "## 1.6. Analysis of the Age and Gender of Actors"
   ]
  },
  {
   "cell_type": "markdown",
   "id": "20fbf0af",
   "metadata": {},
   "source": []
  }
 ],
 "metadata": {
  "kernelspec": {
   "display_name": "Python 3 (ipykernel)",
   "language": "python",
   "name": "python3"
  },
  "language_info": {
   "codemirror_mode": {
    "name": "ipython",
    "version": 3
   },
   "file_extension": ".py",
   "mimetype": "text/x-python",
   "name": "python",
   "nbconvert_exporter": "python",
   "pygments_lexer": "ipython3",
   "version": "3.11.9"
  }
 },
 "nbformat": 4,
 "nbformat_minor": 5
}
